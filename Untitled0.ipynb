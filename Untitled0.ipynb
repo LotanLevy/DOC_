{
  "nbformat": 4,
  "nbformat_minor": 0,
  "metadata": {
    "colab": {
      "name": "Untitled0.ipynb",
      "provenance": [],
      "authorship_tag": "ABX9TyPANHoLl8MwhhT6sKt1GaeC",
      "include_colab_link": true
    },
    "kernelspec": {
      "name": "python3",
      "display_name": "Python 3"
    },
    "accelerator": "GPU"
  },
  "cells": [
    {
      "cell_type": "markdown",
      "metadata": {
        "id": "view-in-github",
        "colab_type": "text"
      },
      "source": [
        "<a href=\"https://colab.research.google.com/github/LotanLevy/DOC_/blob/main/Untitled0.ipynb\" target=\"_parent\"><img src=\"https://colab.research.google.com/assets/colab-badge.svg\" alt=\"Open In Colab\"/></a>"
      ]
    },
    {
      "cell_type": "code",
      "metadata": {
        "id": "CIRBtlfjZCDq"
      },
      "source": [
        "pip install tensorflow-gpu==2.3.0"
      ],
      "execution_count": null,
      "outputs": []
    },
    {
      "cell_type": "code",
      "metadata": {
        "id": "Sy_8DBwzbb-8",
        "outputId": "e098f6d4-766f-4f0d-ac79-6b70e6c46e2b",
        "colab": {
          "base_uri": "https://localhost:8080/"
        }
      },
      "source": [
        "from google.colab import drive\n",
        "drive.mount('/content/drive')"
      ],
      "execution_count": 2,
      "outputs": [
        {
          "output_type": "stream",
          "text": [
            "Mounted at /content/drive\n"
          ],
          "name": "stdout"
        }
      ]
    },
    {
      "cell_type": "code",
      "metadata": {
        "id": "PjNkU4uCbciS",
        "outputId": "1c6dc512-0aba-4ac3-f749-6014d2a177fb",
        "colab": {
          "base_uri": "https://localhost:8080/"
        }
      },
      "source": [
        "!git clone https://github.com/LotanLevy/DOC_"
      ],
      "execution_count": 3,
      "outputs": [
        {
          "output_type": "stream",
          "text": [
            "Cloning into 'DOC_'...\n",
            "remote: Enumerating objects: 206, done.\u001b[K\n",
            "remote: Counting objects: 100% (206/206), done.\u001b[K\n",
            "remote: Compressing objects: 100% (144/144), done.\u001b[K\n",
            "remote: Total 206 (delta 127), reused 122 (delta 57), pack-reused 0\u001b[K\n",
            "Receiving objects: 100% (206/206), 93.21 KiB | 7.17 MiB/s, done.\n",
            "Resolving deltas: 100% (127/127), done.\n"
          ],
          "name": "stdout"
        }
      ]
    },
    {
      "cell_type": "code",
      "metadata": {
        "id": "4Tz6H8HmeHvb",
        "outputId": "4a0b3d10-7c76-45c7-f007-0884baf1e393",
        "colab": {
          "base_uri": "https://localhost:8080/"
        }
      },
      "source": [
        "cd DOC_/\n"
      ],
      "execution_count": 4,
      "outputs": [
        {
          "output_type": "stream",
          "text": [
            "/content/DOC_\n"
          ],
          "name": "stdout"
        }
      ]
    },
    {
      "cell_type": "code",
      "metadata": {
        "id": "jCgRFCcaiOLY",
        "outputId": "0559f785-1d97-479f-d758-efff5e07c4ea",
        "colab": {
          "base_uri": "https://localhost:8080/"
        }
      },
      "source": [
        "!git pull"
      ],
      "execution_count": 12,
      "outputs": [
        {
          "output_type": "stream",
          "text": [
            "remote: Enumerating objects: 9, done.\u001b[K\n",
            "remote: Counting objects:  11% (1/9)\u001b[K\rremote: Counting objects:  22% (2/9)\u001b[K\rremote: Counting objects:  33% (3/9)\u001b[K\rremote: Counting objects:  44% (4/9)\u001b[K\rremote: Counting objects:  55% (5/9)\u001b[K\rremote: Counting objects:  66% (6/9)\u001b[K\rremote: Counting objects:  77% (7/9)\u001b[K\rremote: Counting objects:  88% (8/9)\u001b[K\rremote: Counting objects: 100% (9/9)\u001b[K\rremote: Counting objects: 100% (9/9), done.\u001b[K\n",
            "remote: Compressing objects: 100% (1/1)\u001b[K\rremote: Compressing objects: 100% (1/1), done.\u001b[K\n",
            "remote: Total 5 (delta 4), reused 5 (delta 4), pack-reused 0\u001b[K\n",
            "Unpacking objects:  20% (1/5)   \rUnpacking objects:  40% (2/5)   \rUnpacking objects:  60% (3/5)   \rUnpacking objects:  80% (4/5)   \rUnpacking objects: 100% (5/5)   \rUnpacking objects: 100% (5/5), done.\n",
            "From https://github.com/LotanLevy/DOC_\n",
            "   24f92de..a317d61  main       -> origin/main\n",
            "Updating 24f92de..a317d61\n",
            "Fast-forward\n",
            " train_main.py             |  2 \u001b[32m+\u001b[m\u001b[31m-\u001b[m\n",
            " utils/experiment_utils.py | 22 \u001b[32m++++++++++++++++++\u001b[m\u001b[31m----\u001b[m\n",
            " 2 files changed, 19 insertions(+), 5 deletions(-)\n"
          ],
          "name": "stdout"
        }
      ]
    },
    {
      "cell_type": "code",
      "metadata": {
        "id": "Ea1KiVPveYb-",
        "outputId": "2bbaf220-1a31-42c2-e20c-1b60bbefad1b",
        "colab": {
          "base_uri": "https://localhost:8080/",
          "height": 34
        }
      },
      "source": [
        "!ls"
      ],
      "execution_count": null,
      "outputs": [
        {
          "output_type": "stream",
          "text": [
            "DOC_  drive  sample_data\n"
          ],
          "name": "stdout"
        }
      ]
    },
    {
      "cell_type": "markdown",
      "metadata": {
        "id": "A2oqa8GaTwEI"
      },
      "source": [
        "Standard train"
      ]
    },
    {
      "cell_type": "code",
      "metadata": {
        "id": "L2OI1bq5bo4O"
      },
      "source": [
        "!python train_main.py --name=\"l2_lamb_1_ref_imagnet\" --ref_dir=\"/content/drive/My Drive/Colab Notebooks/affordances/datasets/imagenet_val_splitted\" --tar_dir=\"/content/drive/My Drive/Colab Notebooks/affordances/datasets/big_stab\" --alien_dir=\"/content/drive/My Drive/Colab Notebooks/affordances/datasets/big_aliens\" --output_path=\"/content/drive/My Drive/Colab Notebooks/affordances/experiments\" --alien_cls2label=\"/content/drive/My Drive/Colab Notebooks/affordances/datasets/big_alien_splitted_cls2label.txt\""
      ],
      "execution_count": null,
      "outputs": []
    },
    {
      "cell_type": "markdown",
      "metadata": {
        "id": "cJUrvcgiT3Jo"
      },
      "source": [
        "L1 train"
      ]
    },
    {
      "cell_type": "code",
      "metadata": {
        "id": "7DGvP1Dnr_EZ"
      },
      "source": [
        "!python train_main.py --name=\"l1_lamb_1_ref_imagnet_with_aug\" --use_aug=1 --c_loss_type=\"l1\" --ref_dir=\"/content/drive/My Drive/Colab Notebooks/affordances/datasets/imagenet_val_splitted\" --tar_dir=\"/content/drive/My Drive/Colab Notebooks/affordances/datasets/big_stab\" --alien_dir=\"/content/drive/My Drive/Colab Notebooks/affordances/datasets/big_aliens\" --output_path=\"/content/drive/My Drive/Colab Notebooks/affordances/experiments\" --alien_cls2label=\"/content/drive/My Drive/Colab Notebooks/affordances/datasets/big_alien_splitted_cls2label.txt\""
      ],
      "execution_count": null,
      "outputs": []
    },
    {
      "cell_type": "code",
      "metadata": {
        "id": "QBi4hk3rT0tp"
      },
      "source": [
        "!python train_main.py --name=\"l1_lamb_1_ref_imagnet_normal_var\" --c_loss_type=\"l1\" --ref_dir=\"/content/drive/My Drive/Colab Notebooks/affordances/datasets/imagenet_val_splitted\" --tar_dir=\"/content/drive/My Drive/Colab Notebooks/affordances/datasets/big_stab\" --alien_dir=\"/content/drive/My Drive/Colab Notebooks/affordances/datasets/big_aliens\" --output_path=\"/content/drive/My Drive/Colab Notebooks/affordances/experiments\" --alien_cls2label=\"/content/drive/My Drive/Colab Notebooks/affordances/datasets/big_alien_splitted_cls2label.txt\""
      ],
      "execution_count": null,
      "outputs": []
    },
    {
      "cell_type": "code",
      "metadata": {
        "id": "X0ai2iDnhTTH"
      },
      "source": [
        "!python train_main.py --name=\"l1_lamb_0.5_ref_imagnet_normal_var\" --c_loss_type=\"l0.5\" --ref_dir=\"/content/drive/My Drive/Colab Notebooks/affordances/datasets/imagenet_val_splitted\" --tar_dir=\"/content/drive/My Drive/Colab Notebooks/affordances/datasets/big_stab\" --alien_dir=\"/content/drive/My Drive/Colab Notebooks/affordances/datasets/big_aliens\" --output_path=\"/content/drive/My Drive/Colab Notebooks/affordances/experiments\" --alien_cls2label=\"/content/drive/My Drive/Colab Notebooks/affordances/datasets/big_alien_splitted_cls2label.txt\""
      ],
      "execution_count": null,
      "outputs": []
    },
    {
      "cell_type": "code",
      "metadata": {
        "id": "Vbn6v9QFi_0Z"
      },
      "source": [
        "!python train_main.py --name=\"l1_lamb_0.2_ref_imagnet_normal_var\" --c_loss_type=\"l0.2\" --ref_dir=\"/content/drive/My Drive/Colab Notebooks/affordances/datasets/imagenet_val_splitted\" --tar_dir=\"/content/drive/My Drive/Colab Notebooks/affordances/datasets/big_stab\" --alien_dir=\"/content/drive/My Drive/Colab Notebooks/affordances/datasets/big_aliens\" --output_path=\"/content/drive/My Drive/Colab Notebooks/affordances/experiments\" --alien_cls2label=\"/content/drive/My Drive/Colab Notebooks/affordances/datasets/big_alien_splitted_cls2label.txt\""
      ],
      "execution_count": null,
      "outputs": []
    },
    {
      "cell_type": "code",
      "metadata": {
        "id": "PvXyf6B8hTcF"
      },
      "source": [
        "!python train_main.py --name=\"l1_lamb_0.08_ref_imagnet_normal_var\" --c_loss_type=\"l0.08\" --ref_dir=\"/content/drive/My Drive/Colab Notebooks/affordances/datasets/imagenet_val_splitted\" --tar_dir=\"/content/drive/My Drive/Colab Notebooks/affordances/datasets/big_stab\" --alien_dir=\"/content/drive/My Drive/Colab Notebooks/affordances/datasets/big_aliens\" --output_path=\"/content/drive/My Drive/Colab Notebooks/affordances/experiments\" --alien_cls2label=\"/content/drive/My Drive/Colab Notebooks/affordances/datasets/big_alien_splitted_cls2label.txt\""
      ],
      "execution_count": null,
      "outputs": []
    },
    {
      "cell_type": "code",
      "metadata": {
        "id": "GQ_3DtL7hTkZ"
      },
      "source": [
        "!python train_main.py --name=\"l1_lamb_0.05_ref_imagnet_normal_var\" --c_loss_type=\"l0.05\" --ref_dir=\"/content/drive/My Drive/Colab Notebooks/affordances/datasets/imagenet_val_splitted\" --tar_dir=\"/content/drive/My Drive/Colab Notebooks/affordances/datasets/big_stab\" --alien_dir=\"/content/drive/My Drive/Colab Notebooks/affordances/datasets/big_aliens\" --output_path=\"/content/drive/My Drive/Colab Notebooks/affordances/experiments\" --alien_cls2label=\"/content/drive/My Drive/Colab Notebooks/affordances/datasets/big_alien_splitted_cls2label.txt\""
      ],
      "execution_count": null,
      "outputs": []
    },
    {
      "cell_type": "markdown",
      "metadata": {
        "id": "EO2gYo7NhdMZ"
      },
      "source": [
        "Reference data is now the target data"
      ]
    },
    {
      "cell_type": "code",
      "metadata": {
        "id": "4SLUBS5NhiCs"
      },
      "source": [
        "!python train_main.py --name=\"l2_lamb_1_ref_is_tar\" --cls_num=12 --ref_dir=\"/content/drive/My Drive/Colab Notebooks/affordances/datasets/big_stab\" --tar_dir=\"/content/drive/My Drive/Colab Notebooks/affordances/datasets/big_stab\" --alien_dir=\"/content/drive/My Drive/Colab Notebooks/affordances/datasets/big_aliens\" --output_path=\"/content/drive/My Drive/Colab Notebooks/affordances/experiments\" --alien_cls2label=\"/content/drive/My Drive/Colab Notebooks/affordances/datasets/big_alien_splitted_cls2label.txt\""
      ],
      "execution_count": null,
      "outputs": []
    },
    {
      "cell_type": "code",
      "metadata": {
        "id": "k--fYCMLG7CV"
      },
      "source": [
        "!python train_main.py --name=\"l2_lamb_0_ref_is_tar\" --lambda_=0 --cls_num=12 --ref_dir=\"/content/drive/My Drive/Colab Notebooks/affordances/datasets/big_stab\" --tar_dir=\"/content/drive/My Drive/Colab Notebooks/affordances/datasets/big_stab\" --alien_dir=\"/content/drive/My Drive/Colab Notebooks/affordances/datasets/big_aliens\" --output_path=\"/content/drive/My Drive/Colab Notebooks/affordances/experiments\" --alien_cls2label=\"/content/drive/My Drive/Colab Notebooks/affordances/datasets/big_alien_splitted_cls2label.txt\""
      ],
      "execution_count": null,
      "outputs": []
    },
    {
      "cell_type": "code",
      "metadata": {
        "id": "ubesJARVHEe1"
      },
      "source": [
        "!python train_main.py --name=\"l1_lamb_0_ref_is_tar\" --lambda_=0 --c_loss_type=\"l1\" --cls_num=12 --ref_dir=\"/content/drive/My Drive/Colab Notebooks/affordances/datasets/big_stab\" --tar_dir=\"/content/drive/My Drive/Colab Notebooks/affordances/datasets/big_stab\" --alien_dir=\"/content/drive/My Drive/Colab Notebooks/affordances/datasets/big_aliens\" --output_path=\"/content/drive/My Drive/Colab Notebooks/affordances/experiments\" --alien_cls2label=\"/content/drive/My Drive/Colab Notebooks/affordances/datasets/big_alien_splitted_cls2label.txt\""
      ],
      "execution_count": null,
      "outputs": []
    },
    {
      "cell_type": "markdown",
      "metadata": {
        "id": "GD1gjVMbbB3U"
      },
      "source": [
        "fc1 features layer"
      ]
    },
    {
      "cell_type": "code",
      "metadata": {
        "id": "lXUzy8-VatE_"
      },
      "source": [
        "!python train_main.py --name=\"l2_lamb_1_ref_imagnet_features_is_fc1\" --target_layer=\"fc1\" --ref_dir=\"/content/drive/My Drive/Colab Notebooks/affordances/datasets/imagenet_val_splitted\" --tar_dir=\"/content/drive/My Drive/Colab Notebooks/affordances/datasets/big_stab\" --alien_dir=\"/content/drive/My Drive/Colab Notebooks/affordances/datasets/big_aliens\" --output_path=\"/content/drive/My Drive/Colab Notebooks/affordances/experiments\" --alien_cls2label=\"/content/drive/My Drive/Colab Notebooks/affordances/datasets/big_alien_splitted_cls2label.txt\""
      ],
      "execution_count": null,
      "outputs": []
    },
    {
      "cell_type": "markdown",
      "metadata": {
        "id": "MvEc9EwvUEff"
      },
      "source": [
        "Augmented Train "
      ]
    },
    {
      "cell_type": "code",
      "metadata": {
        "id": "xDmFyXf6hll8"
      },
      "source": [
        "!python preprocessing.py --images_dir=\"/content/drive/My Drive/Colab Notebooks/affordances/datasets/big_stab\" --output_path=\"/content/drive/My Drive/Colab Notebooks/affordances/datasets\""
      ],
      "execution_count": null,
      "outputs": []
    },
    {
      "cell_type": "code",
      "metadata": {
        "id": "1el0cCn5TmnX"
      },
      "source": [
        "!python train_main.py --name=\"l2_lamb_1_ref_imagnet_tar_augment\" --ref_dir=\"/content/drive/My Drive/Colab Notebooks/affordances/datasets/imagenet_val_splitted\" --tar_dir=\"/content/drive/My Drive/Colab Notebooks/affordances/datasets/big_stab_augmented\" --alien_dir=\"/content/drive/My Drive/Colab Notebooks/affordances/datasets/big_aliens\" --output_path=\"/content/drive/My Drive/Colab Notebooks/affordances/experiments\""
      ],
      "execution_count": null,
      "outputs": []
    },
    {
      "cell_type": "markdown",
      "metadata": {
        "id": "1hO8obsTykIo"
      },
      "source": [
        "Var reg"
      ]
    },
    {
      "cell_type": "code",
      "metadata": {
        "id": "LiG1KL41yleP"
      },
      "source": [
        "!python train_main.py --name=\"l1_lamb_1_var_reg_0.1_coeff\" --reg_coeff=0.1 --use_var_reg=1 --c_loss_type=\"l1\" --ref_dir=\"/content/drive/My Drive/Colab Notebooks/affordances/datasets/imagenet_val_splitted\" --tar_dir=\"/content/drive/My Drive/Colab Notebooks/affordances/datasets/big_stab\" --alien_dir=\"/content/drive/My Drive/Colab Notebooks/affordances/datasets/big_aliens\" --output_path=\"/content/drive/My Drive/Colab Notebooks/affordances/experiments\" --alien_cls2label=\"/content/drive/My Drive/Colab Notebooks/affordances/datasets/big_alien_splitted_cls2label.txt\""
      ],
      "execution_count": null,
      "outputs": []
    },
    {
      "cell_type": "code",
      "metadata": {
        "id": "hHu2OI4vziP5"
      },
      "source": [
        "!python train_main.py --name=\"l1_lamb_1_var_reg_0.5_coeff\" --reg_coeff=0.5 --use_var_reg=1 --c_loss_type=\"l1\" --ref_dir=\"/content/drive/My Drive/Colab Notebooks/affordances/datasets/imagenet_val_splitted\" --tar_dir=\"/content/drive/My Drive/Colab Notebooks/affordances/datasets/big_stab\" --alien_dir=\"/content/drive/My Drive/Colab Notebooks/affordances/datasets/big_aliens\" --output_path=\"/content/drive/My Drive/Colab Notebooks/affordances/experiments\" --alien_cls2label=\"/content/drive/My Drive/Colab Notebooks/affordances/datasets/big_alien_splitted_cls2label.txt\""
      ],
      "execution_count": null,
      "outputs": []
    },
    {
      "cell_type": "code",
      "metadata": {
        "id": "1vjRXdrezidA"
      },
      "source": [
        "!python train_main.py --name=\"l1_lamb_1_var_reg_1.0_coeff\" --reg_coeff=1.0 --use_var_reg=1 --c_loss_type=\"l1\" --ref_dir=\"/content/drive/My Drive/Colab Notebooks/affordances/datasets/imagenet_val_splitted\" --tar_dir=\"/content/drive/My Drive/Colab Notebooks/affordances/datasets/big_stab\" --alien_dir=\"/content/drive/My Drive/Colab Notebooks/affordances/datasets/big_aliens\" --output_path=\"/content/drive/My Drive/Colab Notebooks/affordances/experiments\" --alien_cls2label=\"/content/drive/My Drive/Colab Notebooks/affordances/datasets/big_alien_splitted_cls2label.txt\""
      ],
      "execution_count": null,
      "outputs": []
    },
    {
      "cell_type": "markdown",
      "metadata": {
        "id": "CNPWnXJY1Ttd"
      },
      "source": [
        "## **Tests**"
      ]
    },
    {
      "cell_type": "markdown",
      "metadata": {
        "id": "qwM6kbtO9IUE"
      },
      "source": [
        "Var regularization test"
      ]
    },
    {
      "cell_type": "code",
      "metadata": {
        "id": "VHz55f6b9OAz"
      },
      "source": [
        "!python test_main.py --name=\"var_regularization_comparisons\" --cam_grads_images --scores_graph --target2alien_roc --alien2alien_roc --output_path=\"/content/drive/My Drive/Colab Notebooks/affordances/doc_test_results\" --models_dirs=\"/content/drive/My Drive/Colab Notebooks/affordances/experiments/l1_lamb_1_var_reg_0.1_coeff\" --models_dirs=\"/content/drive/My Drive/Colab Notebooks/affordances/experiments/l1_lamb_1_var_reg_0.5_coeff\" --models_dirs=\"/content/drive/My Drive/Colab Notebooks/affordances/experiments/l1_lamb_1_var_reg_1.0_coeff\" --models_dirs=\"/content/drive/My Drive/Colab Notebooks/affordances/experiments/l1_lamb_1_ref_imagnet\""
      ],
      "execution_count": null,
      "outputs": []
    },
    {
      "cell_type": "markdown",
      "metadata": {
        "id": "K_Qs_LQj9Zmg"
      },
      "source": [
        "l2 comprarison"
      ]
    },
    {
      "cell_type": "code",
      "metadata": {
        "id": "g1_oGJZj1S2o"
      },
      "source": [
        "!python test_main.py --models_dirs=\"/content/drive/My Drive/Colab Notebooks/affordances/experiments/untrained_l2_ref_imagenet\" --models_dirs=\"/content/drive/My Drive/Colab Notebooks/affordances/experiments/l2_lamb_1_ref_imagnet\" --output_path=\"/content/drive/My Drive/Colab Notebooks/affordances/doc_test_results\" --name=\"l2_comparisons\" --cam_grads_images --scores_graph --target2alien_roc --alien2alien_roc "
      ],
      "execution_count": null,
      "outputs": []
    },
    {
      "cell_type": "markdown",
      "metadata": {
        "id": "xTKModib9dp6"
      },
      "source": [
        "l1 comparisons"
      ]
    },
    {
      "cell_type": "code",
      "metadata": {
        "id": "AKlKE9zH9ArR"
      },
      "source": [
        "!python test_main.py --models_dirs=\"/content/drive/My Drive/Colab Notebooks/affordances/experiments/untrained_l1_ref_imagenet\" --models_dirs=\"/content/drive/My Drive/Colab Notebooks/affordances/experiments/l1_lamb_1_ref_imagnet\" --models_dirs=\"/content/drive/My Drive/Colab Notebooks/affordances/experiments/l2_lamb_1_ref_imagnet\" --output_path=\"/content/drive/My Drive/Colab Notebooks/affordances/doc_test_results\" --name=\"l1_comparisons\" --cam_grads_images --scores_graph --target2alien_roc --alien2alien_roc "
      ],
      "execution_count": null,
      "outputs": []
    },
    {
      "cell_type": "code",
      "metadata": {
        "id": "vMb83WYGq9iW"
      },
      "source": [
        "!python test_main.py --models_dirs=\"/content/drive/My Drive/Colab Notebooks/affordances/experiments/l1_lamb_1_ref_imagnet_normal_var\" --models_dirs=\"/content/drive/My Drive/Colab Notebooks/affordances/experiments/l1_lamb_1_ref_imagnet\" --models_dirs=\"/content/drive/My Drive/Colab Notebooks/affordances/experiments/l2_lamb_1_ref_imagnet\" --output_path=\"/content/drive/My Drive/Colab Notebooks/affordances/doc_test_results\" --name=\"l1_comparisons_normal_and_not\" --cam_grads_images --scores_graph --target2alien_roc --alien2alien_roc "
      ],
      "execution_count": null,
      "outputs": []
    },
    {
      "cell_type": "code",
      "metadata": {
        "id": "029AN9xBzmjp"
      },
      "source": [
        "!python test_main.py --models_dirs=\"/content/drive/My Drive/Colab Notebooks/affordances/experiments/l0.08_lamb_1_ref_imagnet_normal\" --output_path=\"/content/drive/My Drive/Colab Notebooks/affordances/doc_test_results\" --name=\"test problem\" --cam_grads_images  "
      ],
      "execution_count": null,
      "outputs": []
    },
    {
      "cell_type": "markdown",
      "metadata": {
        "id": "i20M5kmLbmrR"
      },
      "source": [
        "Sparsity comparisons"
      ]
    },
    {
      "cell_type": "code",
      "metadata": {
        "id": "cdPcqQ1NbrJy"
      },
      "source": [
        "!python test_main.py --name=\"sparsity_comparisons\" --cam_grads_images --scores_graph --target2alien_roc --alien2alien_roc --output_path=\"/content/drive/My Drive/Colab Notebooks/affordances/doc_test_results\" --models_dirs=\"/content/drive/My Drive/Colab Notebooks/affordances/experiments/l1_lamb_1_ref_imagnet_normal\" --models_dirs=\"/content/drive/My Drive/Colab Notebooks/affordances/experiments/l0.5_lamb_1_ref_imagnet_normal\" --models_dirs=\"/content/drive/My Drive/Colab Notebooks/affordances/experiments/l0.2_lamb_1_ref_imagnet_normal\" --models_dirs=\"/content/drive/My Drive/Colab Notebooks/affordances/experiments/l0.05_lamb_1_ref_imagnet_normal\" --models_dirs=\"/content/drive/My Drive/Colab Notebooks/affordances/experiments/l0.08_lamb_1_ref_imagnet_normal\""
      ],
      "execution_count": null,
      "outputs": []
    },
    {
      "cell_type": "code",
      "metadata": {
        "id": "L5UlzEhrLcjY"
      },
      "source": [
        "!python test_main.py --name=\"sparsity_comparisons\" --cam_grads_images --output_path=\"/content/drive/My Drive/Colab Notebooks/affordances/doc_test_results\" --models_dirs=\"/content/drive/My Drive/Colab Notebooks/affordances/experiments/l1_lamb_1_ref_imagnet\" --models_dirs=\"/content/drive/My Drive/Colab Notebooks/affordances/experiments/l1_lamb_0.5_ref_imagnet\" --models_dirs=\"/content/drive/My Drive/Colab Notebooks/affordances/experiments/l1_lamb_0.2_ref_imagnet\" --models_dirs=\"/content/drive/My Drive/Colab Notebooks/affordances/experiments/l1_lamb_0.05_ref_imagnet\" --models_dirs=\"/content/drive/My Drive/Colab Notebooks/affordances/experiments/l1_lamb_0.08_ref_imagnet\""
      ],
      "execution_count": null,
      "outputs": []
    },
    {
      "cell_type": "markdown",
      "metadata": {
        "id": "_bprhzCZChsj"
      },
      "source": [
        "aigmentation test"
      ]
    },
    {
      "cell_type": "code",
      "metadata": {
        "id": "iguZ1mriB5zH",
        "outputId": "430e723a-e3ef-4f51-b175-53b449c9ebe7",
        "colab": {
          "base_uri": "https://localhost:8080/"
        }
      },
      "source": [
        "!python test_main.py --name=\"augmentation_comparisons\" --cam_grads_images --scores_graph --target2alien_roc --alien2alien_roc --output_path=\"/content/drive/My Drive/Colab Notebooks/affordances/doc_test_results\" --models_dirs=\"/content/drive/My Drive/Colab Notebooks/affordances/experiments/l1_lamb_1_ref_imagnet_with_aug\" --models_dirs=\"/content/drive/My Drive/Colab Notebooks/affordances/experiments/untrained_l1_ref_imagenet\" --models_dirs=\"/content/drive/My Drive/Colab Notebooks/affordances/experiments/l1_lamb_1_ref_imagnet\""
      ],
      "execution_count": 5,
      "outputs": [
        {
          "output_type": "stream",
          "text": [
            "2020-11-05 07:54:31.944856: I tensorflow/stream_executor/platform/default/dso_loader.cc:48] Successfully opened dynamic library libcudart.so.10.1\n",
            "Found 50000 images belonging to 1000 classes.\n",
            "Found 0 images belonging to 1000 classes.\n",
            "Found 3635 images belonging to 12 classes.\n",
            "Found 906 images belonging to 12 classes.\n",
            "Found 3786 images belonging to 26 classes.\n",
            "Found 0 images belonging to 26 classes.\n",
            "25000 0\n",
            "1818 453\n",
            "1893 0\n",
            "Network and dataloaders were created\n",
            "2020-11-05 07:58:01.036353: I tensorflow/stream_executor/platform/default/dso_loader.cc:48] Successfully opened dynamic library libcuda.so.1\n",
            "2020-11-05 07:58:01.094801: I tensorflow/stream_executor/cuda/cuda_gpu_executor.cc:982] successful NUMA node read from SysFS had negative value (-1), but there must be at least one NUMA node, so returning NUMA node zero\n",
            "2020-11-05 07:58:01.095460: I tensorflow/core/common_runtime/gpu/gpu_device.cc:1716] Found device 0 with properties: \n",
            "pciBusID: 0000:00:04.0 name: Tesla T4 computeCapability: 7.5\n",
            "coreClock: 1.59GHz coreCount: 40 deviceMemorySize: 14.73GiB deviceMemoryBandwidth: 298.08GiB/s\n",
            "2020-11-05 07:58:01.095512: I tensorflow/stream_executor/platform/default/dso_loader.cc:48] Successfully opened dynamic library libcudart.so.10.1\n",
            "2020-11-05 07:58:01.284047: I tensorflow/stream_executor/platform/default/dso_loader.cc:48] Successfully opened dynamic library libcublas.so.10\n",
            "2020-11-05 07:58:01.403880: I tensorflow/stream_executor/platform/default/dso_loader.cc:48] Successfully opened dynamic library libcufft.so.10\n",
            "2020-11-05 07:58:01.453673: I tensorflow/stream_executor/platform/default/dso_loader.cc:48] Successfully opened dynamic library libcurand.so.10\n",
            "2020-11-05 07:58:01.706490: I tensorflow/stream_executor/platform/default/dso_loader.cc:48] Successfully opened dynamic library libcusolver.so.10\n",
            "2020-11-05 07:58:01.762369: I tensorflow/stream_executor/platform/default/dso_loader.cc:48] Successfully opened dynamic library libcusparse.so.10\n",
            "2020-11-05 07:58:02.279082: I tensorflow/stream_executor/platform/default/dso_loader.cc:48] Successfully opened dynamic library libcudnn.so.7\n",
            "2020-11-05 07:58:02.279321: I tensorflow/stream_executor/cuda/cuda_gpu_executor.cc:982] successful NUMA node read from SysFS had negative value (-1), but there must be at least one NUMA node, so returning NUMA node zero\n",
            "2020-11-05 07:58:02.280041: I tensorflow/stream_executor/cuda/cuda_gpu_executor.cc:982] successful NUMA node read from SysFS had negative value (-1), but there must be at least one NUMA node, so returning NUMA node zero\n",
            "2020-11-05 07:58:02.280638: I tensorflow/core/common_runtime/gpu/gpu_device.cc:1858] Adding visible gpu devices: 0\n",
            "2020-11-05 07:58:02.281003: I tensorflow/core/platform/cpu_feature_guard.cc:142] This TensorFlow binary is optimized with oneAPI Deep Neural Network Library (oneDNN)to use the following CPU instructions in performance-critical operations:  AVX2 FMA\n",
            "To enable them in other operations, rebuild TensorFlow with the appropriate compiler flags.\n",
            "2020-11-05 07:58:02.286592: I tensorflow/core/platform/profile_utils/cpu_utils.cc:104] CPU Frequency: 2200000000 Hz\n",
            "2020-11-05 07:58:02.286804: I tensorflow/compiler/xla/service/service.cc:168] XLA service 0x30e1100 initialized for platform Host (this does not guarantee that XLA will be used). Devices:\n",
            "2020-11-05 07:58:02.286835: I tensorflow/compiler/xla/service/service.cc:176]   StreamExecutor device (0): Host, Default Version\n",
            "2020-11-05 07:58:02.416451: I tensorflow/stream_executor/cuda/cuda_gpu_executor.cc:982] successful NUMA node read from SysFS had negative value (-1), but there must be at least one NUMA node, so returning NUMA node zero\n",
            "2020-11-05 07:58:02.417195: I tensorflow/compiler/xla/service/service.cc:168] XLA service 0x30e1480 initialized for platform CUDA (this does not guarantee that XLA will be used). Devices:\n",
            "2020-11-05 07:58:02.417228: I tensorflow/compiler/xla/service/service.cc:176]   StreamExecutor device (0): Tesla T4, Compute Capability 7.5\n",
            "2020-11-05 07:58:02.417923: I tensorflow/stream_executor/cuda/cuda_gpu_executor.cc:982] successful NUMA node read from SysFS had negative value (-1), but there must be at least one NUMA node, so returning NUMA node zero\n",
            "2020-11-05 07:58:02.418507: I tensorflow/core/common_runtime/gpu/gpu_device.cc:1716] Found device 0 with properties: \n",
            "pciBusID: 0000:00:04.0 name: Tesla T4 computeCapability: 7.5\n",
            "coreClock: 1.59GHz coreCount: 40 deviceMemorySize: 14.73GiB deviceMemoryBandwidth: 298.08GiB/s\n",
            "2020-11-05 07:58:02.418564: I tensorflow/stream_executor/platform/default/dso_loader.cc:48] Successfully opened dynamic library libcudart.so.10.1\n",
            "2020-11-05 07:58:02.418612: I tensorflow/stream_executor/platform/default/dso_loader.cc:48] Successfully opened dynamic library libcublas.so.10\n",
            "2020-11-05 07:58:02.418639: I tensorflow/stream_executor/platform/default/dso_loader.cc:48] Successfully opened dynamic library libcufft.so.10\n",
            "2020-11-05 07:58:02.418663: I tensorflow/stream_executor/platform/default/dso_loader.cc:48] Successfully opened dynamic library libcurand.so.10\n",
            "2020-11-05 07:58:02.418686: I tensorflow/stream_executor/platform/default/dso_loader.cc:48] Successfully opened dynamic library libcusolver.so.10\n",
            "2020-11-05 07:58:02.418708: I tensorflow/stream_executor/platform/default/dso_loader.cc:48] Successfully opened dynamic library libcusparse.so.10\n",
            "2020-11-05 07:58:02.418731: I tensorflow/stream_executor/platform/default/dso_loader.cc:48] Successfully opened dynamic library libcudnn.so.7\n",
            "2020-11-05 07:58:02.418803: I tensorflow/stream_executor/cuda/cuda_gpu_executor.cc:982] successful NUMA node read from SysFS had negative value (-1), but there must be at least one NUMA node, so returning NUMA node zero\n",
            "2020-11-05 07:58:02.419468: I tensorflow/stream_executor/cuda/cuda_gpu_executor.cc:982] successful NUMA node read from SysFS had negative value (-1), but there must be at least one NUMA node, so returning NUMA node zero\n",
            "2020-11-05 07:58:02.420012: I tensorflow/core/common_runtime/gpu/gpu_device.cc:1858] Adding visible gpu devices: 0\n",
            "2020-11-05 07:58:02.420072: I tensorflow/stream_executor/platform/default/dso_loader.cc:48] Successfully opened dynamic library libcudart.so.10.1\n",
            "2020-11-05 07:58:03.180504: I tensorflow/core/common_runtime/gpu/gpu_device.cc:1257] Device interconnect StreamExecutor with strength 1 edge matrix:\n",
            "2020-11-05 07:58:03.180570: I tensorflow/core/common_runtime/gpu/gpu_device.cc:1263]      0 \n",
            "2020-11-05 07:58:03.180584: I tensorflow/core/common_runtime/gpu/gpu_device.cc:1276] 0:   N \n",
            "2020-11-05 07:58:03.180780: I tensorflow/stream_executor/cuda/cuda_gpu_executor.cc:982] successful NUMA node read from SysFS had negative value (-1), but there must be at least one NUMA node, so returning NUMA node zero\n",
            "2020-11-05 07:58:03.181463: I tensorflow/stream_executor/cuda/cuda_gpu_executor.cc:982] successful NUMA node read from SysFS had negative value (-1), but there must be at least one NUMA node, so returning NUMA node zero\n",
            "2020-11-05 07:58:03.181997: W tensorflow/core/common_runtime/gpu/gpu_bfc_allocator.cc:39] Overriding allow_growth setting because the TF_FORCE_GPU_ALLOW_GROWTH environment variable is set. Original config value was 0.\n",
            "2020-11-05 07:58:03.182038: I tensorflow/core/common_runtime/gpu/gpu_device.cc:1402] Created TensorFlow device (/job:localhost/replica:0/task:0/device:GPU:0 with 13936 MB memory) -> physical GPU (device: 0, name: Tesla T4, pci bus id: 0000:00:04.0, compute capability: 7.5)\n",
            "Downloading data from https://storage.googleapis.com/tensorflow/keras-applications/vgg16/vgg16_weights_tf_dim_ordering_tf_kernels.h5\n",
            "553467904/553467096 [==============================] - 2s 0us/step\n",
            "l1_lamb_1_ref_imagnet_with_aug's ckpts loaded\n",
            "Found 50000 images belonging to 1000 classes.\n",
            "Found 0 images belonging to 1000 classes.\n",
            "Found 3635 images belonging to 12 classes.\n",
            "Found 906 images belonging to 12 classes.\n",
            "Found 3786 images belonging to 26 classes.\n",
            "Found 0 images belonging to 26 classes.\n",
            "25000 0\n",
            "1818 453\n",
            "1893 0\n",
            "Network and dataloaders were created\n",
            "untrained_l1_ref_imagenet has not the required weights, loads imagenet weights only, instead\n",
            "Found 50000 images belonging to 1000 classes.\n",
            "Found 0 images belonging to 1000 classes.\n",
            "Found 3635 images belonging to 12 classes.\n",
            "Found 906 images belonging to 12 classes.\n",
            "Found 3786 images belonging to 26 classes.\n",
            "Found 0 images belonging to 26 classes.\n",
            "25000 0\n",
            "1818 453\n",
            "1893 0\n",
            "Network and dataloaders were created\n",
            "l1_lamb_1_ref_imagnet's ckpts loaded\n",
            "2020-11-05 08:02:00.339283: I tensorflow/stream_executor/platform/default/dso_loader.cc:48] Successfully opened dynamic library libcublas.so.10\n",
            "2020-11-05 08:02:01.759933: I tensorflow/stream_executor/platform/default/dso_loader.cc:48] Successfully opened dynamic library libcudnn.so.7\n",
            "<Figure size 640x480 with 1 Axes>\n",
            "<Figure size 640x480 with 1 Axes>\n",
            "<Figure size 640x480 with 1 Axes>\n",
            "<Figure size 640x480 with 1 Axes>\n",
            "<Figure size 640x480 with 1 Axes>\n",
            "<Figure size 640x480 with 1 Axes>\n",
            "<Figure size 640x480 with 1 Axes>\n",
            "<Figure size 640x480 with 1 Axes>\n",
            "<Figure size 640x480 with 1 Axes>\n",
            "<Figure size 640x480 with 1 Axes>\n",
            "<Figure size 640x480 with 1 Axes>\n",
            "<Figure size 640x480 with 1 Axes>\n",
            "<Figure size 640x480 with 1 Axes>\n",
            "<Figure size 640x480 with 1 Axes>\n",
            "<Figure size 640x480 with 1 Axes>\n",
            "<Figure size 640x480 with 1 Axes>\n",
            "<Figure size 640x480 with 1 Axes>\n",
            "<Figure size 640x480 with 1 Axes>\n",
            "{'l1_lamb_1_ref_imagnet_with_aug': 0.5218903422355652, 'untrained_l1_ref_imagenet': 1.0746994018554688, 'l1_lamb_1_ref_imagnet': 0.5189506411552429}\n",
            "tf.Tensor(0.23184185, shape=(), dtype=float32) [0.23184188]\n",
            "tf.Tensor(0.72495127, shape=(), dtype=float32) [0.72495115]\n",
            "tf.Tensor(0.24733591, shape=(), dtype=float32) [0.24733587]\n",
            "tf.Tensor(0.227121, shape=(), dtype=float32) [0.227121]\n",
            "tf.Tensor(0.8241369, shape=(), dtype=float32) [0.82413685]\n",
            "tf.Tensor(0.26706764, shape=(), dtype=float32) [0.26706764]\n",
            "tf.Tensor(0.52189004, shape=(), dtype=float32) [0.5218901]\n",
            "tf.Tensor(0.9953812, shape=(), dtype=float32) [0.99538118]\n",
            "tf.Tensor(0.4773616, shape=(), dtype=float32) [0.47736162]\n",
            "tf.Tensor(0.23597881, shape=(), dtype=float32) [0.23597881]\n",
            "tf.Tensor(0.75368166, shape=(), dtype=float32) [0.75368154]\n",
            "tf.Tensor(0.26921004, shape=(), dtype=float32) [0.26921004]\n",
            "tf.Tensor(0.23889355, shape=(), dtype=float32) [0.23889358]\n",
            "tf.Tensor(0.777614, shape=(), dtype=float32) [0.77761394]\n",
            "tf.Tensor(0.25306827, shape=(), dtype=float32) [0.2530683]\n",
            "tf.Tensor(0.32081968, shape=(), dtype=float32) [0.32081968]\n",
            "tf.Tensor(0.9184605, shape=(), dtype=float32) [0.91846025]\n",
            "tf.Tensor(0.38673472, shape=(), dtype=float32) [0.38673466]\n",
            "tf.Tensor(0.3157257, shape=(), dtype=float32) [0.31572574]\n",
            "tf.Tensor(0.89071333, shape=(), dtype=float32) [0.89071333]\n",
            "tf.Tensor(0.33320838, shape=(), dtype=float32) [0.33320838]\n",
            "tf.Tensor(0.2916365, shape=(), dtype=float32) [0.2916365]\n",
            "tf.Tensor(0.94321996, shape=(), dtype=float32) [0.94321996]\n",
            "tf.Tensor(0.30002373, shape=(), dtype=float32) [0.3000237]\n",
            "tf.Tensor(0.092464976, shape=(), dtype=float32) [0.09246499]\n",
            "tf.Tensor(0.781267, shape=(), dtype=float32) [0.78126699]\n",
            "tf.Tensor(0.1199998, shape=(), dtype=float32) [0.11999981]\n",
            "tf.Tensor(0.30302382, shape=(), dtype=float32) [0.30302382]\n",
            "tf.Tensor(0.92902887, shape=(), dtype=float32) [0.92902887]\n",
            "tf.Tensor(0.29919577, shape=(), dtype=float32) [0.29919583]\n",
            "tf.Tensor(0.083213545, shape=(), dtype=float32) [0.08321356]\n",
            "tf.Tensor(0.7301772, shape=(), dtype=float32) [0.73017722]\n",
            "tf.Tensor(0.100586556, shape=(), dtype=float32) [0.10058656]\n",
            "tf.Tensor(0.22767282, shape=(), dtype=float32) [0.22767286]\n",
            "tf.Tensor(0.84509116, shape=(), dtype=float32) [0.84509104]\n",
            "tf.Tensor(0.2566184, shape=(), dtype=float32) [0.25661838]\n",
            "tf.Tensor(0.17570531, shape=(), dtype=float32) [0.17570533]\n",
            "tf.Tensor(0.73830974, shape=(), dtype=float32) [0.73830974]\n",
            "tf.Tensor(0.20372757, shape=(), dtype=float32) [0.20372757]\n",
            "tf.Tensor(0.16385007, shape=(), dtype=float32) [0.16385007]\n",
            "tf.Tensor(0.7300596, shape=(), dtype=float32) [0.7300595]\n",
            "tf.Tensor(0.19377327, shape=(), dtype=float32) [0.19377327]\n",
            "tf.Tensor(0.10649586, shape=(), dtype=float32) [0.10649588]\n",
            "tf.Tensor(0.706168, shape=(), dtype=float32) [0.70616788]\n",
            "tf.Tensor(0.12449727, shape=(), dtype=float32) [0.12449726]\n",
            "tf.Tensor(0.33725262, shape=(), dtype=float32) [0.33725262]\n",
            "tf.Tensor(0.8210924, shape=(), dtype=float32) [0.82109231]\n",
            "tf.Tensor(0.3502565, shape=(), dtype=float32) [0.35025644]\n",
            "tf.Tensor(0.40585557, shape=(), dtype=float32) [0.4058556]\n",
            "tf.Tensor(0.79916334, shape=(), dtype=float32) [0.79916322]\n",
            "tf.Tensor(0.42092735, shape=(), dtype=float32) [0.42092735]\n",
            "tf.Tensor(0.060227036, shape=(), dtype=float32) [0.06022705]\n",
            "tf.Tensor(0.62201536, shape=(), dtype=float32) [0.6220153]\n",
            "tf.Tensor(0.07408312, shape=(), dtype=float32) [0.07408312]\n",
            "tf.Tensor(0.18622157, shape=(), dtype=float32) [0.1862216]\n",
            "tf.Tensor(0.7416476, shape=(), dtype=float32) [0.7416476]\n",
            "tf.Tensor(0.19614953, shape=(), dtype=float32) [0.19614951]\n",
            "tf.Tensor(0.13552345, shape=(), dtype=float32) [0.13552347]\n",
            "tf.Tensor(0.7050891, shape=(), dtype=float32) [0.70508897]\n",
            "tf.Tensor(0.13780265, shape=(), dtype=float32) [0.13780265]\n",
            "tf.Tensor(0.26148587, shape=(), dtype=float32) [0.26148587]\n",
            "tf.Tensor(0.8811816, shape=(), dtype=float32) [0.88118154]\n",
            "tf.Tensor(0.2573119, shape=(), dtype=float32) [0.25731191]\n",
            "tf.Tensor(0.2693354, shape=(), dtype=float32) [0.26933542]\n",
            "tf.Tensor(0.8930454, shape=(), dtype=float32) [0.89304543]\n",
            "tf.Tensor(0.28125483, shape=(), dtype=float32) [0.28125483]\n",
            "tf.Tensor(0.096897796, shape=(), dtype=float32) [0.09689781]\n",
            "tf.Tensor(0.6512994, shape=(), dtype=float32) [0.65129936]\n",
            "tf.Tensor(0.1087903, shape=(), dtype=float32) [0.10879029]\n",
            "tf.Tensor(0.09650329, shape=(), dtype=float32) [0.0965033]\n",
            "tf.Tensor(0.6986052, shape=(), dtype=float32) [0.69860518]\n",
            "tf.Tensor(0.10797497, shape=(), dtype=float32) [0.10797496]\n",
            "tf.Tensor(0.08256283, shape=(), dtype=float32) [0.08256284]\n",
            "tf.Tensor(0.6621691, shape=(), dtype=float32) [0.66216904]\n",
            "tf.Tensor(0.09695966, shape=(), dtype=float32) [0.09695966]\n",
            "tf.Tensor(0.08017345, shape=(), dtype=float32) [0.08017347]\n",
            "tf.Tensor(0.6817702, shape=(), dtype=float32) [0.68177015]\n",
            "tf.Tensor(0.09796994, shape=(), dtype=float32) [0.09796993]\n",
            "tf.Tensor(0.117201924, shape=(), dtype=float32) [0.11720195]\n",
            "tf.Tensor(0.7200599, shape=(), dtype=float32) [0.72005981]\n",
            "tf.Tensor(0.13368015, shape=(), dtype=float32) [0.13368015]\n",
            "tf.Tensor(0.06894924, shape=(), dtype=float32) [0.06894925]\n",
            "tf.Tensor(0.65307534, shape=(), dtype=float32) [0.65307516]\n",
            "tf.Tensor(0.08724964, shape=(), dtype=float32) [0.08724964]\n",
            "tf.Tensor(0.31050768, shape=(), dtype=float32) [0.31050768]\n",
            "tf.Tensor(0.9185265, shape=(), dtype=float32) [0.91852647]\n",
            "tf.Tensor(0.33467227, shape=(), dtype=float32) [0.33467227]\n",
            "tf.Tensor(0.23953399, shape=(), dtype=float32) [0.23953402]\n",
            "tf.Tensor(0.79704225, shape=(), dtype=float32) [0.79704237]\n",
            "tf.Tensor(0.26245368, shape=(), dtype=float32) [0.26245368]\n",
            "tf.Tensor(0.05849756, shape=(), dtype=float32) [0.05849758]\n",
            "tf.Tensor(0.61738, shape=(), dtype=float32) [0.61738002]\n",
            "tf.Tensor(0.07144165, shape=(), dtype=float32) [0.07144166]\n",
            "tf.Tensor(0.12062844, shape=(), dtype=float32) [0.12062845]\n",
            "tf.Tensor(0.697894, shape=(), dtype=float32) [0.69789392]\n",
            "tf.Tensor(0.14324841, shape=(), dtype=float32) [0.14324841]\n",
            "tf.Tensor(0.156492, shape=(), dtype=float32) [0.15649202]\n",
            "tf.Tensor(0.88094556, shape=(), dtype=float32) [0.88094556]\n",
            "tf.Tensor(0.17851427, shape=(), dtype=float32) [0.17851427]\n",
            "tf.Tensor(0.22180684, shape=(), dtype=float32) [0.22180685]\n",
            "tf.Tensor(0.8067088, shape=(), dtype=float32) [0.80670881]\n",
            "tf.Tensor(0.22466466, shape=(), dtype=float32) [0.22466464]\n",
            "tf.Tensor(0.268154, shape=(), dtype=float32) [0.268154]\n",
            "tf.Tensor(0.816749, shape=(), dtype=float32) [0.81674898]\n",
            "tf.Tensor(0.28083214, shape=(), dtype=float32) [0.28083214]\n",
            "tf.Tensor(0.2719497, shape=(), dtype=float32) [0.27194977]\n",
            "tf.Tensor(0.8251089, shape=(), dtype=float32) [0.82510883]\n",
            "tf.Tensor(0.3241797, shape=(), dtype=float32) [0.32417974]\n",
            "tf.Tensor(0.26661974, shape=(), dtype=float32) [0.26661974]\n",
            "tf.Tensor(1.0746994, shape=(), dtype=float32) [1.07469916]\n",
            "tf.Tensor(0.29610068, shape=(), dtype=float32) [0.29610068]\n",
            "tf.Tensor(0.07092893, shape=(), dtype=float32) [0.07092895]\n",
            "tf.Tensor(0.710965, shape=(), dtype=float32) [0.71096498]\n",
            "tf.Tensor(0.083367944, shape=(), dtype=float32) [0.08336794]\n",
            "tf.Tensor(0.07074082, shape=(), dtype=float32) [0.07074083]\n",
            "tf.Tensor(0.6397527, shape=(), dtype=float32) [0.63975269]\n",
            "tf.Tensor(0.08155402, shape=(), dtype=float32) [0.08155402]\n",
            "tf.Tensor(0.09361764, shape=(), dtype=float32) [0.09361766]\n",
            "tf.Tensor(0.6728631, shape=(), dtype=float32) [0.67286295]\n",
            "tf.Tensor(0.11133977, shape=(), dtype=float32) [0.11133977]\n",
            "tf.Tensor(0.19333506, shape=(), dtype=float32) [0.19333509]\n",
            "tf.Tensor(0.78002673, shape=(), dtype=float32) [0.78002673]\n",
            "tf.Tensor(0.2147696, shape=(), dtype=float32) [0.21476963]\n",
            "tf.Tensor(0.33879519, shape=(), dtype=float32) [0.33879519]\n",
            "tf.Tensor(0.81887245, shape=(), dtype=float32) [0.81887245]\n",
            "tf.Tensor(0.37483615, shape=(), dtype=float32) [0.37483615]\n",
            "tf.Tensor(0.14377396, shape=(), dtype=float32) [0.14377399]\n",
            "tf.Tensor(0.7028921, shape=(), dtype=float32) [0.70289201]\n",
            "tf.Tensor(0.15108988, shape=(), dtype=float32) [0.15108989]\n",
            "tf.Tensor(0.12293997, shape=(), dtype=float32) [0.12293997]\n",
            "tf.Tensor(0.75830173, shape=(), dtype=float32) [0.75830168]\n",
            "tf.Tensor(0.14329611, shape=(), dtype=float32) [0.14329611]\n",
            "tf.Tensor(0.39685997, shape=(), dtype=float32) [0.39686003]\n",
            "tf.Tensor(0.8169608, shape=(), dtype=float32) [0.81696069]\n",
            "tf.Tensor(0.42464915, shape=(), dtype=float32) [0.42464909]\n",
            "tf.Tensor(0.2600843, shape=(), dtype=float32) [0.26008433]\n",
            "tf.Tensor(0.8400693, shape=(), dtype=float32) [0.84006929]\n",
            "tf.Tensor(0.3049561, shape=(), dtype=float32) [0.30495611]\n",
            "tf.Tensor(0.3062447, shape=(), dtype=float32) [0.3062447]\n",
            "tf.Tensor(0.82886755, shape=(), dtype=float32) [0.82886755]\n",
            "tf.Tensor(0.33996844, shape=(), dtype=float32) [0.33996844]\n",
            "tf.Tensor(0.15207537, shape=(), dtype=float32) [0.15207538]\n",
            "tf.Tensor(0.70635414, shape=(), dtype=float32) [0.70635414]\n",
            "tf.Tensor(0.17705044, shape=(), dtype=float32) [0.17705044]\n",
            "tf.Tensor(0.3405872, shape=(), dtype=float32) [0.3405872]\n",
            "tf.Tensor(0.8291081, shape=(), dtype=float32) [0.82910812]\n",
            "tf.Tensor(0.35557023, shape=(), dtype=float32) [0.35557023]\n",
            "tf.Tensor(0.24497323, shape=(), dtype=float32) [0.24497323]\n",
            "tf.Tensor(0.9411705, shape=(), dtype=float32) [0.94117051]\n",
            "tf.Tensor(0.27206463, shape=(), dtype=float32) [0.27206463]\n",
            "tf.Tensor(0.15436865, shape=(), dtype=float32) [0.15436867]\n",
            "tf.Tensor(0.7549918, shape=(), dtype=float32) [0.75499177]\n",
            "tf.Tensor(0.18097785, shape=(), dtype=float32) [0.18097785]\n",
            "tf.Tensor(0.17812076, shape=(), dtype=float32) [0.17812076]\n",
            "tf.Tensor(0.86942834, shape=(), dtype=float32) [0.86942828]\n",
            "tf.Tensor(0.19895585, shape=(), dtype=float32) [0.19895585]\n",
            "tf.Tensor(0.15667692, shape=(), dtype=float32) [0.15667692]\n",
            "tf.Tensor(0.7681375, shape=(), dtype=float32) [0.76813751]\n",
            "tf.Tensor(0.19665432, shape=(), dtype=float32) [0.19665432]\n",
            "tf.Tensor(0.06115455, shape=(), dtype=float32) [0.06115457]\n",
            "tf.Tensor(0.59753627, shape=(), dtype=float32) [0.59753621]\n",
            "tf.Tensor(0.07536782, shape=(), dtype=float32) [0.07536782]\n",
            "tf.Tensor(0.07861198, shape=(), dtype=float32) [0.07861198]\n",
            "tf.Tensor(0.66734946, shape=(), dtype=float32) [0.66734934]\n",
            "tf.Tensor(0.0981124, shape=(), dtype=float32) [0.0981124]\n",
            "tf.Tensor(0.16568036, shape=(), dtype=float32) [0.16568038]\n",
            "tf.Tensor(0.7720724, shape=(), dtype=float32) [0.77207237]\n",
            "tf.Tensor(0.18938372, shape=(), dtype=float32) [0.18938372]\n",
            "tf.Tensor(0.11324619, shape=(), dtype=float32) [0.1132462]\n",
            "tf.Tensor(0.72095144, shape=(), dtype=float32) [0.72095138]\n",
            "tf.Tensor(0.13377695, shape=(), dtype=float32) [0.13377695]\n",
            "tf.Tensor(0.28295285, shape=(), dtype=float32) [0.28295285]\n",
            "tf.Tensor(0.9187253, shape=(), dtype=float32) [0.91872531]\n",
            "tf.Tensor(0.29702035, shape=(), dtype=float32) [0.29702035]\n",
            "tf.Tensor(0.44498053, shape=(), dtype=float32) [0.44498056]\n",
            "tf.Tensor(0.92571926, shape=(), dtype=float32) [0.92571914]\n",
            "tf.Tensor(0.48489648, shape=(), dtype=float32) [0.48489648]\n",
            "tf.Tensor(0.46292782, shape=(), dtype=float32) [0.46292782]\n",
            "tf.Tensor(0.8721572, shape=(), dtype=float32) [0.87215722]\n",
            "tf.Tensor(0.48545307, shape=(), dtype=float32) [0.48545307]\n",
            "tf.Tensor(0.11910703, shape=(), dtype=float32) [0.11910705]\n",
            "tf.Tensor(0.78961486, shape=(), dtype=float32) [0.7896148]\n",
            "tf.Tensor(0.14890821, shape=(), dtype=float32) [0.14890818]\n",
            "tf.Tensor(0.2590817, shape=(), dtype=float32) [0.25908172]\n",
            "tf.Tensor(0.8069962, shape=(), dtype=float32) [0.80699623]\n",
            "tf.Tensor(0.26298863, shape=(), dtype=float32) [0.26298863]\n",
            "tf.Tensor(0.17218946, shape=(), dtype=float32) [0.17218947]\n",
            "tf.Tensor(0.8046566, shape=(), dtype=float32) [0.80465662]\n",
            "tf.Tensor(0.19412246, shape=(), dtype=float32) [0.19412246]\n",
            "tf.Tensor(0.08730273, shape=(), dtype=float32) [0.08730276]\n",
            "tf.Tensor(0.67018944, shape=(), dtype=float32) [0.67018926]\n",
            "tf.Tensor(0.10635944, shape=(), dtype=float32) [0.10635944]\n",
            "tf.Tensor(0.48445183, shape=(), dtype=float32) [0.48445183]\n",
            "tf.Tensor(1.0276062, shape=(), dtype=float32) [1.02760625]\n",
            "tf.Tensor(0.51895064, shape=(), dtype=float32) [0.51895064]\n",
            "tf.Tensor(0.10753095, shape=(), dtype=float32) [0.10753097]\n",
            "tf.Tensor(0.71425855, shape=(), dtype=float32) [0.71425849]\n",
            "tf.Tensor(0.12373688, shape=(), dtype=float32) [0.1237369]\n",
            "tf.Tensor(0.28041905, shape=(), dtype=float32) [0.28041905]\n",
            "tf.Tensor(0.9475719, shape=(), dtype=float32) [0.94757175]\n",
            "tf.Tensor(0.29490772, shape=(), dtype=float32) [0.29490772]\n",
            "tf.Tensor(0.08362377, shape=(), dtype=float32) [0.08362378]\n",
            "tf.Tensor(0.6043262, shape=(), dtype=float32) [0.60432613]\n",
            "tf.Tensor(0.099505566, shape=(), dtype=float32) [0.09950557]\n",
            "tf.Tensor(0.17199811, shape=(), dtype=float32) [0.17199814]\n",
            "tf.Tensor(0.88214284, shape=(), dtype=float32) [0.88214284]\n",
            "tf.Tensor(0.20874079, shape=(), dtype=float32) [0.20874079]\n",
            "tf.Tensor(0.14461969, shape=(), dtype=float32) [0.1446197]\n",
            "tf.Tensor(0.7825761, shape=(), dtype=float32) [0.78257596]\n",
            "tf.Tensor(0.15123451, shape=(), dtype=float32) [0.15123449]\n"
          ],
          "name": "stdout"
        }
      ]
    },
    {
      "cell_type": "code",
      "metadata": {
        "id": "GpwGYjNy-Bee",
        "outputId": "31e08ba3-dac1-4d4b-9bd0-f967eb3ec2c1",
        "colab": {
          "base_uri": "https://localhost:8080/",
          "height": 34
        }
      },
      "source": [
        "import os\n",
        "print(os.path.exists(\"/content/drive/My Drive/Colab Notebooks/affordances/experiments/l1_lamb_0.5_ref_imagnet_normal\"))"
      ],
      "execution_count": null,
      "outputs": [
        {
          "output_type": "stream",
          "text": [
            "False\n"
          ],
          "name": "stdout"
        }
      ]
    },
    {
      "cell_type": "markdown",
      "metadata": {
        "id": "eFqod9kq98LR"
      },
      "source": [
        "Features comparisons"
      ]
    },
    {
      "cell_type": "code",
      "metadata": {
        "id": "7EVK-6cx96hZ"
      },
      "source": [
        "!python test_main.py --models_dirs=\"/content/drive/My Drive/Colab Notebooks/affordances/experiments/untrained_l2_features_is_f1\" --models_dirs=\"/content/drive/My Drive/Colab Notebooks/affordances/experiments/l2_lamb_1_ref_imagnet_features_is_fc1\" --models_dirs=\"/content/drive/My Drive/Colab Notebooks/affordances/experiments/l2_lamb_1_ref_imagnet\" --output_path=\"/content/drive/My Drive/Colab Notebooks/affordances/doc_test_results\" --name=\"features_comparisons\" --cam_grads_images --scores_graph --target2alien_roc --alien2alien_roc "
      ],
      "execution_count": null,
      "outputs": []
    },
    {
      "cell_type": "markdown",
      "metadata": {
        "id": "QprDmBkr-IVi"
      },
      "source": [
        "reference data comparisons"
      ]
    },
    {
      "cell_type": "code",
      "metadata": {
        "id": "pNQqd-xa-Hup"
      },
      "source": [
        "!python test_main.py --models_dirs=\"/content/drive/My Drive/Colab Notebooks/affordances/experiments/l2_lamb_0_ref_is_tar\" --models_dirs=\"/content/drive/My Drive/Colab Notebooks/affordances/experiments/l1_lamb_0_ref_is_tar\" --models_dirs=\"/content/drive/My Drive/Colab Notebooks/affordances/experiments/l2_lamb_1_ref_is_tar\" --output_path=\"/content/drive/My Drive/Colab Notebooks/affordances/doc_test_results\" --name=\"reference_is_tar_comparisons\" --cam_grads_images --scores_graph --target2alien_roc --alien2alien_roc "
      ],
      "execution_count": null,
      "outputs": []
    }
  ]
}