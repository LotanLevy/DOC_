{
  "nbformat": 4,
  "nbformat_minor": 0,
  "metadata": {
    "colab": {
      "name": "Untitled0.ipynb",
      "provenance": [],
      "authorship_tag": "ABX9TyMJSMYFX/cqSWA+VUpWJxsB",
      "include_colab_link": true
    },
    "kernelspec": {
      "name": "python3",
      "display_name": "Python 3"
    },
    "accelerator": "GPU"
  },
  "cells": [
    {
      "cell_type": "markdown",
      "metadata": {
        "id": "view-in-github",
        "colab_type": "text"
      },
      "source": [
        "<a href=\"https://colab.research.google.com/github/LotanLevy/DOC_/blob/main/Untitled0.ipynb\" target=\"_parent\"><img src=\"https://colab.research.google.com/assets/colab-badge.svg\" alt=\"Open In Colab\"/></a>"
      ]
    },
    {
      "cell_type": "code",
      "metadata": {
        "id": "CIRBtlfjZCDq",
        "outputId": "9705ad6e-9e16-478a-fea7-6635910029da",
        "colab": {
          "base_uri": "https://localhost:8080/",
          "height": 714
        }
      },
      "source": [
        "pip install tensorflow-gpu==2.3.0"
      ],
      "execution_count": 2,
      "outputs": [
        {
          "output_type": "stream",
          "text": [
            "Collecting tensorflow-gpu==2.3.0\n",
            "\u001b[?25l  Downloading https://files.pythonhosted.org/packages/0f/11/763f55d3d15efd778ef24453f126e6c33635680e5a2bb346da3fab5997cb/tensorflow_gpu-2.3.0-cp36-cp36m-manylinux2010_x86_64.whl (320.4MB)\n",
            "\u001b[K     |████████████████████████████████| 320.4MB 48kB/s \n",
            "\u001b[?25hRequirement already satisfied: astunparse==1.6.3 in /usr/local/lib/python3.6/dist-packages (from tensorflow-gpu==2.3.0) (1.6.3)\n",
            "Requirement already satisfied: termcolor>=1.1.0 in /usr/local/lib/python3.6/dist-packages (from tensorflow-gpu==2.3.0) (1.1.0)\n",
            "Requirement already satisfied: tensorflow-estimator<2.4.0,>=2.3.0 in /usr/local/lib/python3.6/dist-packages (from tensorflow-gpu==2.3.0) (2.3.0)\n",
            "Requirement already satisfied: absl-py>=0.7.0 in /usr/local/lib/python3.6/dist-packages (from tensorflow-gpu==2.3.0) (0.10.0)\n",
            "Requirement already satisfied: wheel>=0.26 in /usr/local/lib/python3.6/dist-packages (from tensorflow-gpu==2.3.0) (0.35.1)\n",
            "Requirement already satisfied: google-pasta>=0.1.8 in /usr/local/lib/python3.6/dist-packages (from tensorflow-gpu==2.3.0) (0.2.0)\n",
            "Requirement already satisfied: h5py<2.11.0,>=2.10.0 in /usr/local/lib/python3.6/dist-packages (from tensorflow-gpu==2.3.0) (2.10.0)\n",
            "Requirement already satisfied: six>=1.12.0 in /usr/local/lib/python3.6/dist-packages (from tensorflow-gpu==2.3.0) (1.15.0)\n",
            "Requirement already satisfied: keras-preprocessing<1.2,>=1.1.1 in /usr/local/lib/python3.6/dist-packages (from tensorflow-gpu==2.3.0) (1.1.2)\n",
            "Requirement already satisfied: opt-einsum>=2.3.2 in /usr/local/lib/python3.6/dist-packages (from tensorflow-gpu==2.3.0) (3.3.0)\n",
            "Requirement already satisfied: numpy<1.19.0,>=1.16.0 in /usr/local/lib/python3.6/dist-packages (from tensorflow-gpu==2.3.0) (1.18.5)\n",
            "Requirement already satisfied: tensorboard<3,>=2.3.0 in /usr/local/lib/python3.6/dist-packages (from tensorflow-gpu==2.3.0) (2.3.0)\n",
            "Requirement already satisfied: scipy==1.4.1 in /usr/local/lib/python3.6/dist-packages (from tensorflow-gpu==2.3.0) (1.4.1)\n",
            "Requirement already satisfied: wrapt>=1.11.1 in /usr/local/lib/python3.6/dist-packages (from tensorflow-gpu==2.3.0) (1.12.1)\n",
            "Requirement already satisfied: gast==0.3.3 in /usr/local/lib/python3.6/dist-packages (from tensorflow-gpu==2.3.0) (0.3.3)\n",
            "Requirement already satisfied: protobuf>=3.9.2 in /usr/local/lib/python3.6/dist-packages (from tensorflow-gpu==2.3.0) (3.12.4)\n",
            "Requirement already satisfied: grpcio>=1.8.6 in /usr/local/lib/python3.6/dist-packages (from tensorflow-gpu==2.3.0) (1.32.0)\n",
            "Requirement already satisfied: setuptools>=41.0.0 in /usr/local/lib/python3.6/dist-packages (from tensorboard<3,>=2.3.0->tensorflow-gpu==2.3.0) (50.3.0)\n",
            "Requirement already satisfied: werkzeug>=0.11.15 in /usr/local/lib/python3.6/dist-packages (from tensorboard<3,>=2.3.0->tensorflow-gpu==2.3.0) (1.0.1)\n",
            "Requirement already satisfied: google-auth-oauthlib<0.5,>=0.4.1 in /usr/local/lib/python3.6/dist-packages (from tensorboard<3,>=2.3.0->tensorflow-gpu==2.3.0) (0.4.1)\n",
            "Requirement already satisfied: requests<3,>=2.21.0 in /usr/local/lib/python3.6/dist-packages (from tensorboard<3,>=2.3.0->tensorflow-gpu==2.3.0) (2.23.0)\n",
            "Requirement already satisfied: google-auth<2,>=1.6.3 in /usr/local/lib/python3.6/dist-packages (from tensorboard<3,>=2.3.0->tensorflow-gpu==2.3.0) (1.17.2)\n",
            "Requirement already satisfied: markdown>=2.6.8 in /usr/local/lib/python3.6/dist-packages (from tensorboard<3,>=2.3.0->tensorflow-gpu==2.3.0) (3.2.2)\n",
            "Requirement already satisfied: tensorboard-plugin-wit>=1.6.0 in /usr/local/lib/python3.6/dist-packages (from tensorboard<3,>=2.3.0->tensorflow-gpu==2.3.0) (1.7.0)\n",
            "Requirement already satisfied: requests-oauthlib>=0.7.0 in /usr/local/lib/python3.6/dist-packages (from google-auth-oauthlib<0.5,>=0.4.1->tensorboard<3,>=2.3.0->tensorflow-gpu==2.3.0) (1.3.0)\n",
            "Requirement already satisfied: chardet<4,>=3.0.2 in /usr/local/lib/python3.6/dist-packages (from requests<3,>=2.21.0->tensorboard<3,>=2.3.0->tensorflow-gpu==2.3.0) (3.0.4)\n",
            "Requirement already satisfied: urllib3!=1.25.0,!=1.25.1,<1.26,>=1.21.1 in /usr/local/lib/python3.6/dist-packages (from requests<3,>=2.21.0->tensorboard<3,>=2.3.0->tensorflow-gpu==2.3.0) (1.24.3)\n",
            "Requirement already satisfied: idna<3,>=2.5 in /usr/local/lib/python3.6/dist-packages (from requests<3,>=2.21.0->tensorboard<3,>=2.3.0->tensorflow-gpu==2.3.0) (2.10)\n",
            "Requirement already satisfied: certifi>=2017.4.17 in /usr/local/lib/python3.6/dist-packages (from requests<3,>=2.21.0->tensorboard<3,>=2.3.0->tensorflow-gpu==2.3.0) (2020.6.20)\n",
            "Requirement already satisfied: rsa<5,>=3.1.4; python_version >= \"3\" in /usr/local/lib/python3.6/dist-packages (from google-auth<2,>=1.6.3->tensorboard<3,>=2.3.0->tensorflow-gpu==2.3.0) (4.6)\n",
            "Requirement already satisfied: cachetools<5.0,>=2.0.0 in /usr/local/lib/python3.6/dist-packages (from google-auth<2,>=1.6.3->tensorboard<3,>=2.3.0->tensorflow-gpu==2.3.0) (4.1.1)\n",
            "Requirement already satisfied: pyasn1-modules>=0.2.1 in /usr/local/lib/python3.6/dist-packages (from google-auth<2,>=1.6.3->tensorboard<3,>=2.3.0->tensorflow-gpu==2.3.0) (0.2.8)\n",
            "Requirement already satisfied: importlib-metadata; python_version < \"3.8\" in /usr/local/lib/python3.6/dist-packages (from markdown>=2.6.8->tensorboard<3,>=2.3.0->tensorflow-gpu==2.3.0) (2.0.0)\n",
            "Requirement already satisfied: oauthlib>=3.0.0 in /usr/local/lib/python3.6/dist-packages (from requests-oauthlib>=0.7.0->google-auth-oauthlib<0.5,>=0.4.1->tensorboard<3,>=2.3.0->tensorflow-gpu==2.3.0) (3.1.0)\n",
            "Requirement already satisfied: pyasn1>=0.1.3 in /usr/local/lib/python3.6/dist-packages (from rsa<5,>=3.1.4; python_version >= \"3\"->google-auth<2,>=1.6.3->tensorboard<3,>=2.3.0->tensorflow-gpu==2.3.0) (0.4.8)\n",
            "Requirement already satisfied: zipp>=0.5 in /usr/local/lib/python3.6/dist-packages (from importlib-metadata; python_version < \"3.8\"->markdown>=2.6.8->tensorboard<3,>=2.3.0->tensorflow-gpu==2.3.0) (3.2.0)\n",
            "Installing collected packages: tensorflow-gpu\n",
            "Successfully installed tensorflow-gpu-2.3.0\n"
          ],
          "name": "stdout"
        }
      ]
    },
    {
      "cell_type": "code",
      "metadata": {
        "id": "Sy_8DBwzbb-8",
        "outputId": "ac9fa8a6-ba0d-47e1-dd15-6ed25b1c892e",
        "colab": {
          "base_uri": "https://localhost:8080/",
          "height": 34
        }
      },
      "source": [
        "from google.colab import drive\n",
        "drive.mount('/content/drive')"
      ],
      "execution_count": 3,
      "outputs": [
        {
          "output_type": "stream",
          "text": [
            "Mounted at /content/drive\n"
          ],
          "name": "stdout"
        }
      ]
    },
    {
      "cell_type": "code",
      "metadata": {
        "id": "PjNkU4uCbciS",
        "outputId": "813cc512-ca20-4a96-df0c-1170da8a94a8",
        "colab": {
          "base_uri": "https://localhost:8080/",
          "height": 136
        }
      },
      "source": [
        "!git clone https://github.com/LotanLevy/DOC_"
      ],
      "execution_count": 4,
      "outputs": [
        {
          "output_type": "stream",
          "text": [
            "Cloning into 'DOC_'...\n",
            "remote: Enumerating objects: 183, done.\u001b[K\n",
            "remote: Counting objects: 100% (183/183), done.\u001b[K\n",
            "remote: Compressing objects: 100% (135/135), done.\u001b[K\n",
            "remote: Total 183 (delta 110), reused 103 (delta 43), pack-reused 0\u001b[K\n",
            "Receiving objects: 100% (183/183), 82.85 KiB | 3.77 MiB/s, done.\n",
            "Resolving deltas: 100% (110/110), done.\n"
          ],
          "name": "stdout"
        }
      ]
    },
    {
      "cell_type": "code",
      "metadata": {
        "id": "4Tz6H8HmeHvb",
        "outputId": "138f7747-27ef-4e06-cdf6-38025552d27c",
        "colab": {
          "base_uri": "https://localhost:8080/",
          "height": 34
        }
      },
      "source": [
        "cd DOC_/\n"
      ],
      "execution_count": 5,
      "outputs": [
        {
          "output_type": "stream",
          "text": [
            "/content/DOC_\n"
          ],
          "name": "stdout"
        }
      ]
    },
    {
      "cell_type": "code",
      "metadata": {
        "id": "jCgRFCcaiOLY",
        "outputId": "1c23877a-ed05-403b-f62a-163d2f59659e",
        "colab": {
          "base_uri": "https://localhost:8080/",
          "height": 204
        }
      },
      "source": [
        "!git pull"
      ],
      "execution_count": 9,
      "outputs": [
        {
          "output_type": "stream",
          "text": [
            "remote: Enumerating objects: 9, done.\u001b[K\n",
            "remote: Counting objects:  12% (1/8)\u001b[K\rremote: Counting objects:  25% (2/8)\u001b[K\rremote: Counting objects:  37% (3/8)\u001b[K\rremote: Counting objects:  50% (4/8)\u001b[K\rremote: Counting objects:  62% (5/8)\u001b[K\rremote: Counting objects:  75% (6/8)\u001b[K\rremote: Counting objects:  87% (7/8)\u001b[K\rremote: Counting objects: 100% (8/8)\u001b[K\rremote: Counting objects: 100% (8/8), done.\u001b[K\n",
            "remote: Compressing objects:  50% (1/2)\u001b[K\rremote: Compressing objects: 100% (2/2)\u001b[K\rremote: Compressing objects: 100% (2/2), done.\u001b[K\n",
            "remote: Total 5 (delta 3), reused 5 (delta 3), pack-reused 0\u001b[K\n",
            "Unpacking objects:  20% (1/5)   \rUnpacking objects:  40% (2/5)   \rUnpacking objects:  60% (3/5)   \rUnpacking objects:  80% (4/5)   \rUnpacking objects: 100% (5/5)   \rUnpacking objects: 100% (5/5), done.\n",
            "From https://github.com/LotanLevy/DOC_\n",
            "   2923f1d..ac40eaa  main       -> origin/main\n",
            "Updating 2923f1d..ac40eaa\n",
            "Fast-forward\n",
            " losses.py | 4 \u001b[32m++\u001b[m\u001b[31m--\u001b[m\n",
            " 1 file changed, 2 insertions(+), 2 deletions(-)\n"
          ],
          "name": "stdout"
        }
      ]
    },
    {
      "cell_type": "code",
      "metadata": {
        "id": "Ea1KiVPveYb-",
        "outputId": "2bbaf220-1a31-42c2-e20c-1b60bbefad1b",
        "colab": {
          "base_uri": "https://localhost:8080/",
          "height": 34
        }
      },
      "source": [
        "!ls"
      ],
      "execution_count": null,
      "outputs": [
        {
          "output_type": "stream",
          "text": [
            "DOC_  drive  sample_data\n"
          ],
          "name": "stdout"
        }
      ]
    },
    {
      "cell_type": "markdown",
      "metadata": {
        "id": "A2oqa8GaTwEI"
      },
      "source": [
        "Standard train"
      ]
    },
    {
      "cell_type": "code",
      "metadata": {
        "id": "L2OI1bq5bo4O"
      },
      "source": [
        "!python train_main.py --name=\"l2_lamb_1_ref_imagnet\" --ref_dir=\"/content/drive/My Drive/Colab Notebooks/affordances/datasets/imagenet_val_splitted\" --tar_dir=\"/content/drive/My Drive/Colab Notebooks/affordances/datasets/big_stab\" --alien_dir=\"/content/drive/My Drive/Colab Notebooks/affordances/datasets/big_aliens\" --output_path=\"/content/drive/My Drive/Colab Notebooks/affordances/experiments\" --alien_cls2label=\"/content/drive/My Drive/Colab Notebooks/affordances/datasets/big_alien_splitted_cls2label.txt\""
      ],
      "execution_count": null,
      "outputs": []
    },
    {
      "cell_type": "markdown",
      "metadata": {
        "id": "cJUrvcgiT3Jo"
      },
      "source": [
        "L1 train"
      ]
    },
    {
      "cell_type": "code",
      "metadata": {
        "id": "QBi4hk3rT0tp",
        "outputId": "7b5c890a-3090-4d18-809e-a73a6b2925bb",
        "colab": {
          "base_uri": "https://localhost:8080/",
          "height": 408
        }
      },
      "source": [
        "!python train_main.py --name=\"l1_lamb_1_ref_imagnet_normal_var\" --c_loss_type=\"l1\" --ref_dir=\"/content/drive/My Drive/Colab Notebooks/affordances/datasets/imagenet_val_splitted\" --tar_dir=\"/content/drive/My Drive/Colab Notebooks/affordances/datasets/big_stab\" --alien_dir=\"/content/drive/My Drive/Colab Notebooks/affordances/datasets/big_aliens\" --output_path=\"/content/drive/My Drive/Colab Notebooks/affordances/experiments\" --alien_cls2label=\"/content/drive/My Drive/Colab Notebooks/affordances/datasets/big_alien_splitted_cls2label.txt\""
      ],
      "execution_count": 7,
      "outputs": [
        {
          "output_type": "stream",
          "text": [
            "100% 1816/1816 [46:49<00:00,  1.55s/it]\n",
            "100% 1816/1816 [46:49<00:00,  1.55s/it]\n",
            "epoch: 1: d loss 1.4844287558869032, c loss 0.4043816705377945, accuracy 0.6530837004405287\n",
            "2020-10-20 11:06:35.577176: W tensorflow/core/framework/cpu_allocator_impl.cc:81] Allocation of 411041792 exceeds 10% of free system memory.\n",
            "100% 1816/1816 [23:10<00:00,  1.31it/s]\n",
            "100% 1816/1816 [23:10<00:00,  1.31it/s]\n",
            "epoch: 2: d loss 1.408150830284986, c loss 0.23501505855561156, accuracy 0.6701541850220264\n",
            "2020-10-20 11:29:48.440477: W tensorflow/core/framework/cpu_allocator_impl.cc:81] Allocation of 411041792 exceeds 10% of free system memory.\n",
            "100% 1816/1816 [21:09<00:00,  1.43it/s]\n",
            "100% 1816/1816 [21:09<00:00,  1.43it/s]\n",
            "epoch: 3: d loss 1.3917927995823252, c loss 0.16930466523960166, accuracy 0.6701541850220264\n",
            "2020-10-20 11:51:00.302259: W tensorflow/core/framework/cpu_allocator_impl.cc:81] Allocation of 411041792 exceeds 10% of free system memory.\n",
            "100% 1816/1816 [18:17<00:00,  1.65it/s]\n",
            "100% 1816/1816 [18:17<00:00,  1.65it/s]\n",
            "epoch: 4: d loss 1.3416434709452096, c loss 0.13880622283132985, accuracy 0.6825440528634361\n",
            "2020-10-20 12:09:20.365450: W tensorflow/core/framework/cpu_allocator_impl.cc:81] Allocation of 411041792 exceeds 10% of free system memory.\n",
            "100% 1816/1816 [17:34<00:00,  1.72it/s]\n",
            "100% 1816/1816 [17:34<00:00,  1.72it/s]\n",
            "epoch: 5: d loss 1.3461780984387395, c loss 0.11654711732977287, accuracy 0.6756607929515418\n",
            "2020-10-20 12:26:56.747247: W tensorflow/core/framework/cpu_allocator_impl.cc:81] Allocation of 411041792 exceeds 10% of free system memory.\n",
            "<Figure size 640x480 with 1 Axes>\n",
            "<Figure size 640x480 with 1 Axes>\n",
            "<Figure size 640x480 with 1 Axes>\n"
          ],
          "name": "stdout"
        }
      ]
    },
    {
      "cell_type": "code",
      "metadata": {
        "id": "X0ai2iDnhTTH"
      },
      "source": [
        "!python train_main.py --name=\"l1_lamb_0.5_ref_imagnet_normal_var\" --c_loss_type=\"l0.5\" --ref_dir=\"/content/drive/My Drive/Colab Notebooks/affordances/datasets/imagenet_val_splitted\" --tar_dir=\"/content/drive/My Drive/Colab Notebooks/affordances/datasets/big_stab\" --alien_dir=\"/content/drive/My Drive/Colab Notebooks/affordances/datasets/big_aliens\" --output_path=\"/content/drive/My Drive/Colab Notebooks/affordances/experiments\" --alien_cls2label=\"/content/drive/My Drive/Colab Notebooks/affordances/datasets/big_alien_splitted_cls2label.txt\""
      ],
      "execution_count": null,
      "outputs": []
    },
    {
      "cell_type": "code",
      "metadata": {
        "id": "Vbn6v9QFi_0Z"
      },
      "source": [
        "!python train_main.py --name=\"l1_lamb_0.2_ref_imagnet_normal_var\" --c_loss_type=\"l0.2\" --ref_dir=\"/content/drive/My Drive/Colab Notebooks/affordances/datasets/imagenet_val_splitted\" --tar_dir=\"/content/drive/My Drive/Colab Notebooks/affordances/datasets/big_stab\" --alien_dir=\"/content/drive/My Drive/Colab Notebooks/affordances/datasets/big_aliens\" --output_path=\"/content/drive/My Drive/Colab Notebooks/affordances/experiments\" --alien_cls2label=\"/content/drive/My Drive/Colab Notebooks/affordances/datasets/big_alien_splitted_cls2label.txt\""
      ],
      "execution_count": null,
      "outputs": []
    },
    {
      "cell_type": "code",
      "metadata": {
        "id": "PvXyf6B8hTcF"
      },
      "source": [
        "!python train_main.py --name=\"l1_lamb_0.08_ref_imagnet_normal_var\" --c_loss_type=\"l0.08\" --ref_dir=\"/content/drive/My Drive/Colab Notebooks/affordances/datasets/imagenet_val_splitted\" --tar_dir=\"/content/drive/My Drive/Colab Notebooks/affordances/datasets/big_stab\" --alien_dir=\"/content/drive/My Drive/Colab Notebooks/affordances/datasets/big_aliens\" --output_path=\"/content/drive/My Drive/Colab Notebooks/affordances/experiments\" --alien_cls2label=\"/content/drive/My Drive/Colab Notebooks/affordances/datasets/big_alien_splitted_cls2label.txt\""
      ],
      "execution_count": null,
      "outputs": []
    },
    {
      "cell_type": "code",
      "metadata": {
        "id": "GQ_3DtL7hTkZ"
      },
      "source": [
        "!python train_main.py --name=\"l1_lamb_0.05_ref_imagnet_normal_var\" --c_loss_type=\"l0.05\" --ref_dir=\"/content/drive/My Drive/Colab Notebooks/affordances/datasets/imagenet_val_splitted\" --tar_dir=\"/content/drive/My Drive/Colab Notebooks/affordances/datasets/big_stab\" --alien_dir=\"/content/drive/My Drive/Colab Notebooks/affordances/datasets/big_aliens\" --output_path=\"/content/drive/My Drive/Colab Notebooks/affordances/experiments\" --alien_cls2label=\"/content/drive/My Drive/Colab Notebooks/affordances/datasets/big_alien_splitted_cls2label.txt\""
      ],
      "execution_count": null,
      "outputs": []
    },
    {
      "cell_type": "markdown",
      "metadata": {
        "id": "EO2gYo7NhdMZ"
      },
      "source": [
        "Reference data is now the target data"
      ]
    },
    {
      "cell_type": "code",
      "metadata": {
        "id": "4SLUBS5NhiCs"
      },
      "source": [
        "!python train_main.py --name=\"l2_lamb_1_ref_is_tar\" --cls_num=12 --ref_dir=\"/content/drive/My Drive/Colab Notebooks/affordances/datasets/big_stab\" --tar_dir=\"/content/drive/My Drive/Colab Notebooks/affordances/datasets/big_stab\" --alien_dir=\"/content/drive/My Drive/Colab Notebooks/affordances/datasets/big_aliens\" --output_path=\"/content/drive/My Drive/Colab Notebooks/affordances/experiments\" --alien_cls2label=\"/content/drive/My Drive/Colab Notebooks/affordances/datasets/big_alien_splitted_cls2label.txt\""
      ],
      "execution_count": null,
      "outputs": []
    },
    {
      "cell_type": "code",
      "metadata": {
        "id": "k--fYCMLG7CV"
      },
      "source": [
        "!python train_main.py --name=\"l2_lamb_0_ref_is_tar\" --lambda_=0 --cls_num=12 --ref_dir=\"/content/drive/My Drive/Colab Notebooks/affordances/datasets/big_stab\" --tar_dir=\"/content/drive/My Drive/Colab Notebooks/affordances/datasets/big_stab\" --alien_dir=\"/content/drive/My Drive/Colab Notebooks/affordances/datasets/big_aliens\" --output_path=\"/content/drive/My Drive/Colab Notebooks/affordances/experiments\" --alien_cls2label=\"/content/drive/My Drive/Colab Notebooks/affordances/datasets/big_alien_splitted_cls2label.txt\""
      ],
      "execution_count": null,
      "outputs": []
    },
    {
      "cell_type": "code",
      "metadata": {
        "id": "ubesJARVHEe1"
      },
      "source": [
        "!python train_main.py --name=\"l1_lamb_0_ref_is_tar\" --lambda_=0 --c_loss_type=\"l1\" --cls_num=12 --ref_dir=\"/content/drive/My Drive/Colab Notebooks/affordances/datasets/big_stab\" --tar_dir=\"/content/drive/My Drive/Colab Notebooks/affordances/datasets/big_stab\" --alien_dir=\"/content/drive/My Drive/Colab Notebooks/affordances/datasets/big_aliens\" --output_path=\"/content/drive/My Drive/Colab Notebooks/affordances/experiments\" --alien_cls2label=\"/content/drive/My Drive/Colab Notebooks/affordances/datasets/big_alien_splitted_cls2label.txt\""
      ],
      "execution_count": null,
      "outputs": []
    },
    {
      "cell_type": "markdown",
      "metadata": {
        "id": "GD1gjVMbbB3U"
      },
      "source": [
        "fc1 features layer"
      ]
    },
    {
      "cell_type": "code",
      "metadata": {
        "id": "lXUzy8-VatE_"
      },
      "source": [
        "!python train_main.py --name=\"l2_lamb_1_ref_imagnet_features_is_fc1\" --target_layer=\"fc1\" --ref_dir=\"/content/drive/My Drive/Colab Notebooks/affordances/datasets/imagenet_val_splitted\" --tar_dir=\"/content/drive/My Drive/Colab Notebooks/affordances/datasets/big_stab\" --alien_dir=\"/content/drive/My Drive/Colab Notebooks/affordances/datasets/big_aliens\" --output_path=\"/content/drive/My Drive/Colab Notebooks/affordances/experiments\" --alien_cls2label=\"/content/drive/My Drive/Colab Notebooks/affordances/datasets/big_alien_splitted_cls2label.txt\""
      ],
      "execution_count": null,
      "outputs": []
    },
    {
      "cell_type": "markdown",
      "metadata": {
        "id": "MvEc9EwvUEff"
      },
      "source": [
        "Augmented Train "
      ]
    },
    {
      "cell_type": "code",
      "metadata": {
        "id": "xDmFyXf6hll8"
      },
      "source": [
        "!python preprocessing.py --images_dir=\"/content/drive/My Drive/Colab Notebooks/affordances/datasets/big_stab\" --output_path=\"/content/drive/My Drive/Colab Notebooks/affordances/datasets\""
      ],
      "execution_count": null,
      "outputs": []
    },
    {
      "cell_type": "code",
      "metadata": {
        "id": "1el0cCn5TmnX"
      },
      "source": [
        "!python train_main.py --name=\"l2_lamb_1_ref_imagnet_tar_augment\" --ref_dir=\"/content/drive/My Drive/Colab Notebooks/affordances/datasets/imagenet_val_splitted\" --tar_dir=\"/content/drive/My Drive/Colab Notebooks/affordances/datasets/big_stab_augmented\" --alien_dir=\"/content/drive/My Drive/Colab Notebooks/affordances/datasets/big_aliens\" --output_path=\"/content/drive/My Drive/Colab Notebooks/affordances/experiments\""
      ],
      "execution_count": null,
      "outputs": []
    },
    {
      "cell_type": "markdown",
      "metadata": {
        "id": "1hO8obsTykIo"
      },
      "source": [
        "Var reg"
      ]
    },
    {
      "cell_type": "code",
      "metadata": {
        "id": "LiG1KL41yleP"
      },
      "source": [
        "!python train_main.py --name=\"l1_lamb_1_var_reg_0.1_coeff\" --reg_coeff=0.1 --use_var_reg=1 --c_loss_type=\"l1\" --ref_dir=\"/content/drive/My Drive/Colab Notebooks/affordances/datasets/imagenet_val_splitted\" --tar_dir=\"/content/drive/My Drive/Colab Notebooks/affordances/datasets/big_stab\" --alien_dir=\"/content/drive/My Drive/Colab Notebooks/affordances/datasets/big_aliens\" --output_path=\"/content/drive/My Drive/Colab Notebooks/affordances/experiments\" --alien_cls2label=\"/content/drive/My Drive/Colab Notebooks/affordances/datasets/big_alien_splitted_cls2label.txt\""
      ],
      "execution_count": null,
      "outputs": []
    },
    {
      "cell_type": "code",
      "metadata": {
        "id": "hHu2OI4vziP5"
      },
      "source": [
        "!python train_main.py --name=\"l1_lamb_1_var_reg_0.5_coeff\" --reg_coeff=0.5 --use_var_reg=1 --c_loss_type=\"l1\" --ref_dir=\"/content/drive/My Drive/Colab Notebooks/affordances/datasets/imagenet_val_splitted\" --tar_dir=\"/content/drive/My Drive/Colab Notebooks/affordances/datasets/big_stab\" --alien_dir=\"/content/drive/My Drive/Colab Notebooks/affordances/datasets/big_aliens\" --output_path=\"/content/drive/My Drive/Colab Notebooks/affordances/experiments\" --alien_cls2label=\"/content/drive/My Drive/Colab Notebooks/affordances/datasets/big_alien_splitted_cls2label.txt\""
      ],
      "execution_count": null,
      "outputs": []
    },
    {
      "cell_type": "code",
      "metadata": {
        "id": "1vjRXdrezidA"
      },
      "source": [
        "!python train_main.py --name=\"l1_lamb_1_var_reg_1.0_coeff\" --reg_coeff=1.0 --use_var_reg=1 --c_loss_type=\"l1\" --ref_dir=\"/content/drive/My Drive/Colab Notebooks/affordances/datasets/imagenet_val_splitted\" --tar_dir=\"/content/drive/My Drive/Colab Notebooks/affordances/datasets/big_stab\" --alien_dir=\"/content/drive/My Drive/Colab Notebooks/affordances/datasets/big_aliens\" --output_path=\"/content/drive/My Drive/Colab Notebooks/affordances/experiments\" --alien_cls2label=\"/content/drive/My Drive/Colab Notebooks/affordances/datasets/big_alien_splitted_cls2label.txt\""
      ],
      "execution_count": null,
      "outputs": []
    },
    {
      "cell_type": "markdown",
      "metadata": {
        "id": "CNPWnXJY1Ttd"
      },
      "source": [
        "## **Tests**"
      ]
    },
    {
      "cell_type": "markdown",
      "metadata": {
        "id": "qwM6kbtO9IUE"
      },
      "source": [
        "Var regularization test"
      ]
    },
    {
      "cell_type": "code",
      "metadata": {
        "id": "VHz55f6b9OAz"
      },
      "source": [
        "!python test_main.py --name=\"var_regularization_comparisons\" --cam_grads_images --scores_graph --target2alien_roc --alien2alien_roc --output_path=\"/content/drive/My Drive/Colab Notebooks/affordances/doc_test_results\" --models_dirs=\"/content/drive/My Drive/Colab Notebooks/affordances/experiments/l1_lamb_1_var_reg_0.1_coeff\" --models_dirs=\"/content/drive/My Drive/Colab Notebooks/affordances/experiments/l1_lamb_1_var_reg_0.5_coeff\" --models_dirs=\"/content/drive/My Drive/Colab Notebooks/affordances/experiments/l1_lamb_1_var_reg_1.0_coeff\" --models_dirs=\"/content/drive/My Drive/Colab Notebooks/affordances/experiments/l1_lamb_1_ref_imagnet\""
      ],
      "execution_count": null,
      "outputs": []
    },
    {
      "cell_type": "markdown",
      "metadata": {
        "id": "K_Qs_LQj9Zmg"
      },
      "source": [
        "l2 comprarison"
      ]
    },
    {
      "cell_type": "code",
      "metadata": {
        "id": "g1_oGJZj1S2o"
      },
      "source": [
        "!python test_main.py --models_dirs=\"/content/drive/My Drive/Colab Notebooks/affordances/experiments/untrained_l2_ref_imagenet\" --models_dirs=\"/content/drive/My Drive/Colab Notebooks/affordances/experiments/l2_lamb_1_ref_imagnet\" --output_path=\"/content/drive/My Drive/Colab Notebooks/affordances/doc_test_results\" --name=\"l2_comparisons\" --cam_grads_images --scores_graph --target2alien_roc --alien2alien_roc "
      ],
      "execution_count": null,
      "outputs": []
    },
    {
      "cell_type": "markdown",
      "metadata": {
        "id": "xTKModib9dp6"
      },
      "source": [
        "l1 comparisons"
      ]
    },
    {
      "cell_type": "code",
      "metadata": {
        "id": "AKlKE9zH9ArR"
      },
      "source": [
        "!python test_main.py --models_dirs=\"/content/drive/My Drive/Colab Notebooks/affordances/experiments/untrained_l1_ref_imagenet\" --models_dirs=\"/content/drive/My Drive/Colab Notebooks/affordances/experiments/l1_lamb_1_ref_imagnet\" --models_dirs=\"/content/drive/My Drive/Colab Notebooks/affordances/experiments/l2_lamb_1_ref_imagnet\" --output_path=\"/content/drive/My Drive/Colab Notebooks/affordances/doc_test_results\" --name=\"l1_comparisons\" --cam_grads_images --scores_graph --target2alien_roc --alien2alien_roc "
      ],
      "execution_count": null,
      "outputs": []
    },
    {
      "cell_type": "code",
      "metadata": {
        "id": "vMb83WYGq9iW"
      },
      "source": [
        "!python test_main.py --models_dirs=\"/content/drive/My Drive/Colab Notebooks/affordances/experiments/l1_lamb_1_ref_imagnet_normal_var\" --models_dirs=\"/content/drive/My Drive/Colab Notebooks/affordances/experiments/l1_lamb_1_ref_imagnet\" --models_dirs=\"/content/drive/My Drive/Colab Notebooks/affordances/experiments/l2_lamb_1_ref_imagnet\" --output_path=\"/content/drive/My Drive/Colab Notebooks/affordances/doc_test_results\" --name=\"l1_comparisons_normal_and_not\" --cam_grads_images --scores_graph --target2alien_roc --alien2alien_roc "
      ],
      "execution_count": null,
      "outputs": []
    },
    {
      "cell_type": "code",
      "metadata": {
        "id": "029AN9xBzmjp",
        "outputId": "7478808d-0bfc-45b7-d7e4-1ada16e46612",
        "colab": {
          "base_uri": "https://localhost:8080/",
          "height": 649
        }
      },
      "source": [
        "!python test_main.py --models_dirs=\"/content/drive/My Drive/Colab Notebooks/affordances/experiments/l0.08_lamb_1_ref_imagnet_normal\" --output_path=\"/content/drive/My Drive/Colab Notebooks/affordances/doc_test_results\" --name=\"test problem\" --cam_grads_images  "
      ],
      "execution_count": 11,
      "outputs": [
        {
          "output_type": "stream",
          "text": [
            "2020-10-21 10:35:38.177812: I tensorflow/stream_executor/platform/default/dso_loader.cc:48] Successfully opened dynamic library libcudart.so.10.1\n",
            "{'0': 0, '1': 1, '2': 2, '3': 3, '4': 4, '5': 5, '6': 6, '7': 7, '8': 8, '9': 9, '010': 10, '11': 11, '12': 12, '13': 13, '14': 14, '15': 15, '16': 16, '17': 17, '18': 18, '19': 19, '020': 20, '21': 21, '22': 22, '23': 23, '24': 24, '25': 25, '26': 26, '27': 27, '28': 28, '29': 29, '030': 30, '31': 31, '32': 32, '33': 33, '34': 34, '35': 35, '36': 36, '37': 37, '38': 38, '39': 39, '040': 40, '41': 41, '42': 42, '43': 43, '44': 44, '45': 45, '46': 46, '47': 47, '48': 48, '49': 49, '050': 50, '51': 51, '52': 52, '53': 53, '54': 54, '55': 55, '56': 56, '57': 57, '58': 58, '59': 59, '060': 60, '61': 61, '62': 62, '63': 63, '64': 64, '65': 65, '66': 66, '67': 67, '68': 68, '69': 69, '070': 70, '71': 71, '72': 72, '73': 73, '74': 74, '75': 75, '76': 76, '77': 77, '78': 78, '79': 79, '080': 80, '81': 81, '82': 82, '83': 83, '84': 84, '85': 85, '86': 86, '87': 87, '88': 88, '89': 89, '090': 90, '91': 91, '92': 92, '93': 93, '94': 94, '95': 95, '96': 96, '97': 97, '98': 98, '99': 99, '0100': 100, '0101': 101, '0102': 102, '0103': 103, '0104': 104, '0105': 105, '0106': 106, '0107': 107, '0108': 108, '0109': 109, '110': 110, '111': 111, '112': 112, '113': 113, '114': 114, '115': 115, '116': 116, '117': 117, '118': 118, '119': 119, '120': 120, '121': 121, '122': 122, '123': 123, '124': 124, '125': 125, '126': 126, '127': 127, '128': 128, '129': 129, '130': 130, '131': 131, '132': 132, '133': 133, '134': 134, '135': 135, '136': 136, '137': 137, '138': 138, '139': 139, '140': 140, '141': 141, '142': 142, '143': 143, '144': 144, '145': 145, '146': 146, '147': 147, '148': 148, '149': 149, '150': 150, '151': 151, '152': 152, '153': 153, '154': 154, '155': 155, '156': 156, '157': 157, '158': 158, '159': 159, '160': 160, '161': 161, '162': 162, '163': 163, '164': 164, '165': 165, '166': 166, '167': 167, '168': 168, '169': 169, '170': 170, '171': 171, '172': 172, '173': 173, '174': 174, '175': 175, '176': 176, '177': 177, '178': 178, '179': 179, '180': 180, '181': 181, '182': 182, '183': 183, '184': 184, '185': 185, '186': 186, '187': 187, '188': 188, '189': 189, '190': 190, '191': 191, '192': 192, '193': 193, '194': 194, '195': 195, '196': 196, '197': 197, '198': 198, '199': 199, '0200': 200, '0201': 201, '0202': 202, '0203': 203, '0204': 204, '0205': 205, '0206': 206, '0207': 207, '0208': 208, '0209': 209, '210': 210, '211': 211, '212': 212, '213': 213, '214': 214, '215': 215, '216': 216, '217': 217, '218': 218, '219': 219, '220': 220, '221': 221, '222': 222, '223': 223, '224': 224, '225': 225, '226': 226, '227': 227, '228': 228, '229': 229, '230': 230, '231': 231, '232': 232, '233': 233, '234': 234, '235': 235, '236': 236, '237': 237, '238': 238, '239': 239, '240': 240, '241': 241, '242': 242, '243': 243, '244': 244, '245': 245, '246': 246, '247': 247, '248': 248, '249': 249, '250': 250, '251': 251, '252': 252, '253': 253, '254': 254, '255': 255, '256': 256, '257': 257, '258': 258, '259': 259, '260': 260, '261': 261, '262': 262, '263': 263, '264': 264, '265': 265, '266': 266, '267': 267, '268': 268, '269': 269, '270': 270, '271': 271, '272': 272, '273': 273, '274': 274, '275': 275, '276': 276, '277': 277, '278': 278, '279': 279, '280': 280, '281': 281, '282': 282, '283': 283, '284': 284, '285': 285, '286': 286, '287': 287, '288': 288, '289': 289, '290': 290, '291': 291, '292': 292, '293': 293, '294': 294, '295': 295, '296': 296, '297': 297, '298': 298, '299': 299, '0300': 300, '0301': 301, '0302': 302, '0303': 303, '0304': 304, '0305': 305, '0306': 306, '0307': 307, '0308': 308, '0309': 309, '310': 310, '311': 311, '312': 312, '313': 313, '314': 314, '315': 315, '316': 316, '317': 317, '318': 318, '319': 319, '320': 320, '321': 321, '322': 322, '323': 323, '324': 324, '325': 325, '326': 326, '327': 327, '328': 328, '329': 329, '330': 330, '331': 331, '332': 332, '333': 333, '334': 334, '335': 335, '336': 336, '337': 337, '338': 338, '339': 339, '340': 340, '341': 341, '342': 342, '343': 343, '344': 344, '345': 345, '346': 346, '347': 347, '348': 348, '349': 349, '350': 350, '351': 351, '352': 352, '353': 353, '354': 354, '355': 355, '356': 356, '357': 357, '358': 358, '359': 359, '360': 360, '361': 361, '362': 362, '363': 363, '364': 364, '365': 365, '366': 366, '367': 367, '368': 368, '369': 369, '370': 370, '371': 371, '372': 372, '373': 373, '374': 374, '375': 375, '376': 376, '377': 377, '378': 378, '379': 379, '380': 380, '381': 381, '382': 382, '383': 383, '384': 384, '385': 385, '386': 386, '387': 387, '388': 388, '389': 389, '390': 390, '391': 391, '392': 392, '393': 393, '394': 394, '395': 395, '396': 396, '397': 397, '398': 398, '399': 399, '0400': 400, '0401': 401, '0402': 402, '0403': 403, '0404': 404, '0405': 405, '0406': 406, '0407': 407, '0408': 408, '0409': 409, '410': 410, '411': 411, '412': 412, '413': 413, '414': 414, '415': 415, '416': 416, '417': 417, '418': 418, '419': 419, '420': 420, '421': 421, '422': 422, '423': 423, '424': 424, '425': 425, '426': 426, '427': 427, '428': 428, '429': 429, '430': 430, '431': 431, '432': 432, '433': 433, '434': 434, '435': 435, '436': 436, '437': 437, '438': 438, '439': 439, '440': 440, '441': 441, '442': 442, '443': 443, '444': 444, '445': 445, '446': 446, '447': 447, '448': 448, '449': 449, '450': 450, '451': 451, '452': 452, '453': 453, '454': 454, '455': 455, '456': 456, '457': 457, '458': 458, '459': 459, '460': 460, '461': 461, '462': 462, '463': 463, '464': 464, '465': 465, '466': 466, '467': 467, '468': 468, '469': 469, '470': 470, '471': 471, '472': 472, '473': 473, '474': 474, '475': 475, '476': 476, '477': 477, '478': 478, '479': 479, '480': 480, '481': 481, '482': 482, '483': 483, '484': 484, '485': 485, '486': 486, '487': 487, '488': 488, '489': 489, '490': 490, '491': 491, '492': 492, '493': 493, '494': 494, '495': 495, '496': 496, '497': 497, '498': 498, '499': 499, '0500': 500, '0501': 501, '0502': 502, '0503': 503, '0504': 504, '0505': 505, '0506': 506, '0507': 507, '0508': 508, '0509': 509, '510': 510, '511': 511, '512': 512, '513': 513, '514': 514, '515': 515, '516': 516, '517': 517, '518': 518, '519': 519, '520': 520, '521': 521, '522': 522, '523': 523, '524': 524, '525': 525, '526': 526, '527': 527, '528': 528, '529': 529, '530': 530, '531': 531, '532': 532, '533': 533, '534': 534, '535': 535, '536': 536, '537': 537, '538': 538, '539': 539, '540': 540, '541': 541, '542': 542, '543': 543, '544': 544, '545': 545, '546': 546, '547': 547, '548': 548, '549': 549, '550': 550, '551': 551, '552': 552, '553': 553, '554': 554, '555': 555, '556': 556, '557': 557, '558': 558, '559': 559, '560': 560, '561': 561, '562': 562, '563': 563, '564': 564, '565': 565, '566': 566, '567': 567, '568': 568, '569': 569, '570': 570, '571': 571, '572': 572, '573': 573, '574': 574, '575': 575, '576': 576, '577': 577, '578': 578, '579': 579, '580': 580, '581': 581, '582': 582, '583': 583, '584': 584, '585': 585, '586': 586, '587': 587, '588': 588, '589': 589, '590': 590, '591': 591, '592': 592, '593': 593, '594': 594, '595': 595, '596': 596, '597': 597, '598': 598, '599': 599, '0600': 600, '0601': 601, '0602': 602, '0603': 603, '0604': 604, '0605': 605, '0606': 606, '0607': 607, '0608': 608, '0609': 609, '610': 610, '611': 611, '612': 612, '613': 613, '614': 614, '615': 615, '616': 616, '617': 617, '618': 618, '619': 619, '620': 620, '621': 621, '622': 622, '623': 623, '624': 624, '625': 625, '626': 626, '627': 627, '628': 628, '629': 629, '630': 630, '631': 631, '632': 632, '633': 633, '634': 634, '635': 635, '636': 636, '637': 637, '638': 638, '639': 639, '640': 640, '641': 641, '642': 642, '643': 643, '644': 644, '645': 645, '646': 646, '647': 647, '648': 648, '649': 649, '650': 650, '651': 651, '652': 652, '653': 653, '654': 654, '655': 655, '656': 656, '657': 657, '658': 658, '659': 659, '660': 660, '661': 661, '662': 662, '663': 663, '664': 664, '665': 665, '666': 666, '667': 667, '668': 668, '669': 669, '670': 670, '671': 671, '672': 672, '673': 673, '674': 674, '675': 675, '676': 676, '677': 677, '678': 678, '679': 679, '680': 680, '681': 681, '682': 682, '683': 683, '684': 684, '685': 685, '686': 686, '687': 687, '688': 688, '689': 689, '690': 690, '691': 691, '692': 692, '693': 693, '694': 694, '695': 695, '696': 696, '697': 697, '698': 698, '699': 699, '0700': 700, '0701': 701, '0702': 702, '0703': 703, '0704': 704, '0705': 705, '0706': 706, '0707': 707, '0708': 708, '0709': 709, '710': 710, '711': 711, '712': 712, '713': 713, '714': 714, '715': 715, '716': 716, '717': 717, '718': 718, '719': 719, '720': 720, '721': 721, '722': 722, '723': 723, '724': 724, '725': 725, '726': 726, '727': 727, '728': 728, '729': 729, '730': 730, '731': 731, '732': 732, '733': 733, '734': 734, '735': 735, '736': 736, '737': 737, '738': 738, '739': 739, '740': 740, '741': 741, '742': 742, '743': 743, '744': 744, '745': 745, '746': 746, '747': 747, '748': 748, '749': 749, '750': 750, '751': 751, '752': 752, '753': 753, '754': 754, '755': 755, '756': 756, '757': 757, '758': 758, '759': 759, '760': 760, '761': 761, '762': 762, '763': 763, '764': 764, '765': 765, '766': 766, '767': 767, '768': 768, '769': 769, '770': 770, '771': 771, '772': 772, '773': 773, '774': 774, '775': 775, '776': 776, '777': 777, '778': 778, '779': 779, '780': 780, '781': 781, '782': 782, '783': 783, '784': 784, '785': 785, '786': 786, '787': 787, '788': 788, '789': 789, '790': 790, '791': 791, '792': 792, '793': 793, '794': 794, '795': 795, '796': 796, '797': 797, '798': 798, '799': 799, '0800': 800, '0801': 801, '0802': 802, '0803': 803, '0804': 804, '0805': 805, '0806': 806, '0807': 807, '0808': 808, '0809': 809, '810': 810, '811': 811, '812': 812, '813': 813, '814': 814, '815': 815, '816': 816, '817': 817, '818': 818, '819': 819, '820': 820, '821': 821, '822': 822, '823': 823, '824': 824, '825': 825, '826': 826, '827': 827, '828': 828, '829': 829, '830': 830, '831': 831, '832': 832, '833': 833, '834': 834, '835': 835, '836': 836, '837': 837, '838': 838, '839': 839, '840': 840, '841': 841, '842': 842, '843': 843, '844': 844, '845': 845, '846': 846, '847': 847, '848': 848, '849': 849, '850': 850, '851': 851, '852': 852, '853': 853, '854': 854, '855': 855, '856': 856, '857': 857, '858': 858, '859': 859, '860': 860, '861': 861, '862': 862, '863': 863, '864': 864, '865': 865, '866': 866, '867': 867, '868': 868, '869': 869, '870': 870, '871': 871, '872': 872, '873': 873, '874': 874, '875': 875, '876': 876, '877': 877, '878': 878, '879': 879, '880': 880, '881': 881, '882': 882, '883': 883, '884': 884, '885': 885, '886': 886, '887': 887, '888': 888, '889': 889, '890': 890, '891': 891, '892': 892, '893': 893, '894': 894, '895': 895, '896': 896, '897': 897, '898': 898, '899': 899, '0900': 900, '0901': 901, '0902': 902, '0903': 903, '0904': 904, '0905': 905, '0906': 906, '0907': 907, '0908': 908, '0909': 909, '910': 910, '911': 911, '912': 912, '913': 913, '914': 914, '915': 915, '916': 916, '917': 917, '918': 918, '919': 919, '920': 920, '921': 921, '922': 922, '923': 923, '924': 924, '925': 925, '926': 926, '927': 927, '928': 928, '929': 929, '930': 930, '931': 931, '932': 932, '933': 933, '934': 934, '935': 935, '936': 936, '937': 937, '938': 938, '939': 939, '940': 940, '941': 941, '942': 942, '943': 943, '944': 944, '945': 945, '946': 946, '947': 947, '948': 948, '949': 949, '950': 950, '951': 951, '952': 952, '953': 953, '954': 954, '955': 955, '956': 956, '957': 957, '958': 958, '959': 959, '960': 960, '961': 961, '962': 962, '963': 963, '964': 964, '965': 965, '966': 966, '967': 967, '968': 968, '969': 969, '970': 970, '971': 971, '972': 972, '973': 973, '974': 974, '975': 975, '976': 976, '977': 977, '978': 978, '979': 979, '980': 980, '981': 981, '982': 982, '983': 983, '984': 984, '985': 985, '986': 986, '987': 987, '988': 988, '989': 989, '990': 990, '991': 991, '992': 992, '993': 993, '994': 994, '995': 995, '996': 996, '997': 997, '998': 998, '999': 999}\n",
            "{'knife': 0, 'sword': 1, 'dagger': 2, 'pencil': 3, 'scissors': 4, 'iron nail': 5, 'swordfish': 6, 'toothpick': 7, 'tent_stake': 8, 'screwdriver': 9, 'garden_sickle': 10, 'letter opener': 11}\n",
            "classes in directory doesn't match classes_num\n",
            "{'cup': 0, 'pot': 0, 'fork': 0, 'cable': 0, 'chair': 0, 'plate': 0, 'spoon': 0, 'basket': 0, 'bow tie': 0, 'glasses': 0, 'eyeliner': 0, 'paper box': 0, 'basketball': 0, 'chopsticks': 0, 'drumsticks': 0, 'garden pot': 0, 'table lamp': 0, 'birtday hat': 0, 'sharp heels': 0, 'toilet paper': 0, 'icecream cone': 0, 'sharp screw': 1, 'letter opener': 1, 'syringe needle': 1, 'swordfish': 1, 'unicorn': 1, 'pencil': 1, 'scissors': 1, 'iron nail': 1, 'toothpick': 1, 'tent_stake': 1, 'closed_umbrella': 1, 'sword': 1, 'spear': 1, 'screwdriver': 1, 'knife': 1, 'garden_sickle': 1, 'dagger': 1}\n",
            "classes in directory doesn't match classes_num\n",
            "50000 0\n",
            "3632 909\n",
            "3786 0\n",
            "Network and dataloaders were created\n",
            "2020-10-21 10:35:42.328300: I tensorflow/stream_executor/platform/default/dso_loader.cc:48] Successfully opened dynamic library libcuda.so.1\n",
            "2020-10-21 10:35:42.341751: E tensorflow/stream_executor/cuda/cuda_driver.cc:314] failed call to cuInit: CUDA_ERROR_NO_DEVICE: no CUDA-capable device is detected\n",
            "2020-10-21 10:35:42.341809: I tensorflow/stream_executor/cuda/cuda_diagnostics.cc:156] kernel driver does not appear to be running on this host (021259a30ea2): /proc/driver/nvidia/version does not exist\n",
            "2020-10-21 10:35:42.342363: I tensorflow/core/platform/cpu_feature_guard.cc:142] This TensorFlow binary is optimized with oneAPI Deep Neural Network Library (oneDNN)to use the following CPU instructions in performance-critical operations:  AVX2 FMA\n",
            "To enable them in other operations, rebuild TensorFlow with the appropriate compiler flags.\n",
            "2020-10-21 10:35:42.354094: I tensorflow/core/platform/profile_utils/cpu_utils.cc:104] CPU Frequency: 2300000000 Hz\n",
            "2020-10-21 10:35:42.354381: I tensorflow/compiler/xla/service/service.cc:168] XLA service 0x160f100 initialized for platform Host (this does not guarantee that XLA will be used). Devices:\n",
            "2020-10-21 10:35:42.354426: I tensorflow/compiler/xla/service/service.cc:176]   StreamExecutor device (0): Host, Default Version\n",
            "l0.08_lamb_1_ref_imagnet_normal's ckpts loaded\n",
            "tcmalloc: large alloc 3699638272 bytes == 0x860e2000 @  0x7f331afcd1e7 0x7f32e4760665 0x7f32e4777c45 0x7f32ea9b40da 0x7f32eafb1a91 0x7f32eafb3547 0x7f32eb06147d 0x7f32eb06490d 0x7f32eb064dcf 0x7f32dff05fb9 0x7f32dffb5591 0x7f32dffb22a3 0x7f32dffa13e5 0x7f331a9916db 0x7f331accaa3f\n",
            "tcmalloc: large alloc 3699638272 bytes == 0x860e2000 @  0x7f331afcd1e7 0x7f32e4760665 0x7f32e4777c45 0x7f32ea9b40da 0x7f32eafb1a91 0x7f32eafb3547 0x7f32eb06147d 0x7f32eb06490d 0x7f32eb064dcf 0x7f32dff05fb9 0x7f32dffb5591 0x7f32dffb22a3 0x7f32dffa13e5 0x7f331a9916db 0x7f331accaa3f\n",
            "tcmalloc: large alloc 3699638272 bytes == 0x860e2000 @  0x7f331afcd1e7 0x7f32e4760665 0x7f32e4777c45 0x7f32ea9b40da 0x7f32eafb1a91 0x7f32eafb3547 0x7f32eb06147d 0x7f32eb06490d 0x7f32eb064dcf 0x7f32dff05fb9 0x7f32dffb5591 0x7f32dffb22a3 0x7f32dffa13e5 0x7f331a9916db 0x7f331accaa3f\n",
            "{'l0.08_lamb_1_ref_imagnet_normal': 0.44612446427345276}\n",
            "tcmalloc: large alloc 3699638272 bytes == 0x860e2000 @  0x7f331afcd1e7 0x7f32e4760665 0x7f32e4777c45 0x7f32ea9b40da 0x7f32eafb1a91 0x7f32eafb3547 0x7f32eb06147d 0x7f32eb06490d 0x7f32eb064dcf 0x7f32dff05fb9 0x7f32dffb5591 0x7f32dffb22a3 0x7f32dffa13e5 0x7f331a9916db 0x7f331accaa3f\n",
            "tcmalloc: large alloc 4624523264 bytes == 0x924e2000 @  0x7f331afcd1e7 0x7f32e4760665 0x7f32e4777c45 0x7f32ea9b40da 0x7f32ea9b4a84 0x7f32eaa29983 0x7f32eaa2b01f 0x7f32eaa2ba6c 0x7f32eaa9d871 0x7f32eaa9deec 0x7f32eaa9f27c 0x7f32e45f23e9 0x7f32e45b7b8f 0x7f32e45b87b0 0x7f32e45ec3b4 0x7f32e45b514e 0x7f32e45b6f5e 0x7f32e45a80cd 0x7f32e4200f28 0x7f32e419c2c2 0x7f32de8eced7 0x7f32de9101c9 0x50a7f5 0x50c1f4 0x507f24 0x509c50 0x50a64d 0x50cfd6 0x507f24 0x509c50 0x50a64d\n",
            "tf.Tensor(0.2569198, shape=(), dtype=float32) [0.2569198]\n",
            "tcmalloc: large alloc 3699638272 bytes == 0x860e2000 @  0x7f331afcd1e7 0x7f32e4760665 0x7f32e4777c45 0x7f32ea9b40da 0x7f32eafb1a91 0x7f32eafb3547 0x7f32eb06147d 0x7f32eb06490d 0x7f32eb064dcf 0x7f32dff05fb9 0x7f32dffb5591 0x7f32dffb22a3 0x7f32dffa13e5 0x7f331a9916db 0x7f331accaa3f\n",
            "tcmalloc: large alloc 4624523264 bytes == 0x924e2000 @  0x7f331afcd1e7 0x7f32e4760665 0x7f32e4777c45 0x7f32ea9b40da 0x7f32ea9b4a84 0x7f32eaa29983 0x7f32eaa2b01f 0x7f32eaa2ba6c 0x7f32eaa9d871 0x7f32eaa9deec 0x7f32eaa9f27c 0x7f32e45f23e9 0x7f32e45b7b8f 0x7f32e45b87b0 0x7f32e45ec3b4 0x7f32e45b514e 0x7f32e45b6f5e 0x7f32e45a80cd 0x7f32e4200f28 0x7f32e419c2c2 0x7f32de8eced7 0x7f32de9101c9 0x50a7f5 0x50c1f4 0x507f24 0x509c50 0x50a64d 0x50cfd6 0x507f24 0x509c50 0x50a64d\n",
            "tf.Tensor(0.14635357, shape=(), dtype=float32) [0.14635357]\n",
            "tcmalloc: large alloc 3699638272 bytes == 0x860e2000 @  0x7f331afcd1e7 0x7f32e4760665 0x7f32e4777c45 0x7f32ea9b40da 0x7f32eafb1a91 0x7f32eafb3547 0x7f32eb06147d 0x7f32eb06490d 0x7f32eb064dcf 0x7f32dff05fb9 0x7f32dffb5591 0x7f32dffb22a3 0x7f32dffa13e5 0x7f331a9916db 0x7f331accaa3f\n",
            "tcmalloc: large alloc 4624523264 bytes == 0x924e2000 @  0x7f331afcd1e7 0x7f32e4760665 0x7f32e4777c45 0x7f32ea9b40da 0x7f32ea9b4a84 0x7f32eaa29983 0x7f32eaa2b01f 0x7f32eaa2ba6c 0x7f32eaa9d871 0x7f32eaa9deec 0x7f32eaa9f27c 0x7f32e45f23e9 0x7f32e45b7b8f 0x7f32e45b87b0 0x7f32e45ec3b4 0x7f32e45b514e 0x7f32e45b6f5e 0x7f32e45a80cd 0x7f32e4200f28 0x7f32e419c2c2 0x7f32de8eced7 0x7f32de9101c9 0x50a7f5 0x50c1f4 0x507f24 0x509c50 0x50a64d 0x50cfd6 0x507f24 0x509c50 0x50a64d\n",
            "tf.Tensor(0.256181, shape=(), dtype=float32) [0.256181]\n",
            "tcmalloc: large alloc 3699638272 bytes == 0x860e2000 @  0x7f331afcd1e7 0x7f32e4760665 0x7f32e4777c45 0x7f32ea9b40da 0x7f32eafb1a91 0x7f32eafb3547 0x7f32eb06147d 0x7f32eb06490d 0x7f32eb064dcf 0x7f32dff05fb9 0x7f32dffb5591 0x7f32dffb22a3 0x7f32dffa13e5 0x7f331a9916db 0x7f331accaa3f\n",
            "tcmalloc: large alloc 4624523264 bytes == 0x924e2000 @  0x7f331afcd1e7 0x7f32e4760665 0x7f32e4777c45 0x7f32ea9b40da 0x7f32ea9b4a84 0x7f32eaa29983 0x7f32eaa2b01f 0x7f32eaa2ba6c 0x7f32eaa9d871 0x7f32eaa9deec 0x7f32eaa9f27c 0x7f32e45f23e9 0x7f32e45b7b8f 0x7f32e45b87b0 0x7f32e45ec3b4 0x7f32e45b514e 0x7f32e45b6f5e 0x7f32e45a80cd 0x7f32e4200f28 0x7f32e419c2c2 0x7f32de8eced7 0x7f32de9101c9 0x50a7f5 0x50c1f4 0x507f24 0x509c50 0x50a64d 0x50cfd6 0x507f24 0x509c50 0x50a64d\n",
            "tf.Tensor(0.33595136, shape=(), dtype=float32) [0.33595136]\n",
            "^C\n"
          ],
          "name": "stdout"
        }
      ]
    },
    {
      "cell_type": "markdown",
      "metadata": {
        "id": "i20M5kmLbmrR"
      },
      "source": [
        "Sparsity comparisons"
      ]
    },
    {
      "cell_type": "code",
      "metadata": {
        "id": "cdPcqQ1NbrJy"
      },
      "source": [
        "!python test_main.py --name=\"sparsity_comparisons\" --cam_grads_images --scores_graph --target2alien_roc --alien2alien_roc --output_path=\"/content/drive/My Drive/Colab Notebooks/affordances/doc_test_results\" --models_dirs=\"/content/drive/My Drive/Colab Notebooks/affordances/experiments/l1_lamb_1_ref_imagnet_normal\" --models_dirs=\"/content/drive/My Drive/Colab Notebooks/affordances/experiments/l0.5_lamb_1_ref_imagnet_normal\" --models_dirs=\"/content/drive/My Drive/Colab Notebooks/affordances/experiments/l0.2_lamb_1_ref_imagnet_normal\" --models_dirs=\"/content/drive/My Drive/Colab Notebooks/affordances/experiments/l0.05_lamb_1_ref_imagnet_normal\" --models_dirs=\"/content/drive/My Drive/Colab Notebooks/affordances/experiments/l0.08_lamb_1_ref_imagnet_normal\""
      ],
      "execution_count": null,
      "outputs": []
    },
    {
      "cell_type": "code",
      "metadata": {
        "id": "L5UlzEhrLcjY",
        "outputId": "9f7bd0b0-b9a4-4a6f-c7c0-52cb607b2f7a",
        "colab": {
          "base_uri": "https://localhost:8080/",
          "height": 1000
        }
      },
      "source": [
        "!python test_main.py --name=\"sparsity_comparisons\" --cam_grads_images --output_path=\"/content/drive/My Drive/Colab Notebooks/affordances/doc_test_results\" --models_dirs=\"/content/drive/My Drive/Colab Notebooks/affordances/experiments/l1_lamb_1_ref_imagnet\" --models_dirs=\"/content/drive/My Drive/Colab Notebooks/affordances/experiments/l1_lamb_0.5_ref_imagnet\" --models_dirs=\"/content/drive/My Drive/Colab Notebooks/affordances/experiments/l1_lamb_0.2_ref_imagnet\" --models_dirs=\"/content/drive/My Drive/Colab Notebooks/affordances/experiments/l1_lamb_0.05_ref_imagnet\" --models_dirs=\"/content/drive/My Drive/Colab Notebooks/affordances/experiments/l1_lamb_0.08_ref_imagnet\""
      ],
      "execution_count": 9,
      "outputs": [
        {
          "output_type": "stream",
          "text": [
            "2020-10-21 10:22:57.846269: I tensorflow/stream_executor/platform/default/dso_loader.cc:48] Successfully opened dynamic library libcudart.so.10.1\n",
            "{'0': 0, '1': 1, '2': 2, '3': 3, '4': 4, '5': 5, '6': 6, '7': 7, '8': 8, '9': 9, '010': 10, '11': 11, '12': 12, '13': 13, '14': 14, '15': 15, '16': 16, '17': 17, '18': 18, '19': 19, '020': 20, '21': 21, '22': 22, '23': 23, '24': 24, '25': 25, '26': 26, '27': 27, '28': 28, '29': 29, '030': 30, '31': 31, '32': 32, '33': 33, '34': 34, '35': 35, '36': 36, '37': 37, '38': 38, '39': 39, '040': 40, '41': 41, '42': 42, '43': 43, '44': 44, '45': 45, '46': 46, '47': 47, '48': 48, '49': 49, '050': 50, '51': 51, '52': 52, '53': 53, '54': 54, '55': 55, '56': 56, '57': 57, '58': 58, '59': 59, '060': 60, '61': 61, '62': 62, '63': 63, '64': 64, '65': 65, '66': 66, '67': 67, '68': 68, '69': 69, '070': 70, '71': 71, '72': 72, '73': 73, '74': 74, '75': 75, '76': 76, '77': 77, '78': 78, '79': 79, '080': 80, '81': 81, '82': 82, '83': 83, '84': 84, '85': 85, '86': 86, '87': 87, '88': 88, '89': 89, '090': 90, '91': 91, '92': 92, '93': 93, '94': 94, '95': 95, '96': 96, '97': 97, '98': 98, '99': 99, '0100': 100, '0101': 101, '0102': 102, '0103': 103, '0104': 104, '0105': 105, '0106': 106, '0107': 107, '0108': 108, '0109': 109, '110': 110, '111': 111, '112': 112, '113': 113, '114': 114, '115': 115, '116': 116, '117': 117, '118': 118, '119': 119, '120': 120, '121': 121, '122': 122, '123': 123, '124': 124, '125': 125, '126': 126, '127': 127, '128': 128, '129': 129, '130': 130, '131': 131, '132': 132, '133': 133, '134': 134, '135': 135, '136': 136, '137': 137, '138': 138, '139': 139, '140': 140, '141': 141, '142': 142, '143': 143, '144': 144, '145': 145, '146': 146, '147': 147, '148': 148, '149': 149, '150': 150, '151': 151, '152': 152, '153': 153, '154': 154, '155': 155, '156': 156, '157': 157, '158': 158, '159': 159, '160': 160, '161': 161, '162': 162, '163': 163, '164': 164, '165': 165, '166': 166, '167': 167, '168': 168, '169': 169, '170': 170, '171': 171, '172': 172, '173': 173, '174': 174, '175': 175, '176': 176, '177': 177, '178': 178, '179': 179, '180': 180, '181': 181, '182': 182, '183': 183, '184': 184, '185': 185, '186': 186, '187': 187, '188': 188, '189': 189, '190': 190, '191': 191, '192': 192, '193': 193, '194': 194, '195': 195, '196': 196, '197': 197, '198': 198, '199': 199, '0200': 200, '0201': 201, '0202': 202, '0203': 203, '0204': 204, '0205': 205, '0206': 206, '0207': 207, '0208': 208, '0209': 209, '210': 210, '211': 211, '212': 212, '213': 213, '214': 214, '215': 215, '216': 216, '217': 217, '218': 218, '219': 219, '220': 220, '221': 221, '222': 222, '223': 223, '224': 224, '225': 225, '226': 226, '227': 227, '228': 228, '229': 229, '230': 230, '231': 231, '232': 232, '233': 233, '234': 234, '235': 235, '236': 236, '237': 237, '238': 238, '239': 239, '240': 240, '241': 241, '242': 242, '243': 243, '244': 244, '245': 245, '246': 246, '247': 247, '248': 248, '249': 249, '250': 250, '251': 251, '252': 252, '253': 253, '254': 254, '255': 255, '256': 256, '257': 257, '258': 258, '259': 259, '260': 260, '261': 261, '262': 262, '263': 263, '264': 264, '265': 265, '266': 266, '267': 267, '268': 268, '269': 269, '270': 270, '271': 271, '272': 272, '273': 273, '274': 274, '275': 275, '276': 276, '277': 277, '278': 278, '279': 279, '280': 280, '281': 281, '282': 282, '283': 283, '284': 284, '285': 285, '286': 286, '287': 287, '288': 288, '289': 289, '290': 290, '291': 291, '292': 292, '293': 293, '294': 294, '295': 295, '296': 296, '297': 297, '298': 298, '299': 299, '0300': 300, '0301': 301, '0302': 302, '0303': 303, '0304': 304, '0305': 305, '0306': 306, '0307': 307, '0308': 308, '0309': 309, '310': 310, '311': 311, '312': 312, '313': 313, '314': 314, '315': 315, '316': 316, '317': 317, '318': 318, '319': 319, '320': 320, '321': 321, '322': 322, '323': 323, '324': 324, '325': 325, '326': 326, '327': 327, '328': 328, '329': 329, '330': 330, '331': 331, '332': 332, '333': 333, '334': 334, '335': 335, '336': 336, '337': 337, '338': 338, '339': 339, '340': 340, '341': 341, '342': 342, '343': 343, '344': 344, '345': 345, '346': 346, '347': 347, '348': 348, '349': 349, '350': 350, '351': 351, '352': 352, '353': 353, '354': 354, '355': 355, '356': 356, '357': 357, '358': 358, '359': 359, '360': 360, '361': 361, '362': 362, '363': 363, '364': 364, '365': 365, '366': 366, '367': 367, '368': 368, '369': 369, '370': 370, '371': 371, '372': 372, '373': 373, '374': 374, '375': 375, '376': 376, '377': 377, '378': 378, '379': 379, '380': 380, '381': 381, '382': 382, '383': 383, '384': 384, '385': 385, '386': 386, '387': 387, '388': 388, '389': 389, '390': 390, '391': 391, '392': 392, '393': 393, '394': 394, '395': 395, '396': 396, '397': 397, '398': 398, '399': 399, '0400': 400, '0401': 401, '0402': 402, '0403': 403, '0404': 404, '0405': 405, '0406': 406, '0407': 407, '0408': 408, '0409': 409, '410': 410, '411': 411, '412': 412, '413': 413, '414': 414, '415': 415, '416': 416, '417': 417, '418': 418, '419': 419, '420': 420, '421': 421, '422': 422, '423': 423, '424': 424, '425': 425, '426': 426, '427': 427, '428': 428, '429': 429, '430': 430, '431': 431, '432': 432, '433': 433, '434': 434, '435': 435, '436': 436, '437': 437, '438': 438, '439': 439, '440': 440, '441': 441, '442': 442, '443': 443, '444': 444, '445': 445, '446': 446, '447': 447, '448': 448, '449': 449, '450': 450, '451': 451, '452': 452, '453': 453, '454': 454, '455': 455, '456': 456, '457': 457, '458': 458, '459': 459, '460': 460, '461': 461, '462': 462, '463': 463, '464': 464, '465': 465, '466': 466, '467': 467, '468': 468, '469': 469, '470': 470, '471': 471, '472': 472, '473': 473, '474': 474, '475': 475, '476': 476, '477': 477, '478': 478, '479': 479, '480': 480, '481': 481, '482': 482, '483': 483, '484': 484, '485': 485, '486': 486, '487': 487, '488': 488, '489': 489, '490': 490, '491': 491, '492': 492, '493': 493, '494': 494, '495': 495, '496': 496, '497': 497, '498': 498, '499': 499, '0500': 500, '0501': 501, '0502': 502, '0503': 503, '0504': 504, '0505': 505, '0506': 506, '0507': 507, '0508': 508, '0509': 509, '510': 510, '511': 511, '512': 512, '513': 513, '514': 514, '515': 515, '516': 516, '517': 517, '518': 518, '519': 519, '520': 520, '521': 521, '522': 522, '523': 523, '524': 524, '525': 525, '526': 526, '527': 527, '528': 528, '529': 529, '530': 530, '531': 531, '532': 532, '533': 533, '534': 534, '535': 535, '536': 536, '537': 537, '538': 538, '539': 539, '540': 540, '541': 541, '542': 542, '543': 543, '544': 544, '545': 545, '546': 546, '547': 547, '548': 548, '549': 549, '550': 550, '551': 551, '552': 552, '553': 553, '554': 554, '555': 555, '556': 556, '557': 557, '558': 558, '559': 559, '560': 560, '561': 561, '562': 562, '563': 563, '564': 564, '565': 565, '566': 566, '567': 567, '568': 568, '569': 569, '570': 570, '571': 571, '572': 572, '573': 573, '574': 574, '575': 575, '576': 576, '577': 577, '578': 578, '579': 579, '580': 580, '581': 581, '582': 582, '583': 583, '584': 584, '585': 585, '586': 586, '587': 587, '588': 588, '589': 589, '590': 590, '591': 591, '592': 592, '593': 593, '594': 594, '595': 595, '596': 596, '597': 597, '598': 598, '599': 599, '0600': 600, '0601': 601, '0602': 602, '0603': 603, '0604': 604, '0605': 605, '0606': 606, '0607': 607, '0608': 608, '0609': 609, '610': 610, '611': 611, '612': 612, '613': 613, '614': 614, '615': 615, '616': 616, '617': 617, '618': 618, '619': 619, '620': 620, '621': 621, '622': 622, '623': 623, '624': 624, '625': 625, '626': 626, '627': 627, '628': 628, '629': 629, '630': 630, '631': 631, '632': 632, '633': 633, '634': 634, '635': 635, '636': 636, '637': 637, '638': 638, '639': 639, '640': 640, '641': 641, '642': 642, '643': 643, '644': 644, '645': 645, '646': 646, '647': 647, '648': 648, '649': 649, '650': 650, '651': 651, '652': 652, '653': 653, '654': 654, '655': 655, '656': 656, '657': 657, '658': 658, '659': 659, '660': 660, '661': 661, '662': 662, '663': 663, '664': 664, '665': 665, '666': 666, '667': 667, '668': 668, '669': 669, '670': 670, '671': 671, '672': 672, '673': 673, '674': 674, '675': 675, '676': 676, '677': 677, '678': 678, '679': 679, '680': 680, '681': 681, '682': 682, '683': 683, '684': 684, '685': 685, '686': 686, '687': 687, '688': 688, '689': 689, '690': 690, '691': 691, '692': 692, '693': 693, '694': 694, '695': 695, '696': 696, '697': 697, '698': 698, '699': 699, '0700': 700, '0701': 701, '0702': 702, '0703': 703, '0704': 704, '0705': 705, '0706': 706, '0707': 707, '0708': 708, '0709': 709, '710': 710, '711': 711, '712': 712, '713': 713, '714': 714, '715': 715, '716': 716, '717': 717, '718': 718, '719': 719, '720': 720, '721': 721, '722': 722, '723': 723, '724': 724, '725': 725, '726': 726, '727': 727, '728': 728, '729': 729, '730': 730, '731': 731, '732': 732, '733': 733, '734': 734, '735': 735, '736': 736, '737': 737, '738': 738, '739': 739, '740': 740, '741': 741, '742': 742, '743': 743, '744': 744, '745': 745, '746': 746, '747': 747, '748': 748, '749': 749, '750': 750, '751': 751, '752': 752, '753': 753, '754': 754, '755': 755, '756': 756, '757': 757, '758': 758, '759': 759, '760': 760, '761': 761, '762': 762, '763': 763, '764': 764, '765': 765, '766': 766, '767': 767, '768': 768, '769': 769, '770': 770, '771': 771, '772': 772, '773': 773, '774': 774, '775': 775, '776': 776, '777': 777, '778': 778, '779': 779, '780': 780, '781': 781, '782': 782, '783': 783, '784': 784, '785': 785, '786': 786, '787': 787, '788': 788, '789': 789, '790': 790, '791': 791, '792': 792, '793': 793, '794': 794, '795': 795, '796': 796, '797': 797, '798': 798, '799': 799, '0800': 800, '0801': 801, '0802': 802, '0803': 803, '0804': 804, '0805': 805, '0806': 806, '0807': 807, '0808': 808, '0809': 809, '810': 810, '811': 811, '812': 812, '813': 813, '814': 814, '815': 815, '816': 816, '817': 817, '818': 818, '819': 819, '820': 820, '821': 821, '822': 822, '823': 823, '824': 824, '825': 825, '826': 826, '827': 827, '828': 828, '829': 829, '830': 830, '831': 831, '832': 832, '833': 833, '834': 834, '835': 835, '836': 836, '837': 837, '838': 838, '839': 839, '840': 840, '841': 841, '842': 842, '843': 843, '844': 844, '845': 845, '846': 846, '847': 847, '848': 848, '849': 849, '850': 850, '851': 851, '852': 852, '853': 853, '854': 854, '855': 855, '856': 856, '857': 857, '858': 858, '859': 859, '860': 860, '861': 861, '862': 862, '863': 863, '864': 864, '865': 865, '866': 866, '867': 867, '868': 868, '869': 869, '870': 870, '871': 871, '872': 872, '873': 873, '874': 874, '875': 875, '876': 876, '877': 877, '878': 878, '879': 879, '880': 880, '881': 881, '882': 882, '883': 883, '884': 884, '885': 885, '886': 886, '887': 887, '888': 888, '889': 889, '890': 890, '891': 891, '892': 892, '893': 893, '894': 894, '895': 895, '896': 896, '897': 897, '898': 898, '899': 899, '0900': 900, '0901': 901, '0902': 902, '0903': 903, '0904': 904, '0905': 905, '0906': 906, '0907': 907, '0908': 908, '0909': 909, '910': 910, '911': 911, '912': 912, '913': 913, '914': 914, '915': 915, '916': 916, '917': 917, '918': 918, '919': 919, '920': 920, '921': 921, '922': 922, '923': 923, '924': 924, '925': 925, '926': 926, '927': 927, '928': 928, '929': 929, '930': 930, '931': 931, '932': 932, '933': 933, '934': 934, '935': 935, '936': 936, '937': 937, '938': 938, '939': 939, '940': 940, '941': 941, '942': 942, '943': 943, '944': 944, '945': 945, '946': 946, '947': 947, '948': 948, '949': 949, '950': 950, '951': 951, '952': 952, '953': 953, '954': 954, '955': 955, '956': 956, '957': 957, '958': 958, '959': 959, '960': 960, '961': 961, '962': 962, '963': 963, '964': 964, '965': 965, '966': 966, '967': 967, '968': 968, '969': 969, '970': 970, '971': 971, '972': 972, '973': 973, '974': 974, '975': 975, '976': 976, '977': 977, '978': 978, '979': 979, '980': 980, '981': 981, '982': 982, '983': 983, '984': 984, '985': 985, '986': 986, '987': 987, '988': 988, '989': 989, '990': 990, '991': 991, '992': 992, '993': 993, '994': 994, '995': 995, '996': 996, '997': 997, '998': 998, '999': 999}\n",
            "{'knife': 0, 'sword': 1, 'dagger': 2, 'pencil': 3, 'scissors': 4, 'iron nail': 5, 'swordfish': 6, 'toothpick': 7, 'tent_stake': 8, 'screwdriver': 9, 'garden_sickle': 10, 'letter opener': 11}\n",
            "classes in directory doesn't match classes_num\n",
            "{'cup': 0, 'pot': 0, 'fork': 0, 'cable': 0, 'chair': 0, 'plate': 0, 'spoon': 0, 'basket': 0, 'bow tie': 0, 'glasses': 0, 'eyeliner': 0, 'paper box': 0, 'basketball': 0, 'chopsticks': 0, 'drumsticks': 0, 'garden pot': 0, 'table lamp': 0, 'birtday hat': 0, 'sharp heels': 0, 'toilet paper': 0, 'icecream cone': 0, 'sharp screw': 1, 'letter opener': 1, 'syringe needle': 1, 'swordfish': 1, 'unicorn': 1, 'pencil': 1, 'scissors': 1, 'iron nail': 1, 'toothpick': 1, 'tent_stake': 1, 'closed_umbrella': 1, 'sword': 1, 'spear': 1, 'screwdriver': 1, 'knife': 1, 'garden_sickle': 1, 'dagger': 1}\n",
            "classes in directory doesn't match classes_num\n",
            "50000 0\n",
            "3632 909\n",
            "3786 0\n",
            "Network and dataloaders were created\n",
            "2020-10-21 10:23:01.088817: I tensorflow/stream_executor/platform/default/dso_loader.cc:48] Successfully opened dynamic library libcuda.so.1\n",
            "2020-10-21 10:23:01.098897: E tensorflow/stream_executor/cuda/cuda_driver.cc:314] failed call to cuInit: CUDA_ERROR_NO_DEVICE: no CUDA-capable device is detected\n",
            "2020-10-21 10:23:01.098952: I tensorflow/stream_executor/cuda/cuda_diagnostics.cc:156] kernel driver does not appear to be running on this host (021259a30ea2): /proc/driver/nvidia/version does not exist\n",
            "2020-10-21 10:23:01.099286: I tensorflow/core/platform/cpu_feature_guard.cc:142] This TensorFlow binary is optimized with oneAPI Deep Neural Network Library (oneDNN)to use the following CPU instructions in performance-critical operations:  AVX2 FMA\n",
            "To enable them in other operations, rebuild TensorFlow with the appropriate compiler flags.\n",
            "2020-10-21 10:23:01.104739: I tensorflow/core/platform/profile_utils/cpu_utils.cc:104] CPU Frequency: 2300000000 Hz\n",
            "2020-10-21 10:23:01.104993: I tensorflow/compiler/xla/service/service.cc:168] XLA service 0x305ef40 initialized for platform Host (this does not guarantee that XLA will be used). Devices:\n",
            "2020-10-21 10:23:01.105028: I tensorflow/compiler/xla/service/service.cc:176]   StreamExecutor device (0): Host, Default Version\n",
            "l1_lamb_1_ref_imagnet's ckpts loaded\n",
            "{'0': 0, '1': 1, '2': 2, '3': 3, '4': 4, '5': 5, '6': 6, '7': 7, '8': 8, '9': 9, '010': 10, '11': 11, '12': 12, '13': 13, '14': 14, '15': 15, '16': 16, '17': 17, '18': 18, '19': 19, '020': 20, '21': 21, '22': 22, '23': 23, '24': 24, '25': 25, '26': 26, '27': 27, '28': 28, '29': 29, '030': 30, '31': 31, '32': 32, '33': 33, '34': 34, '35': 35, '36': 36, '37': 37, '38': 38, '39': 39, '040': 40, '41': 41, '42': 42, '43': 43, '44': 44, '45': 45, '46': 46, '47': 47, '48': 48, '49': 49, '050': 50, '51': 51, '52': 52, '53': 53, '54': 54, '55': 55, '56': 56, '57': 57, '58': 58, '59': 59, '060': 60, '61': 61, '62': 62, '63': 63, '64': 64, '65': 65, '66': 66, '67': 67, '68': 68, '69': 69, '070': 70, '71': 71, '72': 72, '73': 73, '74': 74, '75': 75, '76': 76, '77': 77, '78': 78, '79': 79, '080': 80, '81': 81, '82': 82, '83': 83, '84': 84, '85': 85, '86': 86, '87': 87, '88': 88, '89': 89, '090': 90, '91': 91, '92': 92, '93': 93, '94': 94, '95': 95, '96': 96, '97': 97, '98': 98, '99': 99, '0100': 100, '0101': 101, '0102': 102, '0103': 103, '0104': 104, '0105': 105, '0106': 106, '0107': 107, '0108': 108, '0109': 109, '110': 110, '111': 111, '112': 112, '113': 113, '114': 114, '115': 115, '116': 116, '117': 117, '118': 118, '119': 119, '120': 120, '121': 121, '122': 122, '123': 123, '124': 124, '125': 125, '126': 126, '127': 127, '128': 128, '129': 129, '130': 130, '131': 131, '132': 132, '133': 133, '134': 134, '135': 135, '136': 136, '137': 137, '138': 138, '139': 139, '140': 140, '141': 141, '142': 142, '143': 143, '144': 144, '145': 145, '146': 146, '147': 147, '148': 148, '149': 149, '150': 150, '151': 151, '152': 152, '153': 153, '154': 154, '155': 155, '156': 156, '157': 157, '158': 158, '159': 159, '160': 160, '161': 161, '162': 162, '163': 163, '164': 164, '165': 165, '166': 166, '167': 167, '168': 168, '169': 169, '170': 170, '171': 171, '172': 172, '173': 173, '174': 174, '175': 175, '176': 176, '177': 177, '178': 178, '179': 179, '180': 180, '181': 181, '182': 182, '183': 183, '184': 184, '185': 185, '186': 186, '187': 187, '188': 188, '189': 189, '190': 190, '191': 191, '192': 192, '193': 193, '194': 194, '195': 195, '196': 196, '197': 197, '198': 198, '199': 199, '0200': 200, '0201': 201, '0202': 202, '0203': 203, '0204': 204, '0205': 205, '0206': 206, '0207': 207, '0208': 208, '0209': 209, '210': 210, '211': 211, '212': 212, '213': 213, '214': 214, '215': 215, '216': 216, '217': 217, '218': 218, '219': 219, '220': 220, '221': 221, '222': 222, '223': 223, '224': 224, '225': 225, '226': 226, '227': 227, '228': 228, '229': 229, '230': 230, '231': 231, '232': 232, '233': 233, '234': 234, '235': 235, '236': 236, '237': 237, '238': 238, '239': 239, '240': 240, '241': 241, '242': 242, '243': 243, '244': 244, '245': 245, '246': 246, '247': 247, '248': 248, '249': 249, '250': 250, '251': 251, '252': 252, '253': 253, '254': 254, '255': 255, '256': 256, '257': 257, '258': 258, '259': 259, '260': 260, '261': 261, '262': 262, '263': 263, '264': 264, '265': 265, '266': 266, '267': 267, '268': 268, '269': 269, '270': 270, '271': 271, '272': 272, '273': 273, '274': 274, '275': 275, '276': 276, '277': 277, '278': 278, '279': 279, '280': 280, '281': 281, '282': 282, '283': 283, '284': 284, '285': 285, '286': 286, '287': 287, '288': 288, '289': 289, '290': 290, '291': 291, '292': 292, '293': 293, '294': 294, '295': 295, '296': 296, '297': 297, '298': 298, '299': 299, '0300': 300, '0301': 301, '0302': 302, '0303': 303, '0304': 304, '0305': 305, '0306': 306, '0307': 307, '0308': 308, '0309': 309, '310': 310, '311': 311, '312': 312, '313': 313, '314': 314, '315': 315, '316': 316, '317': 317, '318': 318, '319': 319, '320': 320, '321': 321, '322': 322, '323': 323, '324': 324, '325': 325, '326': 326, '327': 327, '328': 328, '329': 329, '330': 330, '331': 331, '332': 332, '333': 333, '334': 334, '335': 335, '336': 336, '337': 337, '338': 338, '339': 339, '340': 340, '341': 341, '342': 342, '343': 343, '344': 344, '345': 345, '346': 346, '347': 347, '348': 348, '349': 349, '350': 350, '351': 351, '352': 352, '353': 353, '354': 354, '355': 355, '356': 356, '357': 357, '358': 358, '359': 359, '360': 360, '361': 361, '362': 362, '363': 363, '364': 364, '365': 365, '366': 366, '367': 367, '368': 368, '369': 369, '370': 370, '371': 371, '372': 372, '373': 373, '374': 374, '375': 375, '376': 376, '377': 377, '378': 378, '379': 379, '380': 380, '381': 381, '382': 382, '383': 383, '384': 384, '385': 385, '386': 386, '387': 387, '388': 388, '389': 389, '390': 390, '391': 391, '392': 392, '393': 393, '394': 394, '395': 395, '396': 396, '397': 397, '398': 398, '399': 399, '0400': 400, '0401': 401, '0402': 402, '0403': 403, '0404': 404, '0405': 405, '0406': 406, '0407': 407, '0408': 408, '0409': 409, '410': 410, '411': 411, '412': 412, '413': 413, '414': 414, '415': 415, '416': 416, '417': 417, '418': 418, '419': 419, '420': 420, '421': 421, '422': 422, '423': 423, '424': 424, '425': 425, '426': 426, '427': 427, '428': 428, '429': 429, '430': 430, '431': 431, '432': 432, '433': 433, '434': 434, '435': 435, '436': 436, '437': 437, '438': 438, '439': 439, '440': 440, '441': 441, '442': 442, '443': 443, '444': 444, '445': 445, '446': 446, '447': 447, '448': 448, '449': 449, '450': 450, '451': 451, '452': 452, '453': 453, '454': 454, '455': 455, '456': 456, '457': 457, '458': 458, '459': 459, '460': 460, '461': 461, '462': 462, '463': 463, '464': 464, '465': 465, '466': 466, '467': 467, '468': 468, '469': 469, '470': 470, '471': 471, '472': 472, '473': 473, '474': 474, '475': 475, '476': 476, '477': 477, '478': 478, '479': 479, '480': 480, '481': 481, '482': 482, '483': 483, '484': 484, '485': 485, '486': 486, '487': 487, '488': 488, '489': 489, '490': 490, '491': 491, '492': 492, '493': 493, '494': 494, '495': 495, '496': 496, '497': 497, '498': 498, '499': 499, '0500': 500, '0501': 501, '0502': 502, '0503': 503, '0504': 504, '0505': 505, '0506': 506, '0507': 507, '0508': 508, '0509': 509, '510': 510, '511': 511, '512': 512, '513': 513, '514': 514, '515': 515, '516': 516, '517': 517, '518': 518, '519': 519, '520': 520, '521': 521, '522': 522, '523': 523, '524': 524, '525': 525, '526': 526, '527': 527, '528': 528, '529': 529, '530': 530, '531': 531, '532': 532, '533': 533, '534': 534, '535': 535, '536': 536, '537': 537, '538': 538, '539': 539, '540': 540, '541': 541, '542': 542, '543': 543, '544': 544, '545': 545, '546': 546, '547': 547, '548': 548, '549': 549, '550': 550, '551': 551, '552': 552, '553': 553, '554': 554, '555': 555, '556': 556, '557': 557, '558': 558, '559': 559, '560': 560, '561': 561, '562': 562, '563': 563, '564': 564, '565': 565, '566': 566, '567': 567, '568': 568, '569': 569, '570': 570, '571': 571, '572': 572, '573': 573, '574': 574, '575': 575, '576': 576, '577': 577, '578': 578, '579': 579, '580': 580, '581': 581, '582': 582, '583': 583, '584': 584, '585': 585, '586': 586, '587': 587, '588': 588, '589': 589, '590': 590, '591': 591, '592': 592, '593': 593, '594': 594, '595': 595, '596': 596, '597': 597, '598': 598, '599': 599, '0600': 600, '0601': 601, '0602': 602, '0603': 603, '0604': 604, '0605': 605, '0606': 606, '0607': 607, '0608': 608, '0609': 609, '610': 610, '611': 611, '612': 612, '613': 613, '614': 614, '615': 615, '616': 616, '617': 617, '618': 618, '619': 619, '620': 620, '621': 621, '622': 622, '623': 623, '624': 624, '625': 625, '626': 626, '627': 627, '628': 628, '629': 629, '630': 630, '631': 631, '632': 632, '633': 633, '634': 634, '635': 635, '636': 636, '637': 637, '638': 638, '639': 639, '640': 640, '641': 641, '642': 642, '643': 643, '644': 644, '645': 645, '646': 646, '647': 647, '648': 648, '649': 649, '650': 650, '651': 651, '652': 652, '653': 653, '654': 654, '655': 655, '656': 656, '657': 657, '658': 658, '659': 659, '660': 660, '661': 661, '662': 662, '663': 663, '664': 664, '665': 665, '666': 666, '667': 667, '668': 668, '669': 669, '670': 670, '671': 671, '672': 672, '673': 673, '674': 674, '675': 675, '676': 676, '677': 677, '678': 678, '679': 679, '680': 680, '681': 681, '682': 682, '683': 683, '684': 684, '685': 685, '686': 686, '687': 687, '688': 688, '689': 689, '690': 690, '691': 691, '692': 692, '693': 693, '694': 694, '695': 695, '696': 696, '697': 697, '698': 698, '699': 699, '0700': 700, '0701': 701, '0702': 702, '0703': 703, '0704': 704, '0705': 705, '0706': 706, '0707': 707, '0708': 708, '0709': 709, '710': 710, '711': 711, '712': 712, '713': 713, '714': 714, '715': 715, '716': 716, '717': 717, '718': 718, '719': 719, '720': 720, '721': 721, '722': 722, '723': 723, '724': 724, '725': 725, '726': 726, '727': 727, '728': 728, '729': 729, '730': 730, '731': 731, '732': 732, '733': 733, '734': 734, '735': 735, '736': 736, '737': 737, '738': 738, '739': 739, '740': 740, '741': 741, '742': 742, '743': 743, '744': 744, '745': 745, '746': 746, '747': 747, '748': 748, '749': 749, '750': 750, '751': 751, '752': 752, '753': 753, '754': 754, '755': 755, '756': 756, '757': 757, '758': 758, '759': 759, '760': 760, '761': 761, '762': 762, '763': 763, '764': 764, '765': 765, '766': 766, '767': 767, '768': 768, '769': 769, '770': 770, '771': 771, '772': 772, '773': 773, '774': 774, '775': 775, '776': 776, '777': 777, '778': 778, '779': 779, '780': 780, '781': 781, '782': 782, '783': 783, '784': 784, '785': 785, '786': 786, '787': 787, '788': 788, '789': 789, '790': 790, '791': 791, '792': 792, '793': 793, '794': 794, '795': 795, '796': 796, '797': 797, '798': 798, '799': 799, '0800': 800, '0801': 801, '0802': 802, '0803': 803, '0804': 804, '0805': 805, '0806': 806, '0807': 807, '0808': 808, '0809': 809, '810': 810, '811': 811, '812': 812, '813': 813, '814': 814, '815': 815, '816': 816, '817': 817, '818': 818, '819': 819, '820': 820, '821': 821, '822': 822, '823': 823, '824': 824, '825': 825, '826': 826, '827': 827, '828': 828, '829': 829, '830': 830, '831': 831, '832': 832, '833': 833, '834': 834, '835': 835, '836': 836, '837': 837, '838': 838, '839': 839, '840': 840, '841': 841, '842': 842, '843': 843, '844': 844, '845': 845, '846': 846, '847': 847, '848': 848, '849': 849, '850': 850, '851': 851, '852': 852, '853': 853, '854': 854, '855': 855, '856': 856, '857': 857, '858': 858, '859': 859, '860': 860, '861': 861, '862': 862, '863': 863, '864': 864, '865': 865, '866': 866, '867': 867, '868': 868, '869': 869, '870': 870, '871': 871, '872': 872, '873': 873, '874': 874, '875': 875, '876': 876, '877': 877, '878': 878, '879': 879, '880': 880, '881': 881, '882': 882, '883': 883, '884': 884, '885': 885, '886': 886, '887': 887, '888': 888, '889': 889, '890': 890, '891': 891, '892': 892, '893': 893, '894': 894, '895': 895, '896': 896, '897': 897, '898': 898, '899': 899, '0900': 900, '0901': 901, '0902': 902, '0903': 903, '0904': 904, '0905': 905, '0906': 906, '0907': 907, '0908': 908, '0909': 909, '910': 910, '911': 911, '912': 912, '913': 913, '914': 914, '915': 915, '916': 916, '917': 917, '918': 918, '919': 919, '920': 920, '921': 921, '922': 922, '923': 923, '924': 924, '925': 925, '926': 926, '927': 927, '928': 928, '929': 929, '930': 930, '931': 931, '932': 932, '933': 933, '934': 934, '935': 935, '936': 936, '937': 937, '938': 938, '939': 939, '940': 940, '941': 941, '942': 942, '943': 943, '944': 944, '945': 945, '946': 946, '947': 947, '948': 948, '949': 949, '950': 950, '951': 951, '952': 952, '953': 953, '954': 954, '955': 955, '956': 956, '957': 957, '958': 958, '959': 959, '960': 960, '961': 961, '962': 962, '963': 963, '964': 964, '965': 965, '966': 966, '967': 967, '968': 968, '969': 969, '970': 970, '971': 971, '972': 972, '973': 973, '974': 974, '975': 975, '976': 976, '977': 977, '978': 978, '979': 979, '980': 980, '981': 981, '982': 982, '983': 983, '984': 984, '985': 985, '986': 986, '987': 987, '988': 988, '989': 989, '990': 990, '991': 991, '992': 992, '993': 993, '994': 994, '995': 995, '996': 996, '997': 997, '998': 998, '999': 999}\n",
            "{'knife': 0, 'sword': 1, 'dagger': 2, 'pencil': 3, 'scissors': 4, 'iron nail': 5, 'swordfish': 6, 'toothpick': 7, 'tent_stake': 8, 'screwdriver': 9, 'garden_sickle': 10, 'letter opener': 11}\n",
            "classes in directory doesn't match classes_num\n",
            "{'cup': 0, 'pot': 0, 'fork': 0, 'cable': 0, 'chair': 0, 'plate': 0, 'spoon': 0, 'basket': 0, 'bow tie': 0, 'glasses': 0, 'eyeliner': 0, 'paper box': 0, 'basketball': 0, 'chopsticks': 0, 'drumsticks': 0, 'garden pot': 0, 'table lamp': 0, 'birtday hat': 0, 'sharp heels': 0, 'toilet paper': 0, 'icecream cone': 0, 'sharp screw': 1, 'letter opener': 1, 'syringe needle': 1, 'swordfish': 1, 'unicorn': 1, 'pencil': 1, 'scissors': 1, 'iron nail': 1, 'toothpick': 1, 'tent_stake': 1, 'closed_umbrella': 1, 'sword': 1, 'spear': 1, 'screwdriver': 1, 'knife': 1, 'garden_sickle': 1, 'dagger': 1}\n",
            "classes in directory doesn't match classes_num\n",
            "50000 0\n",
            "3632 909\n",
            "3786 0\n",
            "Network and dataloaders were created\n",
            "l1_lamb_0.5_ref_imagnet's ckpts loaded\n",
            "{'0': 0, '1': 1, '2': 2, '3': 3, '4': 4, '5': 5, '6': 6, '7': 7, '8': 8, '9': 9, '010': 10, '11': 11, '12': 12, '13': 13, '14': 14, '15': 15, '16': 16, '17': 17, '18': 18, '19': 19, '020': 20, '21': 21, '22': 22, '23': 23, '24': 24, '25': 25, '26': 26, '27': 27, '28': 28, '29': 29, '030': 30, '31': 31, '32': 32, '33': 33, '34': 34, '35': 35, '36': 36, '37': 37, '38': 38, '39': 39, '040': 40, '41': 41, '42': 42, '43': 43, '44': 44, '45': 45, '46': 46, '47': 47, '48': 48, '49': 49, '050': 50, '51': 51, '52': 52, '53': 53, '54': 54, '55': 55, '56': 56, '57': 57, '58': 58, '59': 59, '060': 60, '61': 61, '62': 62, '63': 63, '64': 64, '65': 65, '66': 66, '67': 67, '68': 68, '69': 69, '070': 70, '71': 71, '72': 72, '73': 73, '74': 74, '75': 75, '76': 76, '77': 77, '78': 78, '79': 79, '080': 80, '81': 81, '82': 82, '83': 83, '84': 84, '85': 85, '86': 86, '87': 87, '88': 88, '89': 89, '090': 90, '91': 91, '92': 92, '93': 93, '94': 94, '95': 95, '96': 96, '97': 97, '98': 98, '99': 99, '0100': 100, '0101': 101, '0102': 102, '0103': 103, '0104': 104, '0105': 105, '0106': 106, '0107': 107, '0108': 108, '0109': 109, '110': 110, '111': 111, '112': 112, '113': 113, '114': 114, '115': 115, '116': 116, '117': 117, '118': 118, '119': 119, '120': 120, '121': 121, '122': 122, '123': 123, '124': 124, '125': 125, '126': 126, '127': 127, '128': 128, '129': 129, '130': 130, '131': 131, '132': 132, '133': 133, '134': 134, '135': 135, '136': 136, '137': 137, '138': 138, '139': 139, '140': 140, '141': 141, '142': 142, '143': 143, '144': 144, '145': 145, '146': 146, '147': 147, '148': 148, '149': 149, '150': 150, '151': 151, '152': 152, '153': 153, '154': 154, '155': 155, '156': 156, '157': 157, '158': 158, '159': 159, '160': 160, '161': 161, '162': 162, '163': 163, '164': 164, '165': 165, '166': 166, '167': 167, '168': 168, '169': 169, '170': 170, '171': 171, '172': 172, '173': 173, '174': 174, '175': 175, '176': 176, '177': 177, '178': 178, '179': 179, '180': 180, '181': 181, '182': 182, '183': 183, '184': 184, '185': 185, '186': 186, '187': 187, '188': 188, '189': 189, '190': 190, '191': 191, '192': 192, '193': 193, '194': 194, '195': 195, '196': 196, '197': 197, '198': 198, '199': 199, '0200': 200, '0201': 201, '0202': 202, '0203': 203, '0204': 204, '0205': 205, '0206': 206, '0207': 207, '0208': 208, '0209': 209, '210': 210, '211': 211, '212': 212, '213': 213, '214': 214, '215': 215, '216': 216, '217': 217, '218': 218, '219': 219, '220': 220, '221': 221, '222': 222, '223': 223, '224': 224, '225': 225, '226': 226, '227': 227, '228': 228, '229': 229, '230': 230, '231': 231, '232': 232, '233': 233, '234': 234, '235': 235, '236': 236, '237': 237, '238': 238, '239': 239, '240': 240, '241': 241, '242': 242, '243': 243, '244': 244, '245': 245, '246': 246, '247': 247, '248': 248, '249': 249, '250': 250, '251': 251, '252': 252, '253': 253, '254': 254, '255': 255, '256': 256, '257': 257, '258': 258, '259': 259, '260': 260, '261': 261, '262': 262, '263': 263, '264': 264, '265': 265, '266': 266, '267': 267, '268': 268, '269': 269, '270': 270, '271': 271, '272': 272, '273': 273, '274': 274, '275': 275, '276': 276, '277': 277, '278': 278, '279': 279, '280': 280, '281': 281, '282': 282, '283': 283, '284': 284, '285': 285, '286': 286, '287': 287, '288': 288, '289': 289, '290': 290, '291': 291, '292': 292, '293': 293, '294': 294, '295': 295, '296': 296, '297': 297, '298': 298, '299': 299, '0300': 300, '0301': 301, '0302': 302, '0303': 303, '0304': 304, '0305': 305, '0306': 306, '0307': 307, '0308': 308, '0309': 309, '310': 310, '311': 311, '312': 312, '313': 313, '314': 314, '315': 315, '316': 316, '317': 317, '318': 318, '319': 319, '320': 320, '321': 321, '322': 322, '323': 323, '324': 324, '325': 325, '326': 326, '327': 327, '328': 328, '329': 329, '330': 330, '331': 331, '332': 332, '333': 333, '334': 334, '335': 335, '336': 336, '337': 337, '338': 338, '339': 339, '340': 340, '341': 341, '342': 342, '343': 343, '344': 344, '345': 345, '346': 346, '347': 347, '348': 348, '349': 349, '350': 350, '351': 351, '352': 352, '353': 353, '354': 354, '355': 355, '356': 356, '357': 357, '358': 358, '359': 359, '360': 360, '361': 361, '362': 362, '363': 363, '364': 364, '365': 365, '366': 366, '367': 367, '368': 368, '369': 369, '370': 370, '371': 371, '372': 372, '373': 373, '374': 374, '375': 375, '376': 376, '377': 377, '378': 378, '379': 379, '380': 380, '381': 381, '382': 382, '383': 383, '384': 384, '385': 385, '386': 386, '387': 387, '388': 388, '389': 389, '390': 390, '391': 391, '392': 392, '393': 393, '394': 394, '395': 395, '396': 396, '397': 397, '398': 398, '399': 399, '0400': 400, '0401': 401, '0402': 402, '0403': 403, '0404': 404, '0405': 405, '0406': 406, '0407': 407, '0408': 408, '0409': 409, '410': 410, '411': 411, '412': 412, '413': 413, '414': 414, '415': 415, '416': 416, '417': 417, '418': 418, '419': 419, '420': 420, '421': 421, '422': 422, '423': 423, '424': 424, '425': 425, '426': 426, '427': 427, '428': 428, '429': 429, '430': 430, '431': 431, '432': 432, '433': 433, '434': 434, '435': 435, '436': 436, '437': 437, '438': 438, '439': 439, '440': 440, '441': 441, '442': 442, '443': 443, '444': 444, '445': 445, '446': 446, '447': 447, '448': 448, '449': 449, '450': 450, '451': 451, '452': 452, '453': 453, '454': 454, '455': 455, '456': 456, '457': 457, '458': 458, '459': 459, '460': 460, '461': 461, '462': 462, '463': 463, '464': 464, '465': 465, '466': 466, '467': 467, '468': 468, '469': 469, '470': 470, '471': 471, '472': 472, '473': 473, '474': 474, '475': 475, '476': 476, '477': 477, '478': 478, '479': 479, '480': 480, '481': 481, '482': 482, '483': 483, '484': 484, '485': 485, '486': 486, '487': 487, '488': 488, '489': 489, '490': 490, '491': 491, '492': 492, '493': 493, '494': 494, '495': 495, '496': 496, '497': 497, '498': 498, '499': 499, '0500': 500, '0501': 501, '0502': 502, '0503': 503, '0504': 504, '0505': 505, '0506': 506, '0507': 507, '0508': 508, '0509': 509, '510': 510, '511': 511, '512': 512, '513': 513, '514': 514, '515': 515, '516': 516, '517': 517, '518': 518, '519': 519, '520': 520, '521': 521, '522': 522, '523': 523, '524': 524, '525': 525, '526': 526, '527': 527, '528': 528, '529': 529, '530': 530, '531': 531, '532': 532, '533': 533, '534': 534, '535': 535, '536': 536, '537': 537, '538': 538, '539': 539, '540': 540, '541': 541, '542': 542, '543': 543, '544': 544, '545': 545, '546': 546, '547': 547, '548': 548, '549': 549, '550': 550, '551': 551, '552': 552, '553': 553, '554': 554, '555': 555, '556': 556, '557': 557, '558': 558, '559': 559, '560': 560, '561': 561, '562': 562, '563': 563, '564': 564, '565': 565, '566': 566, '567': 567, '568': 568, '569': 569, '570': 570, '571': 571, '572': 572, '573': 573, '574': 574, '575': 575, '576': 576, '577': 577, '578': 578, '579': 579, '580': 580, '581': 581, '582': 582, '583': 583, '584': 584, '585': 585, '586': 586, '587': 587, '588': 588, '589': 589, '590': 590, '591': 591, '592': 592, '593': 593, '594': 594, '595': 595, '596': 596, '597': 597, '598': 598, '599': 599, '0600': 600, '0601': 601, '0602': 602, '0603': 603, '0604': 604, '0605': 605, '0606': 606, '0607': 607, '0608': 608, '0609': 609, '610': 610, '611': 611, '612': 612, '613': 613, '614': 614, '615': 615, '616': 616, '617': 617, '618': 618, '619': 619, '620': 620, '621': 621, '622': 622, '623': 623, '624': 624, '625': 625, '626': 626, '627': 627, '628': 628, '629': 629, '630': 630, '631': 631, '632': 632, '633': 633, '634': 634, '635': 635, '636': 636, '637': 637, '638': 638, '639': 639, '640': 640, '641': 641, '642': 642, '643': 643, '644': 644, '645': 645, '646': 646, '647': 647, '648': 648, '649': 649, '650': 650, '651': 651, '652': 652, '653': 653, '654': 654, '655': 655, '656': 656, '657': 657, '658': 658, '659': 659, '660': 660, '661': 661, '662': 662, '663': 663, '664': 664, '665': 665, '666': 666, '667': 667, '668': 668, '669': 669, '670': 670, '671': 671, '672': 672, '673': 673, '674': 674, '675': 675, '676': 676, '677': 677, '678': 678, '679': 679, '680': 680, '681': 681, '682': 682, '683': 683, '684': 684, '685': 685, '686': 686, '687': 687, '688': 688, '689': 689, '690': 690, '691': 691, '692': 692, '693': 693, '694': 694, '695': 695, '696': 696, '697': 697, '698': 698, '699': 699, '0700': 700, '0701': 701, '0702': 702, '0703': 703, '0704': 704, '0705': 705, '0706': 706, '0707': 707, '0708': 708, '0709': 709, '710': 710, '711': 711, '712': 712, '713': 713, '714': 714, '715': 715, '716': 716, '717': 717, '718': 718, '719': 719, '720': 720, '721': 721, '722': 722, '723': 723, '724': 724, '725': 725, '726': 726, '727': 727, '728': 728, '729': 729, '730': 730, '731': 731, '732': 732, '733': 733, '734': 734, '735': 735, '736': 736, '737': 737, '738': 738, '739': 739, '740': 740, '741': 741, '742': 742, '743': 743, '744': 744, '745': 745, '746': 746, '747': 747, '748': 748, '749': 749, '750': 750, '751': 751, '752': 752, '753': 753, '754': 754, '755': 755, '756': 756, '757': 757, '758': 758, '759': 759, '760': 760, '761': 761, '762': 762, '763': 763, '764': 764, '765': 765, '766': 766, '767': 767, '768': 768, '769': 769, '770': 770, '771': 771, '772': 772, '773': 773, '774': 774, '775': 775, '776': 776, '777': 777, '778': 778, '779': 779, '780': 780, '781': 781, '782': 782, '783': 783, '784': 784, '785': 785, '786': 786, '787': 787, '788': 788, '789': 789, '790': 790, '791': 791, '792': 792, '793': 793, '794': 794, '795': 795, '796': 796, '797': 797, '798': 798, '799': 799, '0800': 800, '0801': 801, '0802': 802, '0803': 803, '0804': 804, '0805': 805, '0806': 806, '0807': 807, '0808': 808, '0809': 809, '810': 810, '811': 811, '812': 812, '813': 813, '814': 814, '815': 815, '816': 816, '817': 817, '818': 818, '819': 819, '820': 820, '821': 821, '822': 822, '823': 823, '824': 824, '825': 825, '826': 826, '827': 827, '828': 828, '829': 829, '830': 830, '831': 831, '832': 832, '833': 833, '834': 834, '835': 835, '836': 836, '837': 837, '838': 838, '839': 839, '840': 840, '841': 841, '842': 842, '843': 843, '844': 844, '845': 845, '846': 846, '847': 847, '848': 848, '849': 849, '850': 850, '851': 851, '852': 852, '853': 853, '854': 854, '855': 855, '856': 856, '857': 857, '858': 858, '859': 859, '860': 860, '861': 861, '862': 862, '863': 863, '864': 864, '865': 865, '866': 866, '867': 867, '868': 868, '869': 869, '870': 870, '871': 871, '872': 872, '873': 873, '874': 874, '875': 875, '876': 876, '877': 877, '878': 878, '879': 879, '880': 880, '881': 881, '882': 882, '883': 883, '884': 884, '885': 885, '886': 886, '887': 887, '888': 888, '889': 889, '890': 890, '891': 891, '892': 892, '893': 893, '894': 894, '895': 895, '896': 896, '897': 897, '898': 898, '899': 899, '0900': 900, '0901': 901, '0902': 902, '0903': 903, '0904': 904, '0905': 905, '0906': 906, '0907': 907, '0908': 908, '0909': 909, '910': 910, '911': 911, '912': 912, '913': 913, '914': 914, '915': 915, '916': 916, '917': 917, '918': 918, '919': 919, '920': 920, '921': 921, '922': 922, '923': 923, '924': 924, '925': 925, '926': 926, '927': 927, '928': 928, '929': 929, '930': 930, '931': 931, '932': 932, '933': 933, '934': 934, '935': 935, '936': 936, '937': 937, '938': 938, '939': 939, '940': 940, '941': 941, '942': 942, '943': 943, '944': 944, '945': 945, '946': 946, '947': 947, '948': 948, '949': 949, '950': 950, '951': 951, '952': 952, '953': 953, '954': 954, '955': 955, '956': 956, '957': 957, '958': 958, '959': 959, '960': 960, '961': 961, '962': 962, '963': 963, '964': 964, '965': 965, '966': 966, '967': 967, '968': 968, '969': 969, '970': 970, '971': 971, '972': 972, '973': 973, '974': 974, '975': 975, '976': 976, '977': 977, '978': 978, '979': 979, '980': 980, '981': 981, '982': 982, '983': 983, '984': 984, '985': 985, '986': 986, '987': 987, '988': 988, '989': 989, '990': 990, '991': 991, '992': 992, '993': 993, '994': 994, '995': 995, '996': 996, '997': 997, '998': 998, '999': 999}\n",
            "{'knife': 0, 'sword': 1, 'dagger': 2, 'pencil': 3, 'scissors': 4, 'iron nail': 5, 'swordfish': 6, 'toothpick': 7, 'tent_stake': 8, 'screwdriver': 9, 'garden_sickle': 10, 'letter opener': 11}\n",
            "classes in directory doesn't match classes_num\n",
            "{'cup': 0, 'pot': 0, 'fork': 0, 'cable': 0, 'chair': 0, 'plate': 0, 'spoon': 0, 'basket': 0, 'bow tie': 0, 'glasses': 0, 'eyeliner': 0, 'paper box': 0, 'basketball': 0, 'chopsticks': 0, 'drumsticks': 0, 'garden pot': 0, 'table lamp': 0, 'birtday hat': 0, 'sharp heels': 0, 'toilet paper': 0, 'icecream cone': 0, 'sharp screw': 1, 'letter opener': 1, 'syringe needle': 1, 'swordfish': 1, 'unicorn': 1, 'pencil': 1, 'scissors': 1, 'iron nail': 1, 'toothpick': 1, 'tent_stake': 1, 'closed_umbrella': 1, 'sword': 1, 'spear': 1, 'screwdriver': 1, 'knife': 1, 'garden_sickle': 1, 'dagger': 1}\n",
            "classes in directory doesn't match classes_num\n",
            "50000 0\n",
            "3632 909\n",
            "3786 0\n",
            "Network and dataloaders were created\n",
            "l1_lamb_0.2_ref_imagnet's ckpts loaded\n",
            "{'0': 0, '1': 1, '2': 2, '3': 3, '4': 4, '5': 5, '6': 6, '7': 7, '8': 8, '9': 9, '010': 10, '11': 11, '12': 12, '13': 13, '14': 14, '15': 15, '16': 16, '17': 17, '18': 18, '19': 19, '020': 20, '21': 21, '22': 22, '23': 23, '24': 24, '25': 25, '26': 26, '27': 27, '28': 28, '29': 29, '030': 30, '31': 31, '32': 32, '33': 33, '34': 34, '35': 35, '36': 36, '37': 37, '38': 38, '39': 39, '040': 40, '41': 41, '42': 42, '43': 43, '44': 44, '45': 45, '46': 46, '47': 47, '48': 48, '49': 49, '050': 50, '51': 51, '52': 52, '53': 53, '54': 54, '55': 55, '56': 56, '57': 57, '58': 58, '59': 59, '060': 60, '61': 61, '62': 62, '63': 63, '64': 64, '65': 65, '66': 66, '67': 67, '68': 68, '69': 69, '070': 70, '71': 71, '72': 72, '73': 73, '74': 74, '75': 75, '76': 76, '77': 77, '78': 78, '79': 79, '080': 80, '81': 81, '82': 82, '83': 83, '84': 84, '85': 85, '86': 86, '87': 87, '88': 88, '89': 89, '090': 90, '91': 91, '92': 92, '93': 93, '94': 94, '95': 95, '96': 96, '97': 97, '98': 98, '99': 99, '0100': 100, '0101': 101, '0102': 102, '0103': 103, '0104': 104, '0105': 105, '0106': 106, '0107': 107, '0108': 108, '0109': 109, '110': 110, '111': 111, '112': 112, '113': 113, '114': 114, '115': 115, '116': 116, '117': 117, '118': 118, '119': 119, '120': 120, '121': 121, '122': 122, '123': 123, '124': 124, '125': 125, '126': 126, '127': 127, '128': 128, '129': 129, '130': 130, '131': 131, '132': 132, '133': 133, '134': 134, '135': 135, '136': 136, '137': 137, '138': 138, '139': 139, '140': 140, '141': 141, '142': 142, '143': 143, '144': 144, '145': 145, '146': 146, '147': 147, '148': 148, '149': 149, '150': 150, '151': 151, '152': 152, '153': 153, '154': 154, '155': 155, '156': 156, '157': 157, '158': 158, '159': 159, '160': 160, '161': 161, '162': 162, '163': 163, '164': 164, '165': 165, '166': 166, '167': 167, '168': 168, '169': 169, '170': 170, '171': 171, '172': 172, '173': 173, '174': 174, '175': 175, '176': 176, '177': 177, '178': 178, '179': 179, '180': 180, '181': 181, '182': 182, '183': 183, '184': 184, '185': 185, '186': 186, '187': 187, '188': 188, '189': 189, '190': 190, '191': 191, '192': 192, '193': 193, '194': 194, '195': 195, '196': 196, '197': 197, '198': 198, '199': 199, '0200': 200, '0201': 201, '0202': 202, '0203': 203, '0204': 204, '0205': 205, '0206': 206, '0207': 207, '0208': 208, '0209': 209, '210': 210, '211': 211, '212': 212, '213': 213, '214': 214, '215': 215, '216': 216, '217': 217, '218': 218, '219': 219, '220': 220, '221': 221, '222': 222, '223': 223, '224': 224, '225': 225, '226': 226, '227': 227, '228': 228, '229': 229, '230': 230, '231': 231, '232': 232, '233': 233, '234': 234, '235': 235, '236': 236, '237': 237, '238': 238, '239': 239, '240': 240, '241': 241, '242': 242, '243': 243, '244': 244, '245': 245, '246': 246, '247': 247, '248': 248, '249': 249, '250': 250, '251': 251, '252': 252, '253': 253, '254': 254, '255': 255, '256': 256, '257': 257, '258': 258, '259': 259, '260': 260, '261': 261, '262': 262, '263': 263, '264': 264, '265': 265, '266': 266, '267': 267, '268': 268, '269': 269, '270': 270, '271': 271, '272': 272, '273': 273, '274': 274, '275': 275, '276': 276, '277': 277, '278': 278, '279': 279, '280': 280, '281': 281, '282': 282, '283': 283, '284': 284, '285': 285, '286': 286, '287': 287, '288': 288, '289': 289, '290': 290, '291': 291, '292': 292, '293': 293, '294': 294, '295': 295, '296': 296, '297': 297, '298': 298, '299': 299, '0300': 300, '0301': 301, '0302': 302, '0303': 303, '0304': 304, '0305': 305, '0306': 306, '0307': 307, '0308': 308, '0309': 309, '310': 310, '311': 311, '312': 312, '313': 313, '314': 314, '315': 315, '316': 316, '317': 317, '318': 318, '319': 319, '320': 320, '321': 321, '322': 322, '323': 323, '324': 324, '325': 325, '326': 326, '327': 327, '328': 328, '329': 329, '330': 330, '331': 331, '332': 332, '333': 333, '334': 334, '335': 335, '336': 336, '337': 337, '338': 338, '339': 339, '340': 340, '341': 341, '342': 342, '343': 343, '344': 344, '345': 345, '346': 346, '347': 347, '348': 348, '349': 349, '350': 350, '351': 351, '352': 352, '353': 353, '354': 354, '355': 355, '356': 356, '357': 357, '358': 358, '359': 359, '360': 360, '361': 361, '362': 362, '363': 363, '364': 364, '365': 365, '366': 366, '367': 367, '368': 368, '369': 369, '370': 370, '371': 371, '372': 372, '373': 373, '374': 374, '375': 375, '376': 376, '377': 377, '378': 378, '379': 379, '380': 380, '381': 381, '382': 382, '383': 383, '384': 384, '385': 385, '386': 386, '387': 387, '388': 388, '389': 389, '390': 390, '391': 391, '392': 392, '393': 393, '394': 394, '395': 395, '396': 396, '397': 397, '398': 398, '399': 399, '0400': 400, '0401': 401, '0402': 402, '0403': 403, '0404': 404, '0405': 405, '0406': 406, '0407': 407, '0408': 408, '0409': 409, '410': 410, '411': 411, '412': 412, '413': 413, '414': 414, '415': 415, '416': 416, '417': 417, '418': 418, '419': 419, '420': 420, '421': 421, '422': 422, '423': 423, '424': 424, '425': 425, '426': 426, '427': 427, '428': 428, '429': 429, '430': 430, '431': 431, '432': 432, '433': 433, '434': 434, '435': 435, '436': 436, '437': 437, '438': 438, '439': 439, '440': 440, '441': 441, '442': 442, '443': 443, '444': 444, '445': 445, '446': 446, '447': 447, '448': 448, '449': 449, '450': 450, '451': 451, '452': 452, '453': 453, '454': 454, '455': 455, '456': 456, '457': 457, '458': 458, '459': 459, '460': 460, '461': 461, '462': 462, '463': 463, '464': 464, '465': 465, '466': 466, '467': 467, '468': 468, '469': 469, '470': 470, '471': 471, '472': 472, '473': 473, '474': 474, '475': 475, '476': 476, '477': 477, '478': 478, '479': 479, '480': 480, '481': 481, '482': 482, '483': 483, '484': 484, '485': 485, '486': 486, '487': 487, '488': 488, '489': 489, '490': 490, '491': 491, '492': 492, '493': 493, '494': 494, '495': 495, '496': 496, '497': 497, '498': 498, '499': 499, '0500': 500, '0501': 501, '0502': 502, '0503': 503, '0504': 504, '0505': 505, '0506': 506, '0507': 507, '0508': 508, '0509': 509, '510': 510, '511': 511, '512': 512, '513': 513, '514': 514, '515': 515, '516': 516, '517': 517, '518': 518, '519': 519, '520': 520, '521': 521, '522': 522, '523': 523, '524': 524, '525': 525, '526': 526, '527': 527, '528': 528, '529': 529, '530': 530, '531': 531, '532': 532, '533': 533, '534': 534, '535': 535, '536': 536, '537': 537, '538': 538, '539': 539, '540': 540, '541': 541, '542': 542, '543': 543, '544': 544, '545': 545, '546': 546, '547': 547, '548': 548, '549': 549, '550': 550, '551': 551, '552': 552, '553': 553, '554': 554, '555': 555, '556': 556, '557': 557, '558': 558, '559': 559, '560': 560, '561': 561, '562': 562, '563': 563, '564': 564, '565': 565, '566': 566, '567': 567, '568': 568, '569': 569, '570': 570, '571': 571, '572': 572, '573': 573, '574': 574, '575': 575, '576': 576, '577': 577, '578': 578, '579': 579, '580': 580, '581': 581, '582': 582, '583': 583, '584': 584, '585': 585, '586': 586, '587': 587, '588': 588, '589': 589, '590': 590, '591': 591, '592': 592, '593': 593, '594': 594, '595': 595, '596': 596, '597': 597, '598': 598, '599': 599, '0600': 600, '0601': 601, '0602': 602, '0603': 603, '0604': 604, '0605': 605, '0606': 606, '0607': 607, '0608': 608, '0609': 609, '610': 610, '611': 611, '612': 612, '613': 613, '614': 614, '615': 615, '616': 616, '617': 617, '618': 618, '619': 619, '620': 620, '621': 621, '622': 622, '623': 623, '624': 624, '625': 625, '626': 626, '627': 627, '628': 628, '629': 629, '630': 630, '631': 631, '632': 632, '633': 633, '634': 634, '635': 635, '636': 636, '637': 637, '638': 638, '639': 639, '640': 640, '641': 641, '642': 642, '643': 643, '644': 644, '645': 645, '646': 646, '647': 647, '648': 648, '649': 649, '650': 650, '651': 651, '652': 652, '653': 653, '654': 654, '655': 655, '656': 656, '657': 657, '658': 658, '659': 659, '660': 660, '661': 661, '662': 662, '663': 663, '664': 664, '665': 665, '666': 666, '667': 667, '668': 668, '669': 669, '670': 670, '671': 671, '672': 672, '673': 673, '674': 674, '675': 675, '676': 676, '677': 677, '678': 678, '679': 679, '680': 680, '681': 681, '682': 682, '683': 683, '684': 684, '685': 685, '686': 686, '687': 687, '688': 688, '689': 689, '690': 690, '691': 691, '692': 692, '693': 693, '694': 694, '695': 695, '696': 696, '697': 697, '698': 698, '699': 699, '0700': 700, '0701': 701, '0702': 702, '0703': 703, '0704': 704, '0705': 705, '0706': 706, '0707': 707, '0708': 708, '0709': 709, '710': 710, '711': 711, '712': 712, '713': 713, '714': 714, '715': 715, '716': 716, '717': 717, '718': 718, '719': 719, '720': 720, '721': 721, '722': 722, '723': 723, '724': 724, '725': 725, '726': 726, '727': 727, '728': 728, '729': 729, '730': 730, '731': 731, '732': 732, '733': 733, '734': 734, '735': 735, '736': 736, '737': 737, '738': 738, '739': 739, '740': 740, '741': 741, '742': 742, '743': 743, '744': 744, '745': 745, '746': 746, '747': 747, '748': 748, '749': 749, '750': 750, '751': 751, '752': 752, '753': 753, '754': 754, '755': 755, '756': 756, '757': 757, '758': 758, '759': 759, '760': 760, '761': 761, '762': 762, '763': 763, '764': 764, '765': 765, '766': 766, '767': 767, '768': 768, '769': 769, '770': 770, '771': 771, '772': 772, '773': 773, '774': 774, '775': 775, '776': 776, '777': 777, '778': 778, '779': 779, '780': 780, '781': 781, '782': 782, '783': 783, '784': 784, '785': 785, '786': 786, '787': 787, '788': 788, '789': 789, '790': 790, '791': 791, '792': 792, '793': 793, '794': 794, '795': 795, '796': 796, '797': 797, '798': 798, '799': 799, '0800': 800, '0801': 801, '0802': 802, '0803': 803, '0804': 804, '0805': 805, '0806': 806, '0807': 807, '0808': 808, '0809': 809, '810': 810, '811': 811, '812': 812, '813': 813, '814': 814, '815': 815, '816': 816, '817': 817, '818': 818, '819': 819, '820': 820, '821': 821, '822': 822, '823': 823, '824': 824, '825': 825, '826': 826, '827': 827, '828': 828, '829': 829, '830': 830, '831': 831, '832': 832, '833': 833, '834': 834, '835': 835, '836': 836, '837': 837, '838': 838, '839': 839, '840': 840, '841': 841, '842': 842, '843': 843, '844': 844, '845': 845, '846': 846, '847': 847, '848': 848, '849': 849, '850': 850, '851': 851, '852': 852, '853': 853, '854': 854, '855': 855, '856': 856, '857': 857, '858': 858, '859': 859, '860': 860, '861': 861, '862': 862, '863': 863, '864': 864, '865': 865, '866': 866, '867': 867, '868': 868, '869': 869, '870': 870, '871': 871, '872': 872, '873': 873, '874': 874, '875': 875, '876': 876, '877': 877, '878': 878, '879': 879, '880': 880, '881': 881, '882': 882, '883': 883, '884': 884, '885': 885, '886': 886, '887': 887, '888': 888, '889': 889, '890': 890, '891': 891, '892': 892, '893': 893, '894': 894, '895': 895, '896': 896, '897': 897, '898': 898, '899': 899, '0900': 900, '0901': 901, '0902': 902, '0903': 903, '0904': 904, '0905': 905, '0906': 906, '0907': 907, '0908': 908, '0909': 909, '910': 910, '911': 911, '912': 912, '913': 913, '914': 914, '915': 915, '916': 916, '917': 917, '918': 918, '919': 919, '920': 920, '921': 921, '922': 922, '923': 923, '924': 924, '925': 925, '926': 926, '927': 927, '928': 928, '929': 929, '930': 930, '931': 931, '932': 932, '933': 933, '934': 934, '935': 935, '936': 936, '937': 937, '938': 938, '939': 939, '940': 940, '941': 941, '942': 942, '943': 943, '944': 944, '945': 945, '946': 946, '947': 947, '948': 948, '949': 949, '950': 950, '951': 951, '952': 952, '953': 953, '954': 954, '955': 955, '956': 956, '957': 957, '958': 958, '959': 959, '960': 960, '961': 961, '962': 962, '963': 963, '964': 964, '965': 965, '966': 966, '967': 967, '968': 968, '969': 969, '970': 970, '971': 971, '972': 972, '973': 973, '974': 974, '975': 975, '976': 976, '977': 977, '978': 978, '979': 979, '980': 980, '981': 981, '982': 982, '983': 983, '984': 984, '985': 985, '986': 986, '987': 987, '988': 988, '989': 989, '990': 990, '991': 991, '992': 992, '993': 993, '994': 994, '995': 995, '996': 996, '997': 997, '998': 998, '999': 999}\n",
            "{'knife': 0, 'sword': 1, 'dagger': 2, 'pencil': 3, 'scissors': 4, 'iron nail': 5, 'swordfish': 6, 'toothpick': 7, 'tent_stake': 8, 'screwdriver': 9, 'garden_sickle': 10, 'letter opener': 11}\n",
            "classes in directory doesn't match classes_num\n",
            "{'cup': 0, 'pot': 0, 'fork': 0, 'cable': 0, 'chair': 0, 'plate': 0, 'spoon': 0, 'basket': 0, 'bow tie': 0, 'glasses': 0, 'eyeliner': 0, 'paper box': 0, 'basketball': 0, 'chopsticks': 0, 'drumsticks': 0, 'garden pot': 0, 'table lamp': 0, 'birtday hat': 0, 'sharp heels': 0, 'toilet paper': 0, 'icecream cone': 0, 'sharp screw': 1, 'letter opener': 1, 'syringe needle': 1, 'swordfish': 1, 'unicorn': 1, 'pencil': 1, 'scissors': 1, 'iron nail': 1, 'toothpick': 1, 'tent_stake': 1, 'closed_umbrella': 1, 'sword': 1, 'spear': 1, 'screwdriver': 1, 'knife': 1, 'garden_sickle': 1, 'dagger': 1}\n",
            "classes in directory doesn't match classes_num\n",
            "50000 0\n",
            "3632 909\n",
            "3786 0\n",
            "Network and dataloaders were created\n",
            "l1_lamb_0.05_ref_imagnet's ckpts loaded\n",
            "{'0': 0, '1': 1, '2': 2, '3': 3, '4': 4, '5': 5, '6': 6, '7': 7, '8': 8, '9': 9, '010': 10, '11': 11, '12': 12, '13': 13, '14': 14, '15': 15, '16': 16, '17': 17, '18': 18, '19': 19, '020': 20, '21': 21, '22': 22, '23': 23, '24': 24, '25': 25, '26': 26, '27': 27, '28': 28, '29': 29, '030': 30, '31': 31, '32': 32, '33': 33, '34': 34, '35': 35, '36': 36, '37': 37, '38': 38, '39': 39, '040': 40, '41': 41, '42': 42, '43': 43, '44': 44, '45': 45, '46': 46, '47': 47, '48': 48, '49': 49, '050': 50, '51': 51, '52': 52, '53': 53, '54': 54, '55': 55, '56': 56, '57': 57, '58': 58, '59': 59, '060': 60, '61': 61, '62': 62, '63': 63, '64': 64, '65': 65, '66': 66, '67': 67, '68': 68, '69': 69, '070': 70, '71': 71, '72': 72, '73': 73, '74': 74, '75': 75, '76': 76, '77': 77, '78': 78, '79': 79, '080': 80, '81': 81, '82': 82, '83': 83, '84': 84, '85': 85, '86': 86, '87': 87, '88': 88, '89': 89, '090': 90, '91': 91, '92': 92, '93': 93, '94': 94, '95': 95, '96': 96, '97': 97, '98': 98, '99': 99, '0100': 100, '0101': 101, '0102': 102, '0103': 103, '0104': 104, '0105': 105, '0106': 106, '0107': 107, '0108': 108, '0109': 109, '110': 110, '111': 111, '112': 112, '113': 113, '114': 114, '115': 115, '116': 116, '117': 117, '118': 118, '119': 119, '120': 120, '121': 121, '122': 122, '123': 123, '124': 124, '125': 125, '126': 126, '127': 127, '128': 128, '129': 129, '130': 130, '131': 131, '132': 132, '133': 133, '134': 134, '135': 135, '136': 136, '137': 137, '138': 138, '139': 139, '140': 140, '141': 141, '142': 142, '143': 143, '144': 144, '145': 145, '146': 146, '147': 147, '148': 148, '149': 149, '150': 150, '151': 151, '152': 152, '153': 153, '154': 154, '155': 155, '156': 156, '157': 157, '158': 158, '159': 159, '160': 160, '161': 161, '162': 162, '163': 163, '164': 164, '165': 165, '166': 166, '167': 167, '168': 168, '169': 169, '170': 170, '171': 171, '172': 172, '173': 173, '174': 174, '175': 175, '176': 176, '177': 177, '178': 178, '179': 179, '180': 180, '181': 181, '182': 182, '183': 183, '184': 184, '185': 185, '186': 186, '187': 187, '188': 188, '189': 189, '190': 190, '191': 191, '192': 192, '193': 193, '194': 194, '195': 195, '196': 196, '197': 197, '198': 198, '199': 199, '0200': 200, '0201': 201, '0202': 202, '0203': 203, '0204': 204, '0205': 205, '0206': 206, '0207': 207, '0208': 208, '0209': 209, '210': 210, '211': 211, '212': 212, '213': 213, '214': 214, '215': 215, '216': 216, '217': 217, '218': 218, '219': 219, '220': 220, '221': 221, '222': 222, '223': 223, '224': 224, '225': 225, '226': 226, '227': 227, '228': 228, '229': 229, '230': 230, '231': 231, '232': 232, '233': 233, '234': 234, '235': 235, '236': 236, '237': 237, '238': 238, '239': 239, '240': 240, '241': 241, '242': 242, '243': 243, '244': 244, '245': 245, '246': 246, '247': 247, '248': 248, '249': 249, '250': 250, '251': 251, '252': 252, '253': 253, '254': 254, '255': 255, '256': 256, '257': 257, '258': 258, '259': 259, '260': 260, '261': 261, '262': 262, '263': 263, '264': 264, '265': 265, '266': 266, '267': 267, '268': 268, '269': 269, '270': 270, '271': 271, '272': 272, '273': 273, '274': 274, '275': 275, '276': 276, '277': 277, '278': 278, '279': 279, '280': 280, '281': 281, '282': 282, '283': 283, '284': 284, '285': 285, '286': 286, '287': 287, '288': 288, '289': 289, '290': 290, '291': 291, '292': 292, '293': 293, '294': 294, '295': 295, '296': 296, '297': 297, '298': 298, '299': 299, '0300': 300, '0301': 301, '0302': 302, '0303': 303, '0304': 304, '0305': 305, '0306': 306, '0307': 307, '0308': 308, '0309': 309, '310': 310, '311': 311, '312': 312, '313': 313, '314': 314, '315': 315, '316': 316, '317': 317, '318': 318, '319': 319, '320': 320, '321': 321, '322': 322, '323': 323, '324': 324, '325': 325, '326': 326, '327': 327, '328': 328, '329': 329, '330': 330, '331': 331, '332': 332, '333': 333, '334': 334, '335': 335, '336': 336, '337': 337, '338': 338, '339': 339, '340': 340, '341': 341, '342': 342, '343': 343, '344': 344, '345': 345, '346': 346, '347': 347, '348': 348, '349': 349, '350': 350, '351': 351, '352': 352, '353': 353, '354': 354, '355': 355, '356': 356, '357': 357, '358': 358, '359': 359, '360': 360, '361': 361, '362': 362, '363': 363, '364': 364, '365': 365, '366': 366, '367': 367, '368': 368, '369': 369, '370': 370, '371': 371, '372': 372, '373': 373, '374': 374, '375': 375, '376': 376, '377': 377, '378': 378, '379': 379, '380': 380, '381': 381, '382': 382, '383': 383, '384': 384, '385': 385, '386': 386, '387': 387, '388': 388, '389': 389, '390': 390, '391': 391, '392': 392, '393': 393, '394': 394, '395': 395, '396': 396, '397': 397, '398': 398, '399': 399, '0400': 400, '0401': 401, '0402': 402, '0403': 403, '0404': 404, '0405': 405, '0406': 406, '0407': 407, '0408': 408, '0409': 409, '410': 410, '411': 411, '412': 412, '413': 413, '414': 414, '415': 415, '416': 416, '417': 417, '418': 418, '419': 419, '420': 420, '421': 421, '422': 422, '423': 423, '424': 424, '425': 425, '426': 426, '427': 427, '428': 428, '429': 429, '430': 430, '431': 431, '432': 432, '433': 433, '434': 434, '435': 435, '436': 436, '437': 437, '438': 438, '439': 439, '440': 440, '441': 441, '442': 442, '443': 443, '444': 444, '445': 445, '446': 446, '447': 447, '448': 448, '449': 449, '450': 450, '451': 451, '452': 452, '453': 453, '454': 454, '455': 455, '456': 456, '457': 457, '458': 458, '459': 459, '460': 460, '461': 461, '462': 462, '463': 463, '464': 464, '465': 465, '466': 466, '467': 467, '468': 468, '469': 469, '470': 470, '471': 471, '472': 472, '473': 473, '474': 474, '475': 475, '476': 476, '477': 477, '478': 478, '479': 479, '480': 480, '481': 481, '482': 482, '483': 483, '484': 484, '485': 485, '486': 486, '487': 487, '488': 488, '489': 489, '490': 490, '491': 491, '492': 492, '493': 493, '494': 494, '495': 495, '496': 496, '497': 497, '498': 498, '499': 499, '0500': 500, '0501': 501, '0502': 502, '0503': 503, '0504': 504, '0505': 505, '0506': 506, '0507': 507, '0508': 508, '0509': 509, '510': 510, '511': 511, '512': 512, '513': 513, '514': 514, '515': 515, '516': 516, '517': 517, '518': 518, '519': 519, '520': 520, '521': 521, '522': 522, '523': 523, '524': 524, '525': 525, '526': 526, '527': 527, '528': 528, '529': 529, '530': 530, '531': 531, '532': 532, '533': 533, '534': 534, '535': 535, '536': 536, '537': 537, '538': 538, '539': 539, '540': 540, '541': 541, '542': 542, '543': 543, '544': 544, '545': 545, '546': 546, '547': 547, '548': 548, '549': 549, '550': 550, '551': 551, '552': 552, '553': 553, '554': 554, '555': 555, '556': 556, '557': 557, '558': 558, '559': 559, '560': 560, '561': 561, '562': 562, '563': 563, '564': 564, '565': 565, '566': 566, '567': 567, '568': 568, '569': 569, '570': 570, '571': 571, '572': 572, '573': 573, '574': 574, '575': 575, '576': 576, '577': 577, '578': 578, '579': 579, '580': 580, '581': 581, '582': 582, '583': 583, '584': 584, '585': 585, '586': 586, '587': 587, '588': 588, '589': 589, '590': 590, '591': 591, '592': 592, '593': 593, '594': 594, '595': 595, '596': 596, '597': 597, '598': 598, '599': 599, '0600': 600, '0601': 601, '0602': 602, '0603': 603, '0604': 604, '0605': 605, '0606': 606, '0607': 607, '0608': 608, '0609': 609, '610': 610, '611': 611, '612': 612, '613': 613, '614': 614, '615': 615, '616': 616, '617': 617, '618': 618, '619': 619, '620': 620, '621': 621, '622': 622, '623': 623, '624': 624, '625': 625, '626': 626, '627': 627, '628': 628, '629': 629, '630': 630, '631': 631, '632': 632, '633': 633, '634': 634, '635': 635, '636': 636, '637': 637, '638': 638, '639': 639, '640': 640, '641': 641, '642': 642, '643': 643, '644': 644, '645': 645, '646': 646, '647': 647, '648': 648, '649': 649, '650': 650, '651': 651, '652': 652, '653': 653, '654': 654, '655': 655, '656': 656, '657': 657, '658': 658, '659': 659, '660': 660, '661': 661, '662': 662, '663': 663, '664': 664, '665': 665, '666': 666, '667': 667, '668': 668, '669': 669, '670': 670, '671': 671, '672': 672, '673': 673, '674': 674, '675': 675, '676': 676, '677': 677, '678': 678, '679': 679, '680': 680, '681': 681, '682': 682, '683': 683, '684': 684, '685': 685, '686': 686, '687': 687, '688': 688, '689': 689, '690': 690, '691': 691, '692': 692, '693': 693, '694': 694, '695': 695, '696': 696, '697': 697, '698': 698, '699': 699, '0700': 700, '0701': 701, '0702': 702, '0703': 703, '0704': 704, '0705': 705, '0706': 706, '0707': 707, '0708': 708, '0709': 709, '710': 710, '711': 711, '712': 712, '713': 713, '714': 714, '715': 715, '716': 716, '717': 717, '718': 718, '719': 719, '720': 720, '721': 721, '722': 722, '723': 723, '724': 724, '725': 725, '726': 726, '727': 727, '728': 728, '729': 729, '730': 730, '731': 731, '732': 732, '733': 733, '734': 734, '735': 735, '736': 736, '737': 737, '738': 738, '739': 739, '740': 740, '741': 741, '742': 742, '743': 743, '744': 744, '745': 745, '746': 746, '747': 747, '748': 748, '749': 749, '750': 750, '751': 751, '752': 752, '753': 753, '754': 754, '755': 755, '756': 756, '757': 757, '758': 758, '759': 759, '760': 760, '761': 761, '762': 762, '763': 763, '764': 764, '765': 765, '766': 766, '767': 767, '768': 768, '769': 769, '770': 770, '771': 771, '772': 772, '773': 773, '774': 774, '775': 775, '776': 776, '777': 777, '778': 778, '779': 779, '780': 780, '781': 781, '782': 782, '783': 783, '784': 784, '785': 785, '786': 786, '787': 787, '788': 788, '789': 789, '790': 790, '791': 791, '792': 792, '793': 793, '794': 794, '795': 795, '796': 796, '797': 797, '798': 798, '799': 799, '0800': 800, '0801': 801, '0802': 802, '0803': 803, '0804': 804, '0805': 805, '0806': 806, '0807': 807, '0808': 808, '0809': 809, '810': 810, '811': 811, '812': 812, '813': 813, '814': 814, '815': 815, '816': 816, '817': 817, '818': 818, '819': 819, '820': 820, '821': 821, '822': 822, '823': 823, '824': 824, '825': 825, '826': 826, '827': 827, '828': 828, '829': 829, '830': 830, '831': 831, '832': 832, '833': 833, '834': 834, '835': 835, '836': 836, '837': 837, '838': 838, '839': 839, '840': 840, '841': 841, '842': 842, '843': 843, '844': 844, '845': 845, '846': 846, '847': 847, '848': 848, '849': 849, '850': 850, '851': 851, '852': 852, '853': 853, '854': 854, '855': 855, '856': 856, '857': 857, '858': 858, '859': 859, '860': 860, '861': 861, '862': 862, '863': 863, '864': 864, '865': 865, '866': 866, '867': 867, '868': 868, '869': 869, '870': 870, '871': 871, '872': 872, '873': 873, '874': 874, '875': 875, '876': 876, '877': 877, '878': 878, '879': 879, '880': 880, '881': 881, '882': 882, '883': 883, '884': 884, '885': 885, '886': 886, '887': 887, '888': 888, '889': 889, '890': 890, '891': 891, '892': 892, '893': 893, '894': 894, '895': 895, '896': 896, '897': 897, '898': 898, '899': 899, '0900': 900, '0901': 901, '0902': 902, '0903': 903, '0904': 904, '0905': 905, '0906': 906, '0907': 907, '0908': 908, '0909': 909, '910': 910, '911': 911, '912': 912, '913': 913, '914': 914, '915': 915, '916': 916, '917': 917, '918': 918, '919': 919, '920': 920, '921': 921, '922': 922, '923': 923, '924': 924, '925': 925, '926': 926, '927': 927, '928': 928, '929': 929, '930': 930, '931': 931, '932': 932, '933': 933, '934': 934, '935': 935, '936': 936, '937': 937, '938': 938, '939': 939, '940': 940, '941': 941, '942': 942, '943': 943, '944': 944, '945': 945, '946': 946, '947': 947, '948': 948, '949': 949, '950': 950, '951': 951, '952': 952, '953': 953, '954': 954, '955': 955, '956': 956, '957': 957, '958': 958, '959': 959, '960': 960, '961': 961, '962': 962, '963': 963, '964': 964, '965': 965, '966': 966, '967': 967, '968': 968, '969': 969, '970': 970, '971': 971, '972': 972, '973': 973, '974': 974, '975': 975, '976': 976, '977': 977, '978': 978, '979': 979, '980': 980, '981': 981, '982': 982, '983': 983, '984': 984, '985': 985, '986': 986, '987': 987, '988': 988, '989': 989, '990': 990, '991': 991, '992': 992, '993': 993, '994': 994, '995': 995, '996': 996, '997': 997, '998': 998, '999': 999}\n",
            "{'knife': 0, 'sword': 1, 'dagger': 2, 'pencil': 3, 'scissors': 4, 'iron nail': 5, 'swordfish': 6, 'toothpick': 7, 'tent_stake': 8, 'screwdriver': 9, 'garden_sickle': 10, 'letter opener': 11}\n",
            "classes in directory doesn't match classes_num\n",
            "{'cup': 0, 'pot': 0, 'fork': 0, 'cable': 0, 'chair': 0, 'plate': 0, 'spoon': 0, 'basket': 0, 'bow tie': 0, 'glasses': 0, 'eyeliner': 0, 'paper box': 0, 'basketball': 0, 'chopsticks': 0, 'drumsticks': 0, 'garden pot': 0, 'table lamp': 0, 'birtday hat': 0, 'sharp heels': 0, 'toilet paper': 0, 'icecream cone': 0, 'sharp screw': 1, 'letter opener': 1, 'syringe needle': 1, 'swordfish': 1, 'unicorn': 1, 'pencil': 1, 'scissors': 1, 'iron nail': 1, 'toothpick': 1, 'tent_stake': 1, 'closed_umbrella': 1, 'sword': 1, 'spear': 1, 'screwdriver': 1, 'knife': 1, 'garden_sickle': 1, 'dagger': 1}\n",
            "classes in directory doesn't match classes_num\n",
            "50000 0\n",
            "3632 909\n",
            "3786 0\n",
            "Network and dataloaders were created\n",
            "l1_lamb_0.08_ref_imagnet's ckpts loaded\n",
            "tcmalloc: large alloc 3699638272 bytes == 0x124cf8000 @  0x7fd9597cf1e7 0x7fd922f62665 0x7fd922f79c45 0x7fd9291b60da 0x7fd9297b3a91 0x7fd9297b5547 0x7fd92986347d 0x7fd92986690d 0x7fd929866dcf 0x7fd91e707fb9 0x7fd91e7b7591 0x7fd91e7b42a3 0x7fd91e7a33e5 0x7fd9591936db 0x7fd9594cca3f\n",
            "tcmalloc: large alloc 3699638272 bytes == 0x124cf8000 @  0x7fd9597cf1e7 0x7fd922f62665 0x7fd922f79c45 0x7fd9291b60da 0x7fd9297b3a91 0x7fd9297b5547 0x7fd92986347d 0x7fd92986690d 0x7fd929866dcf 0x7fd91e707fb9 0x7fd91e7b7591 0x7fd91e7b42a3 0x7fd91e7a33e5 0x7fd9591936db 0x7fd9594cca3f\n",
            "tcmalloc: large alloc 3699638272 bytes == 0x124cf8000 @  0x7fd9597cf1e7 0x7fd922f62665 0x7fd922f79c45 0x7fd9291b60da 0x7fd9297b3a91 0x7fd9297b5547 0x7fd92986347d 0x7fd92986690d 0x7fd929866dcf 0x7fd91e707fb9 0x7fd91e7b7591 0x7fd91e7b42a3 0x7fd91e7a33e5 0x7fd9591936db 0x7fd9594cca3f\n",
            "tcmalloc: large alloc 3699638272 bytes == 0x124cf8000 @  0x7fd9597cf1e7 0x7fd922f62665 0x7fd922f79c45 0x7fd9291b60da 0x7fd9297b3a91 0x7fd9297b5547 0x7fd92986347d 0x7fd92986690d 0x7fd929866dcf 0x7fd91e707fb9 0x7fd91e7b7591 0x7fd91e7b42a3 0x7fd91e7a33e5 0x7fd9591936db 0x7fd9594cca3f\n",
            "tcmalloc: large alloc 3699638272 bytes == 0x1304bc000 @  0x7fd9597cf1e7 0x7fd922f62665 0x7fd922f79c45 0x7fd9291b60da 0x7fd9297b3a91 0x7fd9297b5547 0x7fd92986347d 0x7fd92986690d 0x7fd929866dcf 0x7fd91e707fb9 0x7fd91e7b7591 0x7fd91e7b42a3 0x7fd91e7a33e5 0x7fd9591936db 0x7fd9594cca3f\n",
            "tcmalloc: large alloc 3699638272 bytes == 0x124cf8000 @  0x7fd9597cf1e7 0x7fd922f62665 0x7fd922f79c45 0x7fd9291b60da 0x7fd9297b3a91 0x7fd9297b5547 0x7fd92986347d 0x7fd92986690d 0x7fd929866dcf 0x7fd91e707fb9 0x7fd91e7b7591 0x7fd91e7b42a3 0x7fd91e7a33e5 0x7fd9591936db 0x7fd9594cca3f\n",
            "tcmalloc: large alloc 3699638272 bytes == 0x124cf8000 @  0x7fd9597cf1e7 0x7fd922f62665 0x7fd922f79c45 0x7fd9291b60da 0x7fd9297b3a91 0x7fd9297b5547 0x7fd92986347d 0x7fd92986690d 0x7fd929866dcf 0x7fd91e707fb9 0x7fd91e7b7591 0x7fd91e7b42a3 0x7fd91e7a33e5 0x7fd9591936db 0x7fd9594cca3f\n",
            "tcmalloc: large alloc 3699638272 bytes == 0x210470000 @  0x7fd9597cf1e7 0x7fd922f62665 0x7fd922f79c45 0x7fd9291b60da 0x7fd9297b3a91 0x7fd9297b5547 0x7fd92986347d 0x7fd92986690d 0x7fd929866dcf 0x7fd91e707fb9 0x7fd91e7b7591 0x7fd91e7b42a3 0x7fd91e7a33e5 0x7fd9591936db 0x7fd9594cca3f\n",
            "tcmalloc: large alloc 3699638272 bytes == 0x10c4f8000 @  0x7fd9597cf1e7 0x7fd922f62665 0x7fd922f79c45 0x7fd9291b60da 0x7fd9297b3a91 0x7fd9297b5547 0x7fd92986347d 0x7fd92986690d 0x7fd929866dcf 0x7fd91e707fb9 0x7fd91e7b7591 0x7fd91e7b42a3 0x7fd91e7a33e5 0x7fd9591936db 0x7fd9594cca3f\n",
            "tcmalloc: large alloc 3699638272 bytes == 0x10c4f8000 @  0x7fd9597cf1e7 0x7fd922f62665 0x7fd922f79c45 0x7fd9291b60da 0x7fd9297b3a91 0x7fd9297b5547 0x7fd92986347d 0x7fd92986690d 0x7fd929866dcf 0x7fd91e707fb9 0x7fd91e7b7591 0x7fd91e7b42a3 0x7fd91e7a33e5 0x7fd9591936db 0x7fd9594cca3f\n",
            "tcmalloc: large alloc 3699638272 bytes == 0x10c4f8000 @  0x7fd9597cf1e7 0x7fd922f62665 0x7fd922f79c45 0x7fd9291b60da 0x7fd9297b3a91 0x7fd9297b5547 0x7fd92986347d 0x7fd92986690d 0x7fd929866dcf 0x7fd91e707fb9 0x7fd91e7b7591 0x7fd91e7b42a3 0x7fd91e7a33e5 0x7fd9591936db 0x7fd9594cca3f\n",
            "{'l1_lamb_1_ref_imagnet': 0.7403727769851685, 'l1_lamb_0.5_ref_imagnet': 0.3813256621360779, 'l1_lamb_0.2_ref_imagnet': 0.3929165303707123, 'l1_lamb_0.05_ref_imagnet': 0.4446268081665039, 'l1_lamb_0.08_ref_imagnet': 0.41168156266212463}\n",
            "2020-10-21 10:29:26.407996: W tensorflow/core/framework/cpu_allocator_impl.cc:81] Allocation of 513802240 exceeds 10% of free system memory.\n",
            "2020-10-21 10:29:26.794098: W tensorflow/core/framework/cpu_allocator_impl.cc:81] Allocation of 513802240 exceeds 10% of free system memory.\n",
            "2020-10-21 10:29:27.010316: W tensorflow/core/framework/cpu_allocator_impl.cc:81] Allocation of 513802240 exceeds 10% of free system memory.\n",
            "2020-10-21 10:29:27.125607: W tensorflow/core/framework/cpu_allocator_impl.cc:81] Allocation of 513802240 exceeds 10% of free system memory.\n",
            "tcmalloc: large alloc 4624523264 bytes == 0x24d870000 @  0x7fd9597cf1e7 0x7fd922f62665 0x7fd922f79c45 0x7fd9291b60da 0x7fd9291b6a84 0x7fd92922b983 0x7fd92922d01f 0x7fd92922da6c 0x7fd92929f871 0x7fd92929feec 0x7fd9292a127c 0x7fd922df43e9 0x7fd922db9b8f 0x7fd922dba7b0 0x7fd922dee3b4 0x7fd922db714e 0x7fd922db8f5e 0x7fd922daa0cd 0x7fd922a02f28 0x7fd92299e2c2 0x7fd91d0eeed7 0x7fd91d1121c9 0x50a7f5 0x50c1f4 0x507f24 0x509c50 0x50a64d 0x50cfd6 0x507f24 0x509c50 0x50a64d\n",
            "2020-10-21 10:29:29.732232: W tensorflow/core/framework/cpu_allocator_impl.cc:81] Allocation of 513802240 exceeds 10% of free system memory.\n",
            "tf.Tensor(0.2326066, shape=(), dtype=float32) [0.2326066]\n",
            "tcmalloc: large alloc 4624523264 bytes == 0x210470000 @  0x7fd9597cf1e7 0x7fd922f62665 0x7fd922f79c45 0x7fd9291b60da 0x7fd9291b6a84 0x7fd92922b983 0x7fd92922d01f 0x7fd92922da6c 0x7fd92929f871 0x7fd92929feec 0x7fd9292a127c 0x7fd922df43e9 0x7fd922db9b8f 0x7fd922dba7b0 0x7fd922dee3b4 0x7fd922db714e 0x7fd922db8f5e 0x7fd922daa0cd 0x7fd922a02f28 0x7fd92299e2c2 0x7fd91d0eeed7 0x7fd91d1121c9 0x50a7f5 0x50c1f4 0x507f24 0x509c50 0x50a64d 0x50cfd6 0x507f24 0x509c50 0x50a64d\n",
            "tf.Tensor(0.20362611, shape=(), dtype=float32) [0.20362611]\n",
            "Traceback (most recent call last):\n",
            "  File \"test_main.py\", line 98, in <module>\n",
            "    run_test(get_test_parser().parse_args())\n",
            "  File \"test_main.py\", line 95, in run_test\n",
            "    norm_factors)\n",
            "  File \"/content/DOC_/test_utils/CAM_grads_visualization.py\", line 139, in get_results_for_imagesdir\n",
            "    losses_dict = get_gradCam_image(models_dict, image, paths[i], output_path, loss_norm_dict)\n",
            "  File \"/content/DOC_/test_utils/CAM_grads_visualization.py\", line 111, in get_gradCam_image\n",
            "    heatmap, loss = cam.compute_heatmap(np.copy(image))\n",
            "  File \"/content/DOC_/test_utils/CAM_grads_visualization.py\", line 47, in compute_heatmap\n",
            "    (t_convOutputs, t_predictions) = gradModel(self.templates)\n",
            "  File \"/usr/local/lib/python3.6/dist-packages/tensorflow/python/keras/engine/base_layer.py\", line 985, in __call__\n",
            "    outputs = call_fn(inputs, *args, **kwargs)\n",
            "  File \"/usr/local/lib/python3.6/dist-packages/tensorflow/python/keras/engine/functional.py\", line 386, in call\n",
            "    inputs, training=training, mask=mask)\n",
            "  File \"/usr/local/lib/python3.6/dist-packages/tensorflow/python/keras/engine/functional.py\", line 508, in _run_internal_graph\n",
            "    outputs = node.layer(*args, **kwargs)\n",
            "  File \"/usr/local/lib/python3.6/dist-packages/tensorflow/python/keras/engine/base_layer.py\", line 985, in __call__\n",
            "    outputs = call_fn(inputs, *args, **kwargs)\n",
            "  File \"/usr/local/lib/python3.6/dist-packages/tensorflow/python/keras/layers/convolutional.py\", line 247, in call\n",
            "    outputs = self._convolution_op(inputs, self.kernel)\n",
            "  File \"/usr/local/lib/python3.6/dist-packages/tensorflow/python/util/dispatch.py\", line 201, in wrapper\n",
            "    return target(*args, **kwargs)\n",
            "  File \"/usr/local/lib/python3.6/dist-packages/tensorflow/python/ops/nn_ops.py\", line 1018, in convolution_v2\n",
            "    name=name)\n",
            "  File \"/usr/local/lib/python3.6/dist-packages/tensorflow/python/ops/nn_ops.py\", line 1148, in convolution_internal\n",
            "    name=name)\n",
            "  File \"/usr/local/lib/python3.6/dist-packages/tensorflow/python/ops/nn_ops.py\", line 2592, in _conv2d_expanded_batch\n",
            "    name=name)\n",
            "  File \"/usr/local/lib/python3.6/dist-packages/tensorflow/python/ops/gen_nn_ops.py\", line 935, in conv2d\n",
            "    \"dilations\", dilations)\n",
            "KeyboardInterrupt\n"
          ],
          "name": "stdout"
        }
      ]
    },
    {
      "cell_type": "code",
      "metadata": {
        "id": "GpwGYjNy-Bee",
        "outputId": "31e08ba3-dac1-4d4b-9bd0-f967eb3ec2c1",
        "colab": {
          "base_uri": "https://localhost:8080/",
          "height": 34
        }
      },
      "source": [
        "import os\n",
        "print(os.path.exists(\"/content/drive/My Drive/Colab Notebooks/affordances/experiments/l1_lamb_0.5_ref_imagnet_normal\"))"
      ],
      "execution_count": 29,
      "outputs": [
        {
          "output_type": "stream",
          "text": [
            "False\n"
          ],
          "name": "stdout"
        }
      ]
    },
    {
      "cell_type": "markdown",
      "metadata": {
        "id": "eFqod9kq98LR"
      },
      "source": [
        "Features comparisons"
      ]
    },
    {
      "cell_type": "code",
      "metadata": {
        "id": "7EVK-6cx96hZ"
      },
      "source": [
        "!python test_main.py --models_dirs=\"/content/drive/My Drive/Colab Notebooks/affordances/experiments/untrained_l2_features_is_f1\" --models_dirs=\"/content/drive/My Drive/Colab Notebooks/affordances/experiments/l2_lamb_1_ref_imagnet_features_is_fc1\" --models_dirs=\"/content/drive/My Drive/Colab Notebooks/affordances/experiments/l2_lamb_1_ref_imagnet\" --output_path=\"/content/drive/My Drive/Colab Notebooks/affordances/doc_test_results\" --name=\"features_comparisons\" --cam_grads_images --scores_graph --target2alien_roc --alien2alien_roc "
      ],
      "execution_count": null,
      "outputs": []
    },
    {
      "cell_type": "markdown",
      "metadata": {
        "id": "QprDmBkr-IVi"
      },
      "source": [
        "reference data comparisons"
      ]
    },
    {
      "cell_type": "code",
      "metadata": {
        "id": "pNQqd-xa-Hup",
        "outputId": "4c3f9a8a-9bd1-4992-d519-cbb1f7f2017c",
        "colab": {
          "base_uri": "https://localhost:8080/",
          "height": 1000
        }
      },
      "source": [
        "!python test_main.py --models_dirs=\"/content/drive/My Drive/Colab Notebooks/affordances/experiments/l2_lamb_0_ref_is_tar\" --models_dirs=\"/content/drive/My Drive/Colab Notebooks/affordances/experiments/l1_lamb_0_ref_is_tar\" --models_dirs=\"/content/drive/My Drive/Colab Notebooks/affordances/experiments/l2_lamb_1_ref_is_tar\" --output_path=\"/content/drive/My Drive/Colab Notebooks/affordances/doc_test_results\" --name=\"reference_is_tar_comparisons\" --cam_grads_images --scores_graph --target2alien_roc --alien2alien_roc "
      ],
      "execution_count": 8,
      "outputs": [
        {
          "output_type": "stream",
          "text": [
            "2020-10-21 10:07:29.843686: I tensorflow/stream_executor/platform/default/dso_loader.cc:48] Successfully opened dynamic library libcudart.so.10.1\n",
            "{'knife': 0, 'sword': 1, 'dagger': 2, 'pencil': 3, 'scissors': 4, 'iron nail': 5, 'swordfish': 6, 'toothpick': 7, 'tent_stake': 8, 'screwdriver': 9, 'garden_sickle': 10, 'letter opener': 11}\n",
            "{'knife': 0, 'sword': 1, 'dagger': 2, 'pencil': 3, 'scissors': 4, 'iron nail': 5, 'swordfish': 6, 'toothpick': 7, 'tent_stake': 8, 'screwdriver': 9, 'garden_sickle': 10, 'letter opener': 11}\n",
            "{'cup': 0, 'pot': 0, 'fork': 0, 'cable': 0, 'chair': 0, 'plate': 0, 'spoon': 0, 'basket': 0, 'bow tie': 0, 'glasses': 0, 'eyeliner': 0, 'paper box': 0, 'basketball': 0, 'chopsticks': 0, 'drumsticks': 0, 'garden pot': 0, 'table lamp': 0, 'birtday hat': 0, 'sharp heels': 0, 'toilet paper': 0, 'icecream cone': 0, 'sharp screw': 1, 'letter opener': 1, 'syringe needle': 1, 'swordfish': 1, 'unicorn': 1, 'pencil': 1, 'scissors': 1, 'iron nail': 1, 'toothpick': 1, 'tent_stake': 1, 'closed_umbrella': 1, 'sword': 1, 'spear': 1, 'screwdriver': 1, 'knife': 1, 'garden_sickle': 1, 'dagger': 1}\n",
            "classes in directory doesn't match classes_num\n",
            "4541 0\n",
            "3632 909\n",
            "3786 0\n",
            "Network and dataloaders were created\n",
            "2020-10-21 10:07:31.773099: I tensorflow/stream_executor/platform/default/dso_loader.cc:48] Successfully opened dynamic library libcuda.so.1\n",
            "2020-10-21 10:07:31.782950: E tensorflow/stream_executor/cuda/cuda_driver.cc:314] failed call to cuInit: CUDA_ERROR_NO_DEVICE: no CUDA-capable device is detected\n",
            "2020-10-21 10:07:31.782991: I tensorflow/stream_executor/cuda/cuda_diagnostics.cc:156] kernel driver does not appear to be running on this host (021259a30ea2): /proc/driver/nvidia/version does not exist\n",
            "2020-10-21 10:07:31.783293: I tensorflow/core/platform/cpu_feature_guard.cc:142] This TensorFlow binary is optimized with oneAPI Deep Neural Network Library (oneDNN)to use the following CPU instructions in performance-critical operations:  AVX2 FMA\n",
            "To enable them in other operations, rebuild TensorFlow with the appropriate compiler flags.\n",
            "2020-10-21 10:07:31.789254: I tensorflow/core/platform/profile_utils/cpu_utils.cc:104] CPU Frequency: 2300000000 Hz\n",
            "2020-10-21 10:07:31.789478: I tensorflow/compiler/xla/service/service.cc:168] XLA service 0x1da6bc0 initialized for platform Host (this does not guarantee that XLA will be used). Devices:\n",
            "2020-10-21 10:07:31.789512: I tensorflow/compiler/xla/service/service.cc:176]   StreamExecutor device (0): Host, Default Version\n",
            "l2_lamb_0_ref_is_tar's ckpts loaded\n",
            "{'knife': 0, 'sword': 1, 'dagger': 2, 'pencil': 3, 'scissors': 4, 'iron nail': 5, 'swordfish': 6, 'toothpick': 7, 'tent_stake': 8, 'screwdriver': 9, 'garden_sickle': 10, 'letter opener': 11}\n",
            "{'knife': 0, 'sword': 1, 'dagger': 2, 'pencil': 3, 'scissors': 4, 'iron nail': 5, 'swordfish': 6, 'toothpick': 7, 'tent_stake': 8, 'screwdriver': 9, 'garden_sickle': 10, 'letter opener': 11}\n",
            "{'cup': 0, 'pot': 0, 'fork': 0, 'cable': 0, 'chair': 0, 'plate': 0, 'spoon': 0, 'basket': 0, 'bow tie': 0, 'glasses': 0, 'eyeliner': 0, 'paper box': 0, 'basketball': 0, 'chopsticks': 0, 'drumsticks': 0, 'garden pot': 0, 'table lamp': 0, 'birtday hat': 0, 'sharp heels': 0, 'toilet paper': 0, 'icecream cone': 0, 'sharp screw': 1, 'letter opener': 1, 'syringe needle': 1, 'swordfish': 1, 'unicorn': 1, 'pencil': 1, 'scissors': 1, 'iron nail': 1, 'toothpick': 1, 'tent_stake': 1, 'closed_umbrella': 1, 'sword': 1, 'spear': 1, 'screwdriver': 1, 'knife': 1, 'garden_sickle': 1, 'dagger': 1}\n",
            "classes in directory doesn't match classes_num\n",
            "4541 0\n",
            "3632 909\n",
            "3786 0\n",
            "Network and dataloaders were created\n",
            "l1_lamb_0_ref_is_tar's ckpts loaded\n",
            "{'knife': 0, 'sword': 1, 'dagger': 2, 'pencil': 3, 'scissors': 4, 'iron nail': 5, 'swordfish': 6, 'toothpick': 7, 'tent_stake': 8, 'screwdriver': 9, 'garden_sickle': 10, 'letter opener': 11}\n",
            "{'knife': 0, 'sword': 1, 'dagger': 2, 'pencil': 3, 'scissors': 4, 'iron nail': 5, 'swordfish': 6, 'toothpick': 7, 'tent_stake': 8, 'screwdriver': 9, 'garden_sickle': 10, 'letter opener': 11}\n",
            "{'cup': 0, 'pot': 0, 'fork': 0, 'cable': 0, 'chair': 0, 'plate': 0, 'spoon': 0, 'basket': 0, 'bow tie': 0, 'glasses': 0, 'eyeliner': 0, 'paper box': 0, 'basketball': 0, 'chopsticks': 0, 'drumsticks': 0, 'garden pot': 0, 'table lamp': 0, 'birtday hat': 0, 'sharp heels': 0, 'toilet paper': 0, 'icecream cone': 0, 'sharp screw': 1, 'letter opener': 1, 'syringe needle': 1, 'swordfish': 1, 'unicorn': 1, 'pencil': 1, 'scissors': 1, 'iron nail': 1, 'toothpick': 1, 'tent_stake': 1, 'closed_umbrella': 1, 'sword': 1, 'spear': 1, 'screwdriver': 1, 'knife': 1, 'garden_sickle': 1, 'dagger': 1}\n",
            "classes in directory doesn't match classes_num\n",
            "4541 0\n",
            "3632 909\n",
            "3786 0\n",
            "Network and dataloaders were created\n",
            "l2_lamb_1_ref_is_tar's ckpts loaded\n",
            "tcmalloc: large alloc 3699638272 bytes == 0xcff78000 @  0x7f3174aa61e7 0x7f313e239665 0x7f313e250c45 0x7f314448d0da 0x7f3144a8aa91 0x7f3144a8c547 0x7f3144b3a47d 0x7f3144b3d90d 0x7f3144b3ddcf 0x7f31399defb9 0x7f3139a8e591 0x7f3139a8b2a3 0x7f3139a7a3e5 0x7f317446a6db 0x7f31747a3a3f\n",
            "tcmalloc: large alloc 3699638272 bytes == 0xcff78000 @  0x7f3174aa61e7 0x7f313e239665 0x7f313e250c45 0x7f314448d0da 0x7f3144a8aa91 0x7f3144a8c547 0x7f3144b3a47d 0x7f3144b3d90d 0x7f3144b3ddcf 0x7f31399defb9 0x7f3139a8e591 0x7f3139a8b2a3 0x7f3139a7a3e5 0x7f317446a6db 0x7f31747a3a3f\n",
            "tcmalloc: large alloc 3699638272 bytes == 0xcff78000 @  0x7f3174aa61e7 0x7f313e239665 0x7f313e250c45 0x7f314448d0da 0x7f3144a8aa91 0x7f3144a8c547 0x7f3144b3a47d 0x7f3144b3d90d 0x7f3144b3ddcf 0x7f31399defb9 0x7f3139a8e591 0x7f3139a8b2a3 0x7f3139a7a3e5 0x7f317446a6db 0x7f31747a3a3f\n",
            "tcmalloc: large alloc 3699638272 bytes == 0xcff78000 @  0x7f3174aa61e7 0x7f313e239665 0x7f313e250c45 0x7f314448d0da 0x7f3144a8aa91 0x7f3144a8c547 0x7f3144b3a47d 0x7f3144b3d90d 0x7f3144b3ddcf 0x7f31399defb9 0x7f3139a8e591 0x7f3139a8b2a3 0x7f3139a7a3e5 0x7f317446a6db 0x7f31747a3a3f\n",
            "tcmalloc: large alloc 3699638272 bytes == 0xcff78000 @  0x7f3174aa61e7 0x7f313e239665 0x7f313e250c45 0x7f314448d0da 0x7f3144a8aa91 0x7f3144a8c547 0x7f3144b3a47d 0x7f3144b3d90d 0x7f3144b3ddcf 0x7f31399defb9 0x7f3139a8e591 0x7f3139a8b2a3 0x7f3139a7a3e5 0x7f317446a6db 0x7f31747a3a3f\n",
            "tcmalloc: large alloc 3699638272 bytes == 0xcff78000 @  0x7f3174aa61e7 0x7f313e239665 0x7f313e250c45 0x7f314448d0da 0x7f3144a8aa91 0x7f3144a8c547 0x7f3144b3a47d 0x7f3144b3d90d 0x7f3144b3ddcf 0x7f31399defb9 0x7f3139a8e591 0x7f3139a8b2a3 0x7f3139a7a3e5 0x7f317446a6db 0x7f31747a3a3f\n",
            "<Figure size 640x480 with 1 Axes>\n",
            "tcmalloc: large alloc 3699638272 bytes == 0xcff78000 @  0x7f3174aa61e7 0x7f313e239665 0x7f313e250c45 0x7f314448d0da 0x7f3144a8aa91 0x7f3144a8c547 0x7f3144b3a47d 0x7f3144b3d90d 0x7f3144b3ddcf 0x7f31399defb9 0x7f3139a8e591 0x7f3139a8b2a3 0x7f3139a7a3e5 0x7f317446a6db 0x7f31747a3a3f\n",
            "tcmalloc: large alloc 3699638272 bytes == 0xcff78000 @  0x7f3174aa61e7 0x7f313e239665 0x7f313e250c45 0x7f314448d0da 0x7f3144a8aa91 0x7f3144a8c547 0x7f3144b3a47d 0x7f3144b3d90d 0x7f3144b3ddcf 0x7f31399defb9 0x7f3139a8e591 0x7f3139a8b2a3 0x7f3139a7a3e5 0x7f317446a6db 0x7f31747a3a3f\n",
            "tcmalloc: large alloc 3699638272 bytes == 0xcff78000 @  0x7f3174aa61e7 0x7f313e239665 0x7f313e250c45 0x7f314448d0da 0x7f3144a8aa91 0x7f3144a8c547 0x7f3144b3a47d 0x7f3144b3d90d 0x7f3144b3ddcf 0x7f31399defb9 0x7f3139a8e591 0x7f3139a8b2a3 0x7f3139a7a3e5 0x7f317446a6db 0x7f31747a3a3f\n",
            "tcmalloc: large alloc 3699638272 bytes == 0xcff78000 @  0x7f3174aa61e7 0x7f313e239665 0x7f313e250c45 0x7f314448d0da 0x7f3144a8aa91 0x7f3144a8c547 0x7f3144b3a47d 0x7f3144b3d90d 0x7f3144b3ddcf 0x7f31399defb9 0x7f3139a8e591 0x7f3139a8b2a3 0x7f3139a7a3e5 0x7f317446a6db 0x7f31747a3a3f\n",
            "tcmalloc: large alloc 3699638272 bytes == 0xcff78000 @  0x7f3174aa61e7 0x7f313e239665 0x7f313e250c45 0x7f314448d0da 0x7f3144a8aa91 0x7f3144a8c547 0x7f3144b3a47d 0x7f3144b3d90d 0x7f3144b3ddcf 0x7f31399defb9 0x7f3139a8e591 0x7f3139a8b2a3 0x7f3139a7a3e5 0x7f317446a6db 0x7f31747a3a3f\n",
            "<Figure size 640x480 with 1 Axes>\n",
            "<Figure size 640x480 with 1 Axes>\n",
            "<Figure size 640x480 with 1 Axes>\n",
            "<Figure size 640x480 with 1 Axes>\n",
            "<Figure size 640x480 with 1 Axes>\n",
            "<Figure size 640x480 with 1 Axes>\n",
            "<Figure size 640x480 with 1 Axes>\n",
            "<Figure size 640x480 with 1 Axes>\n",
            "<Figure size 640x480 with 1 Axes>\n",
            "Traceback (most recent call last):\n",
            "  File \"test_main.py\", line 98, in <module>\n",
            "    run_test(get_test_parser().parse_args())\n",
            "  File \"test_main.py\", line 67, in run_test\n",
            "    Z1 = experiment.get_data_scores(experiment.model, experiment.templates, experiment.target)\n",
            "  File \"/content/DOC_/losses.py\", line 109, in get_data_scores\n",
            "    templates_preds = model.predict(tempates)\n",
            "  File \"/usr/local/lib/python3.6/dist-packages/tensorflow/python/keras/engine/training.py\", line 130, in _method_wrapper\n",
            "    return method(self, *args, **kwargs)\n",
            "  File \"/usr/local/lib/python3.6/dist-packages/tensorflow/python/keras/engine/training.py\", line 1599, in predict\n",
            "    tmp_batch_outputs = predict_function(iterator)\n",
            "  File \"/usr/local/lib/python3.6/dist-packages/tensorflow/python/eager/def_function.py\", line 780, in __call__\n",
            "    result = self._call(*args, **kwds)\n",
            "  File \"/usr/local/lib/python3.6/dist-packages/tensorflow/python/eager/def_function.py\", line 814, in _call\n",
            "    results = self._stateful_fn(*args, **kwds)\n",
            "  File \"/usr/local/lib/python3.6/dist-packages/tensorflow/python/eager/function.py\", line 2829, in __call__\n",
            "    return graph_function._filtered_call(args, kwargs)  # pylint: disable=protected-access\n",
            "  File \"/usr/local/lib/python3.6/dist-packages/tensorflow/python/eager/function.py\", line 1848, in _filtered_call\n",
            "    cancellation_manager=cancellation_manager)\n",
            "  File \"/usr/local/lib/python3.6/dist-packages/tensorflow/python/eager/function.py\", line 1924, in _call_flat\n",
            "    ctx, args, cancellation_manager=cancellation_manager))\n",
            "  File \"/usr/local/lib/python3.6/dist-packages/tensorflow/python/eager/function.py\", line 550, in call\n",
            "    ctx=ctx)\n",
            "  File \"/usr/local/lib/python3.6/dist-packages/tensorflow/python/eager/execute.py\", line 60, in quick_execute\n",
            "    inputs, attrs, num_outputs)\n",
            "KeyboardInterrupt\n"
          ],
          "name": "stdout"
        }
      ]
    }
  ]
}