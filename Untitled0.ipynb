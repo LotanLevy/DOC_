{
  "nbformat": 4,
  "nbformat_minor": 0,
  "metadata": {
    "colab": {
      "name": "Untitled0.ipynb",
      "provenance": [],
      "authorship_tag": "ABX9TyNbnSjIz4nexaX9PNuprXGo",
      "include_colab_link": true
    },
    "kernelspec": {
      "name": "python3",
      "display_name": "Python 3"
    },
    "accelerator": "GPU"
  },
  "cells": [
    {
      "cell_type": "markdown",
      "metadata": {
        "id": "view-in-github",
        "colab_type": "text"
      },
      "source": [
        "<a href=\"https://colab.research.google.com/github/LotanLevy/DOC_/blob/main/Untitled0.ipynb\" target=\"_parent\"><img src=\"https://colab.research.google.com/assets/colab-badge.svg\" alt=\"Open In Colab\"/></a>"
      ]
    },
    {
      "cell_type": "code",
      "metadata": {
        "id": "CIRBtlfjZCDq"
      },
      "source": [
        "pip install tensorflow-gpu==2.3.0"
      ],
      "execution_count": null,
      "outputs": []
    },
    {
      "cell_type": "code",
      "metadata": {
        "id": "Sy_8DBwzbb-8",
        "outputId": "cfb460e7-485e-4b2b-97c4-3d71570f0449",
        "colab": {
          "base_uri": "https://localhost:8080/",
          "height": 34
        }
      },
      "source": [
        "from google.colab import drive\n",
        "drive.mount('/content/drive')"
      ],
      "execution_count": 2,
      "outputs": [
        {
          "output_type": "stream",
          "text": [
            "Mounted at /content/drive\n"
          ],
          "name": "stdout"
        }
      ]
    },
    {
      "cell_type": "code",
      "metadata": {
        "id": "PjNkU4uCbciS",
        "outputId": "94ae60ff-b503-4ccf-ccea-3abb5e3ae17c",
        "colab": {
          "base_uri": "https://localhost:8080/",
          "height": 136
        }
      },
      "source": [
        "!git clone https://github.com/LotanLevy/DOC_"
      ],
      "execution_count": 3,
      "outputs": [
        {
          "output_type": "stream",
          "text": [
            "Cloning into 'DOC_'...\n",
            "remote: Enumerating objects: 168, done.\u001b[K\n",
            "remote: Counting objects: 100% (168/168), done.\u001b[K\n",
            "remote: Compressing objects: 100% (120/120), done.\u001b[K\n",
            "remote: Total 168 (delta 100), reused 101 (delta 43), pack-reused 0\u001b[K\n",
            "Receiving objects: 100% (168/168), 57.26 KiB | 4.77 MiB/s, done.\n",
            "Resolving deltas: 100% (100/100), done.\n"
          ],
          "name": "stdout"
        }
      ]
    },
    {
      "cell_type": "code",
      "metadata": {
        "id": "4Tz6H8HmeHvb",
        "outputId": "cca26a98-0cdd-44d9-a776-9d50788051a9",
        "colab": {
          "base_uri": "https://localhost:8080/",
          "height": 34
        }
      },
      "source": [
        "cd DOC_/\n"
      ],
      "execution_count": 4,
      "outputs": [
        {
          "output_type": "stream",
          "text": [
            "/content/DOC_\n"
          ],
          "name": "stdout"
        }
      ]
    },
    {
      "cell_type": "code",
      "metadata": {
        "id": "jCgRFCcaiOLY",
        "outputId": "e545b4e4-1012-49be-96d0-2f9500f3510c",
        "colab": {
          "base_uri": "https://localhost:8080/",
          "height": 34
        }
      },
      "source": [
        "!git pull"
      ],
      "execution_count": 5,
      "outputs": [
        {
          "output_type": "stream",
          "text": [
            "Already up to date.\n"
          ],
          "name": "stdout"
        }
      ]
    },
    {
      "cell_type": "code",
      "metadata": {
        "id": "Ea1KiVPveYb-",
        "outputId": "2bbaf220-1a31-42c2-e20c-1b60bbefad1b",
        "colab": {
          "base_uri": "https://localhost:8080/",
          "height": 34
        }
      },
      "source": [
        "!ls"
      ],
      "execution_count": null,
      "outputs": [
        {
          "output_type": "stream",
          "text": [
            "DOC_  drive  sample_data\n"
          ],
          "name": "stdout"
        }
      ]
    },
    {
      "cell_type": "markdown",
      "metadata": {
        "id": "A2oqa8GaTwEI"
      },
      "source": [
        "Standard train"
      ]
    },
    {
      "cell_type": "code",
      "metadata": {
        "id": "L2OI1bq5bo4O"
      },
      "source": [
        "!python train_main.py --name=\"l2_lamb_1_ref_imagnet\" --ref_dir=\"/content/drive/My Drive/Colab Notebooks/affordances/datasets/imagenet_val_splitted\" --tar_dir=\"/content/drive/My Drive/Colab Notebooks/affordances/datasets/big_stab\" --alien_dir=\"/content/drive/My Drive/Colab Notebooks/affordances/datasets/big_aliens\" --output_path=\"/content/drive/My Drive/Colab Notebooks/affordances/experiments\" --alien_cls2label=\"/content/drive/My Drive/Colab Notebooks/affordances/datasets/big_alien_splitted_cls2label.txt\""
      ],
      "execution_count": null,
      "outputs": []
    },
    {
      "cell_type": "markdown",
      "metadata": {
        "id": "cJUrvcgiT3Jo"
      },
      "source": [
        "L1 train"
      ]
    },
    {
      "cell_type": "code",
      "metadata": {
        "id": "QBi4hk3rT0tp"
      },
      "source": [
        "!python train_main.py --name=\"l1_lamb_1_ref_imagnet\" --c_loss_type=\"l1\" --ref_dir=\"/content/drive/My Drive/Colab Notebooks/affordances/datasets/imagenet_val_splitted\" --tar_dir=\"/content/drive/My Drive/Colab Notebooks/affordances/datasets/big_stab\" --alien_dir=\"/content/drive/My Drive/Colab Notebooks/affordances/datasets/big_aliens\" --output_path=\"/content/drive/My Drive/Colab Notebooks/affordances/experiments\" --alien_cls2label=\"/content/drive/My Drive/Colab Notebooks/affordances/datasets/big_alien_splitted_cls2label.txt\""
      ],
      "execution_count": null,
      "outputs": []
    },
    {
      "cell_type": "markdown",
      "metadata": {
        "id": "EO2gYo7NhdMZ"
      },
      "source": [
        "Reference data is now the target data"
      ]
    },
    {
      "cell_type": "code",
      "metadata": {
        "id": "4SLUBS5NhiCs"
      },
      "source": [
        "!python train_main.py --name=\"l2_lamb_1_ref_is_tar\" --cls_num=12 --ref_dir=\"/content/drive/My Drive/Colab Notebooks/affordances/datasets/big_stab\" --tar_dir=\"/content/drive/My Drive/Colab Notebooks/affordances/datasets/big_stab\" --alien_dir=\"/content/drive/My Drive/Colab Notebooks/affordances/datasets/big_aliens\" --output_path=\"/content/drive/My Drive/Colab Notebooks/affordances/experiments\" --alien_cls2label=\"/content/drive/My Drive/Colab Notebooks/affordances/datasets/big_alien_splitted_cls2label.txt\""
      ],
      "execution_count": null,
      "outputs": []
    },
    {
      "cell_type": "code",
      "metadata": {
        "id": "k--fYCMLG7CV"
      },
      "source": [
        "!python train_main.py --name=\"l2_lamb_0_ref_is_tar\" --lambda_=0 --cls_num=12 --ref_dir=\"/content/drive/My Drive/Colab Notebooks/affordances/datasets/big_stab\" --tar_dir=\"/content/drive/My Drive/Colab Notebooks/affordances/datasets/big_stab\" --alien_dir=\"/content/drive/My Drive/Colab Notebooks/affordances/datasets/big_aliens\" --output_path=\"/content/drive/My Drive/Colab Notebooks/affordances/experiments\" --alien_cls2label=\"/content/drive/My Drive/Colab Notebooks/affordances/datasets/big_alien_splitted_cls2label.txt\""
      ],
      "execution_count": null,
      "outputs": []
    },
    {
      "cell_type": "code",
      "metadata": {
        "id": "ubesJARVHEe1",
        "outputId": "b05a2ffd-bb91-4c32-8ce4-a56618b356b5",
        "colab": {
          "base_uri": "https://localhost:8080/",
          "height": 1000
        }
      },
      "source": [
        "!python train_main.py --name=\"l1_lamb_0_ref_is_tar\" --lambda_=0 --c_loss_type=\"l1\" --cls_num=12 --ref_dir=\"/content/drive/My Drive/Colab Notebooks/affordances/datasets/big_stab\" --tar_dir=\"/content/drive/My Drive/Colab Notebooks/affordances/datasets/big_stab\" --alien_dir=\"/content/drive/My Drive/Colab Notebooks/affordances/datasets/big_aliens\" --output_path=\"/content/drive/My Drive/Colab Notebooks/affordances/experiments\" --alien_cls2label=\"/content/drive/My Drive/Colab Notebooks/affordances/datasets/big_alien_splitted_cls2label.txt\""
      ],
      "execution_count": null,
      "outputs": [
        {
          "output_type": "stream",
          "text": [
            "2020-10-20 08:25:30.683255: I tensorflow/stream_executor/platform/default/dso_loader.cc:48] Successfully opened dynamic library libcudart.so.10.1\n",
            "Experiment dir and settings file created\n",
            "{'knife': 0, 'sword': 1, 'dagger': 2, 'pencil': 3, 'scissors': 4, 'iron nail': 5, 'swordfish': 6, 'toothpick': 7, 'tent_stake': 8, 'screwdriver': 9, 'garden_sickle': 10, 'letter opener': 11}\n",
            "{'knife': 0, 'sword': 1, 'dagger': 2, 'pencil': 3, 'scissors': 4, 'iron nail': 5, 'swordfish': 6, 'toothpick': 7, 'tent_stake': 8, 'screwdriver': 9, 'garden_sickle': 10, 'letter opener': 11}\n",
            "{'cup': 0, 'pot': 0, 'fork': 0, 'cable': 0, 'chair': 0, 'plate': 0, 'spoon': 0, 'basket': 0, 'bow tie': 0, 'glasses': 0, 'eyeliner': 0, 'paper box': 0, 'basketball': 0, 'chopsticks': 0, 'drumsticks': 0, 'garden pot': 0, 'table lamp': 0, 'birtday hat': 0, 'sharp heels': 0, 'toilet paper': 0, 'icecream cone': 0, 'sharp screw': 1, 'letter opener': 1, 'syringe needle': 1, 'swordfish': 1, 'unicorn': 1, 'pencil': 1, 'scissors': 1, 'iron nail': 1, 'toothpick': 1, 'tent_stake': 1, 'closed_umbrella': 1, 'sword': 1, 'spear': 1, 'screwdriver': 1, 'knife': 1, 'garden_sickle': 1, 'dagger': 1}\n",
            "classes in directory doesn't match classes_num\n",
            "4541 0\n",
            "3632 909\n",
            "3786 0\n",
            "Network and dataloaders were created\n",
            "Data files created\n",
            "l1.0 compactness loss initialized\n",
            "Model build...\n",
            "2020-10-20 08:25:33.306770: I tensorflow/stream_executor/platform/default/dso_loader.cc:48] Successfully opened dynamic library libcuda.so.1\n",
            "2020-10-20 08:25:33.330110: I tensorflow/stream_executor/cuda/cuda_gpu_executor.cc:982] successful NUMA node read from SysFS had negative value (-1), but there must be at least one NUMA node, so returning NUMA node zero\n",
            "2020-10-20 08:25:33.330830: I tensorflow/core/common_runtime/gpu/gpu_device.cc:1716] Found device 0 with properties: \n",
            "pciBusID: 0000:00:04.0 name: Tesla P100-PCIE-16GB computeCapability: 6.0\n",
            "coreClock: 1.3285GHz coreCount: 56 deviceMemorySize: 15.90GiB deviceMemoryBandwidth: 681.88GiB/s\n",
            "2020-10-20 08:25:33.330878: I tensorflow/stream_executor/platform/default/dso_loader.cc:48] Successfully opened dynamic library libcudart.so.10.1\n",
            "2020-10-20 08:25:33.337685: I tensorflow/stream_executor/platform/default/dso_loader.cc:48] Successfully opened dynamic library libcublas.so.10\n",
            "2020-10-20 08:25:33.339467: I tensorflow/stream_executor/platform/default/dso_loader.cc:48] Successfully opened dynamic library libcufft.so.10\n",
            "2020-10-20 08:25:33.339840: I tensorflow/stream_executor/platform/default/dso_loader.cc:48] Successfully opened dynamic library libcurand.so.10\n",
            "2020-10-20 08:25:33.355518: I tensorflow/stream_executor/platform/default/dso_loader.cc:48] Successfully opened dynamic library libcusolver.so.10\n",
            "2020-10-20 08:25:33.361816: I tensorflow/stream_executor/platform/default/dso_loader.cc:48] Successfully opened dynamic library libcusparse.so.10\n",
            "2020-10-20 08:25:33.366359: I tensorflow/stream_executor/platform/default/dso_loader.cc:48] Successfully opened dynamic library libcudnn.so.7\n",
            "2020-10-20 08:25:33.366504: I tensorflow/stream_executor/cuda/cuda_gpu_executor.cc:982] successful NUMA node read from SysFS had negative value (-1), but there must be at least one NUMA node, so returning NUMA node zero\n",
            "2020-10-20 08:25:33.367137: I tensorflow/stream_executor/cuda/cuda_gpu_executor.cc:982] successful NUMA node read from SysFS had negative value (-1), but there must be at least one NUMA node, so returning NUMA node zero\n",
            "2020-10-20 08:25:33.367694: I tensorflow/core/common_runtime/gpu/gpu_device.cc:1858] Adding visible gpu devices: 0\n",
            "2020-10-20 08:25:33.368078: I tensorflow/core/platform/cpu_feature_guard.cc:142] This TensorFlow binary is optimized with oneAPI Deep Neural Network Library (oneDNN)to use the following CPU instructions in performance-critical operations:  AVX2 FMA\n",
            "To enable them in other operations, rebuild TensorFlow with the appropriate compiler flags.\n",
            "2020-10-20 08:25:33.373726: I tensorflow/core/platform/profile_utils/cpu_utils.cc:104] CPU Frequency: 2200000000 Hz\n",
            "2020-10-20 08:25:33.373992: I tensorflow/compiler/xla/service/service.cc:168] XLA service 0x1912f40 initialized for platform Host (this does not guarantee that XLA will be used). Devices:\n",
            "2020-10-20 08:25:33.374021: I tensorflow/compiler/xla/service/service.cc:176]   StreamExecutor device (0): Host, Default Version\n",
            "2020-10-20 08:25:33.470475: I tensorflow/stream_executor/cuda/cuda_gpu_executor.cc:982] successful NUMA node read from SysFS had negative value (-1), but there must be at least one NUMA node, so returning NUMA node zero\n",
            "2020-10-20 08:25:33.471561: I tensorflow/compiler/xla/service/service.cc:168] XLA service 0x1913100 initialized for platform CUDA (this does not guarantee that XLA will be used). Devices:\n",
            "2020-10-20 08:25:33.471593: I tensorflow/compiler/xla/service/service.cc:176]   StreamExecutor device (0): Tesla P100-PCIE-16GB, Compute Capability 6.0\n",
            "2020-10-20 08:25:33.471880: I tensorflow/stream_executor/cuda/cuda_gpu_executor.cc:982] successful NUMA node read from SysFS had negative value (-1), but there must be at least one NUMA node, so returning NUMA node zero\n",
            "2020-10-20 08:25:33.472494: I tensorflow/core/common_runtime/gpu/gpu_device.cc:1716] Found device 0 with properties: \n",
            "pciBusID: 0000:00:04.0 name: Tesla P100-PCIE-16GB computeCapability: 6.0\n",
            "coreClock: 1.3285GHz coreCount: 56 deviceMemorySize: 15.90GiB deviceMemoryBandwidth: 681.88GiB/s\n",
            "2020-10-20 08:25:33.472542: I tensorflow/stream_executor/platform/default/dso_loader.cc:48] Successfully opened dynamic library libcudart.so.10.1\n",
            "2020-10-20 08:25:33.472597: I tensorflow/stream_executor/platform/default/dso_loader.cc:48] Successfully opened dynamic library libcublas.so.10\n",
            "2020-10-20 08:25:33.472620: I tensorflow/stream_executor/platform/default/dso_loader.cc:48] Successfully opened dynamic library libcufft.so.10\n",
            "2020-10-20 08:25:33.472644: I tensorflow/stream_executor/platform/default/dso_loader.cc:48] Successfully opened dynamic library libcurand.so.10\n",
            "2020-10-20 08:25:33.472666: I tensorflow/stream_executor/platform/default/dso_loader.cc:48] Successfully opened dynamic library libcusolver.so.10\n",
            "2020-10-20 08:25:33.472687: I tensorflow/stream_executor/platform/default/dso_loader.cc:48] Successfully opened dynamic library libcusparse.so.10\n",
            "2020-10-20 08:25:33.472709: I tensorflow/stream_executor/platform/default/dso_loader.cc:48] Successfully opened dynamic library libcudnn.so.7\n",
            "2020-10-20 08:25:33.472786: I tensorflow/stream_executor/cuda/cuda_gpu_executor.cc:982] successful NUMA node read from SysFS had negative value (-1), but there must be at least one NUMA node, so returning NUMA node zero\n",
            "2020-10-20 08:25:33.473414: I tensorflow/stream_executor/cuda/cuda_gpu_executor.cc:982] successful NUMA node read from SysFS had negative value (-1), but there must be at least one NUMA node, so returning NUMA node zero\n",
            "2020-10-20 08:25:33.473952: I tensorflow/core/common_runtime/gpu/gpu_device.cc:1858] Adding visible gpu devices: 0\n",
            "2020-10-20 08:25:33.474003: I tensorflow/stream_executor/platform/default/dso_loader.cc:48] Successfully opened dynamic library libcudart.so.10.1\n",
            "2020-10-20 08:25:34.210556: I tensorflow/core/common_runtime/gpu/gpu_device.cc:1257] Device interconnect StreamExecutor with strength 1 edge matrix:\n",
            "2020-10-20 08:25:34.210622: I tensorflow/core/common_runtime/gpu/gpu_device.cc:1263]      0 \n",
            "2020-10-20 08:25:34.210641: I tensorflow/core/common_runtime/gpu/gpu_device.cc:1276] 0:   N \n",
            "2020-10-20 08:25:34.210909: I tensorflow/stream_executor/cuda/cuda_gpu_executor.cc:982] successful NUMA node read from SysFS had negative value (-1), but there must be at least one NUMA node, so returning NUMA node zero\n",
            "2020-10-20 08:25:34.211654: I tensorflow/stream_executor/cuda/cuda_gpu_executor.cc:982] successful NUMA node read from SysFS had negative value (-1), but there must be at least one NUMA node, so returning NUMA node zero\n",
            "2020-10-20 08:25:34.212218: W tensorflow/core/common_runtime/gpu/gpu_bfc_allocator.cc:39] Overriding allow_growth setting because the TF_FORCE_GPU_ALLOW_GROWTH environment variable is set. Original config value was 0.\n",
            "2020-10-20 08:25:34.212263: I tensorflow/core/common_runtime/gpu/gpu_device.cc:1402] Created TensorFlow device (/job:localhost/replica:0/task:0/device:GPU:0 with 14951 MB memory) -> physical GPU (device: 0, name: Tesla P100-PCIE-16GB, pci bus id: 0000:00:04.0, compute capability: 6.0)\n",
            "Model: \"functional_3\"\n",
            "_________________________________________________________________\n",
            "Layer (type)                 Output Shape              Param #   \n",
            "=================================================================\n",
            "input_1 (InputLayer)         [(None, 224, 224, 3)]     0         \n",
            "_________________________________________________________________\n",
            "block1_conv1 (Conv2D)        (None, 224, 224, 64)      1792      \n",
            "_________________________________________________________________\n",
            "block1_conv2 (Conv2D)        (None, 224, 224, 64)      36928     \n",
            "_________________________________________________________________\n",
            "block1_pool (MaxPooling2D)   (None, 112, 112, 64)      0         \n",
            "_________________________________________________________________\n",
            "block2_conv1 (Conv2D)        (None, 112, 112, 128)     73856     \n",
            "_________________________________________________________________\n",
            "block2_conv2 (Conv2D)        (None, 112, 112, 128)     147584    \n",
            "_________________________________________________________________\n",
            "block2_pool (MaxPooling2D)   (None, 56, 56, 128)       0         \n",
            "_________________________________________________________________\n",
            "block3_conv1 (Conv2D)        (None, 56, 56, 256)       295168    \n",
            "_________________________________________________________________\n",
            "block3_conv2 (Conv2D)        (None, 56, 56, 256)       590080    \n",
            "_________________________________________________________________\n",
            "block3_conv3 (Conv2D)        (None, 56, 56, 256)       590080    \n",
            "_________________________________________________________________\n",
            "block3_pool (MaxPooling2D)   (None, 28, 28, 256)       0         \n",
            "_________________________________________________________________\n",
            "block4_conv1 (Conv2D)        (None, 28, 28, 512)       1180160   \n",
            "_________________________________________________________________\n",
            "block4_conv2 (Conv2D)        (None, 28, 28, 512)       2359808   \n",
            "_________________________________________________________________\n",
            "block4_conv3 (Conv2D)        (None, 28, 28, 512)       2359808   \n",
            "_________________________________________________________________\n",
            "block4_pool (MaxPooling2D)   (None, 14, 14, 512)       0         \n",
            "_________________________________________________________________\n",
            "block5_conv1 (Conv2D)        (None, 14, 14, 512)       2359808   \n",
            "_________________________________________________________________\n",
            "block5_conv2 (Conv2D)        (None, 14, 14, 512)       2359808   \n",
            "_________________________________________________________________\n",
            "block5_conv3 (Conv2D)        (None, 14, 14, 512)       2359808   \n",
            "_________________________________________________________________\n",
            "block5_pool (MaxPooling2D)   (None, 7, 7, 512)         0         \n",
            "_________________________________________________________________\n",
            "flatten (Flatten)            (None, 25088)             0         \n",
            "_________________________________________________________________\n",
            "fc1 (Dense)                  (None, 4096)              102764544 \n",
            "_________________________________________________________________\n",
            "fc2 (Dense)                  (None, 4096)              16781312  \n",
            "=================================================================\n",
            "Total params: 134,260,544\n",
            "Trainable params: 126,625,280\n",
            "Non-trainable params: 7,635,264\n",
            "_________________________________________________________________\n",
            "Model: \"functional_5\"\n",
            "_________________________________________________________________\n",
            "Layer (type)                 Output Shape              Param #   \n",
            "=================================================================\n",
            "input_1 (InputLayer)         [(None, 224, 224, 3)]     0         \n",
            "_________________________________________________________________\n",
            "block1_conv1 (Conv2D)        (None, 224, 224, 64)      1792      \n",
            "_________________________________________________________________\n",
            "block1_conv2 (Conv2D)        (None, 224, 224, 64)      36928     \n",
            "_________________________________________________________________\n",
            "block1_pool (MaxPooling2D)   (None, 112, 112, 64)      0         \n",
            "_________________________________________________________________\n",
            "block2_conv1 (Conv2D)        (None, 112, 112, 128)     73856     \n",
            "_________________________________________________________________\n",
            "block2_conv2 (Conv2D)        (None, 112, 112, 128)     147584    \n",
            "_________________________________________________________________\n",
            "block2_pool (MaxPooling2D)   (None, 56, 56, 128)       0         \n",
            "_________________________________________________________________\n",
            "block3_conv1 (Conv2D)        (None, 56, 56, 256)       295168    \n",
            "_________________________________________________________________\n",
            "block3_conv2 (Conv2D)        (None, 56, 56, 256)       590080    \n",
            "_________________________________________________________________\n",
            "block3_conv3 (Conv2D)        (None, 56, 56, 256)       590080    \n",
            "_________________________________________________________________\n",
            "block3_pool (MaxPooling2D)   (None, 28, 28, 256)       0         \n",
            "_________________________________________________________________\n",
            "block4_conv1 (Conv2D)        (None, 28, 28, 512)       1180160   \n",
            "_________________________________________________________________\n",
            "block4_conv2 (Conv2D)        (None, 28, 28, 512)       2359808   \n",
            "_________________________________________________________________\n",
            "block4_conv3 (Conv2D)        (None, 28, 28, 512)       2359808   \n",
            "_________________________________________________________________\n",
            "block4_pool (MaxPooling2D)   (None, 14, 14, 512)       0         \n",
            "_________________________________________________________________\n",
            "block5_conv1 (Conv2D)        (None, 14, 14, 512)       2359808   \n",
            "_________________________________________________________________\n",
            "block5_conv2 (Conv2D)        (None, 14, 14, 512)       2359808   \n",
            "_________________________________________________________________\n",
            "block5_conv3 (Conv2D)        (None, 14, 14, 512)       2359808   \n",
            "_________________________________________________________________\n",
            "block5_pool (MaxPooling2D)   (None, 7, 7, 512)         0         \n",
            "_________________________________________________________________\n",
            "flatten (Flatten)            (None, 25088)             0         \n",
            "_________________________________________________________________\n",
            "fc1 (Dense)                  (None, 4096)              102764544 \n",
            "_________________________________________________________________\n",
            "fc2 (Dense)                  (None, 4096)              16781312  \n",
            "_________________________________________________________________\n",
            "dense (Dense)                (None, 12)                49164     \n",
            "=================================================================\n",
            "Total params: 134,309,708\n",
            "Trainable params: 126,674,444\n",
            "Non-trainable params: 7,635,264\n",
            "_________________________________________________________________\n",
            "x_target is 3632 samples\n",
            "x_ref is 4541 samples\n",
            "training...\n",
            "  0% 0/1816 [00:00<?, ?it/s]2020-10-20 08:25:36.493013: I tensorflow/stream_executor/platform/default/dso_loader.cc:48] Successfully opened dynamic library libcublas.so.10\n",
            "2020-10-20 08:25:36.695559: I tensorflow/stream_executor/platform/default/dso_loader.cc:48] Successfully opened dynamic library libcudnn.so.7\n",
            " 26% 472/1816 [00:36<01:25, 15.80it/s]"
          ],
          "name": "stdout"
        }
      ]
    },
    {
      "cell_type": "markdown",
      "metadata": {
        "id": "GD1gjVMbbB3U"
      },
      "source": [
        "fc1 features layer"
      ]
    },
    {
      "cell_type": "code",
      "metadata": {
        "id": "lXUzy8-VatE_"
      },
      "source": [
        "!python train_main.py --name=\"l2_lamb_1_ref_imagnet_features_is_fc1\" --target_layer=\"fc1\" --ref_dir=\"/content/drive/My Drive/Colab Notebooks/affordances/datasets/imagenet_val_splitted\" --tar_dir=\"/content/drive/My Drive/Colab Notebooks/affordances/datasets/big_stab\" --alien_dir=\"/content/drive/My Drive/Colab Notebooks/affordances/datasets/big_aliens\" --output_path=\"/content/drive/My Drive/Colab Notebooks/affordances/experiments\" --alien_cls2label=\"/content/drive/My Drive/Colab Notebooks/affordances/datasets/big_alien_splitted_cls2label.txt\""
      ],
      "execution_count": null,
      "outputs": []
    },
    {
      "cell_type": "markdown",
      "metadata": {
        "id": "MvEc9EwvUEff"
      },
      "source": [
        "Augmented Train "
      ]
    },
    {
      "cell_type": "code",
      "metadata": {
        "id": "xDmFyXf6hll8"
      },
      "source": [
        "!python preprocessing.py --images_dir=\"/content/drive/My Drive/Colab Notebooks/affordances/datasets/big_stab\" --output_path=\"/content/drive/My Drive/Colab Notebooks/affordances/datasets\""
      ],
      "execution_count": null,
      "outputs": []
    },
    {
      "cell_type": "code",
      "metadata": {
        "id": "1el0cCn5TmnX"
      },
      "source": [
        "!python train_main.py --name=\"l2_lamb_1_ref_imagnet_tar_augment\" --ref_dir=\"/content/drive/My Drive/Colab Notebooks/affordances/datasets/imagenet_val_splitted\" --tar_dir=\"/content/drive/My Drive/Colab Notebooks/affordances/datasets/big_stab_augmented\" --alien_dir=\"/content/drive/My Drive/Colab Notebooks/affordances/datasets/big_aliens\" --output_path=\"/content/drive/My Drive/Colab Notebooks/affordances/experiments\""
      ],
      "execution_count": null,
      "outputs": []
    },
    {
      "cell_type": "markdown",
      "metadata": {
        "id": "1hO8obsTykIo"
      },
      "source": [
        "Var reg"
      ]
    },
    {
      "cell_type": "code",
      "metadata": {
        "id": "LiG1KL41yleP"
      },
      "source": [
        "!python train_main.py --name=\"l1_lamb_1_var_reg_0.1_coeff\" --reg_coeff=0.1 --use_var_reg=1 --c_loss_type=\"l1\" --ref_dir=\"/content/drive/My Drive/Colab Notebooks/affordances/datasets/imagenet_val_splitted\" --tar_dir=\"/content/drive/My Drive/Colab Notebooks/affordances/datasets/big_stab\" --alien_dir=\"/content/drive/My Drive/Colab Notebooks/affordances/datasets/big_aliens\" --output_path=\"/content/drive/My Drive/Colab Notebooks/affordances/experiments\" --alien_cls2label=\"/content/drive/My Drive/Colab Notebooks/affordances/datasets/big_alien_splitted_cls2label.txt\""
      ],
      "execution_count": null,
      "outputs": []
    },
    {
      "cell_type": "markdown",
      "metadata": {
        "id": "CNPWnXJY1Ttd"
      },
      "source": [
        "## **Tests**"
      ]
    },
    {
      "cell_type": "markdown",
      "metadata": {
        "id": "qwM6kbtO9IUE"
      },
      "source": [
        "Var regularization test"
      ]
    },
    {
      "cell_type": "code",
      "metadata": {
        "id": "VHz55f6b9OAz"
      },
      "source": [
        "!python test_main.py --name=\"var_regularization_comparisons\" --cam_grads_images --scores_graph --target2alien_roc --alien2alien_roc --output_path=\"/content/drive/My Drive/Colab Notebooks/affordances/doc_test_results\" --models_dirs=\"/content/drive/My Drive/Colab Notebooks/affordances/experiments/l1_lamb_1_var_reg_0.1_coeff\" --models_dirs=\"/content/drive/My Drive/Colab Notebooks/affordances/experiments/l1_lamb_1_var_reg_0.5_coeff\" --models_dirs=\"/content/drive/My Drive/Colab Notebooks/affordances/experiments/l1_lamb_1_var_reg_1.0_coeff\" --models_dirs=\"/content/drive/My Drive/Colab Notebooks/affordances/experiments/l1_lamb_1_ref_imagnet\""
      ],
      "execution_count": null,
      "outputs": []
    },
    {
      "cell_type": "markdown",
      "metadata": {
        "id": "K_Qs_LQj9Zmg"
      },
      "source": [
        "l2 comprarison"
      ]
    },
    {
      "cell_type": "code",
      "metadata": {
        "id": "g1_oGJZj1S2o"
      },
      "source": [
        "!python test_main.py --models_dirs=\"/content/drive/My Drive/Colab Notebooks/affordances/experiments/untrained_l2_ref_imagenet\" --models_dirs=\"/content/drive/My Drive/Colab Notebooks/affordances/experiments/l2_lamb_1_ref_imagnet\" --output_path=\"/content/drive/My Drive/Colab Notebooks/affordances/doc_test_results\" --name=\"l2_comparisons\" --cam_grads_images --scores_graph --target2alien_roc --alien2alien_roc "
      ],
      "execution_count": null,
      "outputs": []
    },
    {
      "cell_type": "markdown",
      "metadata": {
        "id": "xTKModib9dp6"
      },
      "source": [
        "l1 comparisons"
      ]
    },
    {
      "cell_type": "code",
      "metadata": {
        "id": "AKlKE9zH9ArR",
        "outputId": "e6b88281-7112-4161-c5f6-091392e85d08",
        "colab": {
          "base_uri": "https://localhost:8080/",
          "height": 180
        }
      },
      "source": [
        "!python test_main.py\n",
        "--models_dirs=\"/content/drive/My Drive/Colab Notebooks/affordances/experiments/untrained_l1_ref_imagenet\" --models_dirs=\"/content/drive/My Drive/Colab Notebooks/affordances/experiments/l1_lamb_1_ref_imagnet\" --models_dirs=\"/content/drive/My Drive/Colab Notebooks/affordances/experiments/l2_lamb_1_ref_imagnet\" --output_path=\"/content/drive/My Drive/Colab Notebooks/affordances/doc_test_results\" --name=\"l1_comparisons\" --cam_grads_images --scores_graph --target2alien_roc --alien2alien_roc "
      ],
      "execution_count": null,
      "outputs": [
        {
          "output_type": "error",
          "ename": "SyntaxError",
          "evalue": "ignored",
          "traceback": [
            "\u001b[0;36m  File \u001b[0;32m\"<ipython-input-9-f799b0212a38>\"\u001b[0;36m, line \u001b[0;32m2\u001b[0m\n\u001b[0;31m    --models_dirs=\"/content/drive/My Drive/Colab Notebooks/affordances/experiments/untrained_l1_ref_imagenet\" --models_dirs=\"/content/drive/My Drive/Colab Notebooks/affordances/experiments/l1_lamb_1_ref_imagnet\" --models_dirs=\"/content/drive/My Drive/Colab Notebooks/affordances/experiments/l2_lamb_1_ref_imagnet\" --output_path=\"/content/drive/My Drive/Colab Notebooks/affordances/doc_test_results\" --name=\"l1_comparisons\" --cam_grads_images --scores_graph --target2alien_roc --alien2alien_roc\u001b[0m\n\u001b[0m                                                                                                                                                                                                                                                                                                                                                                                                                                                                                                              ^\u001b[0m\n\u001b[0;31mSyntaxError\u001b[0m\u001b[0;31m:\u001b[0m can't assign to operator\n"
          ]
        }
      ]
    },
    {
      "cell_type": "markdown",
      "metadata": {
        "id": "eFqod9kq98LR"
      },
      "source": [
        "Features comparisons"
      ]
    },
    {
      "cell_type": "code",
      "metadata": {
        "id": "7EVK-6cx96hZ"
      },
      "source": [
        "!python test_main.py --models_dirs=\"/content/drive/My Drive/Colab Notebooks/affordances/experiments/untrained_l2_features_is_f1\" --models_dirs=\"/content/drive/My Drive/Colab Notebooks/affordances/experiments/l2_lamb_1_ref_imagnet_features_is_fc1\" --models_dirs=\"/content/drive/My Drive/Colab Notebooks/affordances/experiments/l2_lamb_1_ref_imagnet\" --output_path=\"/content/drive/My Drive/Colab Notebooks/affordances/doc_test_results\" --name=\"features_comparisons\" --cam_grads_images --scores_graph --target2alien_roc --alien2alien_roc "
      ],
      "execution_count": null,
      "outputs": []
    },
    {
      "cell_type": "markdown",
      "metadata": {
        "id": "QprDmBkr-IVi"
      },
      "source": [
        "reference data comparisons"
      ]
    },
    {
      "cell_type": "code",
      "metadata": {
        "id": "pNQqd-xa-Hup"
      },
      "source": [
        "!python test_main.py --models_dirs=\"/content/drive/My Drive/Colab Notebooks/affordances/experiments/l2_lamb_1_ref_imagnet\" --models_dirs=\"/content/drive/My Drive/Colab Notebooks/affordances/experiments/l2_lamb_1_ref_is_tar\" --output_path=\"/content/drive/My Drive/Colab Notebooks/affordances/doc_test_results\" --name=\"reference_data_comparisons\" --cam_grads_images --scores_graph --target2alien_roc --alien2alien_roc "
      ],
      "execution_count": null,
      "outputs": []
    }
  ]
}